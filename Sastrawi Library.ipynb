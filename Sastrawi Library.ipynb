{
  "nbformat": 4,
  "nbformat_minor": 0,
  "metadata": {
    "colab": {
      "name": "Sastrawi Library.ipynb",
      "provenance": [],
      "authorship_tag": "ABX9TyMXiwWdP/6kxVQQ82b8QWqE",
      "include_colab_link": true
    },
    "kernelspec": {
      "name": "python3",
      "display_name": "Python 3"
    },
    "language_info": {
      "name": "python"
    }
  },
  "cells": [
    {
      "cell_type": "markdown",
      "metadata": {
        "id": "view-in-github",
        "colab_type": "text"
      },
      "source": [
        "<a href=\"https://colab.research.google.com/github/FajriAditiyaPutra/Orbit-Ventura/blob/main/Sastrawi%20Library.ipynb\" target=\"_parent\"><img src=\"https://colab.research.google.com/assets/colab-badge.svg\" alt=\"Open In Colab\"/></a>"
      ]
    },
    {
      "cell_type": "markdown",
      "source": [
        "# Digunakan Untuk Menghilangkan kata imbuhan"
      ],
      "metadata": {
        "id": "XhA9WUQDe0yN"
      }
    },
    {
      "cell_type": "code",
      "execution_count": 1,
      "metadata": {
        "colab": {
          "base_uri": "https://localhost:8080/"
        },
        "id": "qOG9kpuic0pL",
        "outputId": "8f999b06-6e33-40ed-e6fa-0106fc64f4f6"
      },
      "outputs": [
        {
          "output_type": "stream",
          "name": "stdout",
          "text": [
            "Collecting sastrawi\n",
            "  Downloading Sastrawi-1.0.1-py2.py3-none-any.whl (209 kB)\n",
            "\u001b[?25l\r\u001b[K     |█▋                              | 10 kB 18.5 MB/s eta 0:00:01\r\u001b[K     |███▏                            | 20 kB 9.9 MB/s eta 0:00:01\r\u001b[K     |████▊                           | 30 kB 7.9 MB/s eta 0:00:01\r\u001b[K     |██████▎                         | 40 kB 9.0 MB/s eta 0:00:01\r\u001b[K     |███████▉                        | 51 kB 6.3 MB/s eta 0:00:01\r\u001b[K     |█████████▍                      | 61 kB 7.3 MB/s eta 0:00:01\r\u001b[K     |███████████                     | 71 kB 7.1 MB/s eta 0:00:01\r\u001b[K     |████████████▌                   | 81 kB 7.1 MB/s eta 0:00:01\r\u001b[K     |██████████████                  | 92 kB 7.9 MB/s eta 0:00:01\r\u001b[K     |███████████████▋                | 102 kB 8.5 MB/s eta 0:00:01\r\u001b[K     |█████████████████▏              | 112 kB 8.5 MB/s eta 0:00:01\r\u001b[K     |██████████████████▊             | 122 kB 8.5 MB/s eta 0:00:01\r\u001b[K     |████████████████████▎           | 133 kB 8.5 MB/s eta 0:00:01\r\u001b[K     |█████████████████████▉          | 143 kB 8.5 MB/s eta 0:00:01\r\u001b[K     |███████████████████████▍        | 153 kB 8.5 MB/s eta 0:00:01\r\u001b[K     |█████████████████████████       | 163 kB 8.5 MB/s eta 0:00:01\r\u001b[K     |██████████████████████████▋     | 174 kB 8.5 MB/s eta 0:00:01\r\u001b[K     |████████████████████████████▏   | 184 kB 8.5 MB/s eta 0:00:01\r\u001b[K     |█████████████████████████████▊  | 194 kB 8.5 MB/s eta 0:00:01\r\u001b[K     |███████████████████████████████▎| 204 kB 8.5 MB/s eta 0:00:01\r\u001b[K     |████████████████████████████████| 209 kB 8.5 MB/s \n",
            "\u001b[?25hInstalling collected packages: sastrawi\n",
            "Successfully installed sastrawi-1.0.1\n"
          ]
        }
      ],
      "source": [
        "!pip install sastrawi"
      ]
    },
    {
      "cell_type": "code",
      "source": [
        "from Sastrawi.Stemmer.StemmerFactory import StemmerFactory"
      ],
      "metadata": {
        "id": "H5DtOQofdPDI"
      },
      "execution_count": 6,
      "outputs": []
    },
    {
      "cell_type": "code",
      "source": [
        "Factory = StemmerFactory()\n",
        "Stemmer = Factory.create_stemmer()"
      ],
      "metadata": {
        "id": "PSQe39S-eFeR"
      },
      "execution_count": 7,
      "outputs": []
    },
    {
      "cell_type": "code",
      "source": [
        "sentence = 'Perekonomian Indonesia Sedang Dalam Masa Pertumbuhan'\n",
        "output = Stemmer.stem(sentence)\n",
        "\n",
        "print (output)"
      ],
      "metadata": {
        "colab": {
          "base_uri": "https://localhost:8080/"
        },
        "id": "OMgxIf7deTCk",
        "outputId": "7682b0e9-ef0e-43d7-bc2c-f53c6ab4f734"
      },
      "execution_count": 9,
      "outputs": [
        {
          "output_type": "stream",
          "name": "stdout",
          "text": [
            "ekonomi indonesia sedang dalam masa tumbuh\n"
          ]
        }
      ]
    }
  ]
}