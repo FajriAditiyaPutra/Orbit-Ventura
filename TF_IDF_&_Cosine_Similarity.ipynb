{
  "nbformat": 4,
  "nbformat_minor": 0,
  "metadata": {
    "colab": {
      "name": "RB-04_TF-IDF & Cosine Similarity.ipynb",
      "provenance": [],
      "collapsed_sections": [],
      "include_colab_link": true
    },
    "kernelspec": {
      "name": "python3",
      "display_name": "Python 3"
    },
    "language_info": {
      "name": "python"
    },
    "accelerator": "GPU"
  },
  "cells": [
    {
      "cell_type": "markdown",
      "metadata": {
        "id": "view-in-github",
        "colab_type": "text"
      },
      "source": [
        "<a href=\"https://colab.research.google.com/github/FajriAditiyaPutra/Orbit-Ventura/blob/main/TF_IDF_%26_Cosine_Similarity.ipynb\" target=\"_parent\"><img src=\"https://colab.research.google.com/assets/colab-badge.svg\" alt=\"Open In Colab\"/></a>"
      ]
    },
    {
      "cell_type": "code",
      "metadata": {
        "id": "RP6hW8NDVzaI"
      },
      "source": [
        "import nltk\n",
        "from nltk.tokenize import word_tokenize\n",
        "from gensim.models import Word2Vec\n",
        "import re"
      ],
      "execution_count": 1,
      "outputs": []
    },
    {
      "cell_type": "code",
      "source": [
        "nltk.download('punkt')"
      ],
      "metadata": {
        "colab": {
          "base_uri": "https://localhost:8080/"
        },
        "id": "lGTmmwDy1kBg",
        "outputId": "de1de72d-37b9-4231-c4fa-1ae123d73ec0"
      },
      "execution_count": 2,
      "outputs": [
        {
          "output_type": "stream",
          "name": "stdout",
          "text": [
            "[nltk_data] Downloading package punkt to /root/nltk_data...\n",
            "[nltk_data]   Unzipping tokenizers/punkt.zip.\n"
          ]
        },
        {
          "output_type": "execute_result",
          "data": {
            "text/plain": [
              "True"
            ]
          },
          "metadata": {},
          "execution_count": 2
        }
      ]
    },
    {
      "cell_type": "markdown",
      "source": [
        "##Bag of words"
      ],
      "metadata": {
        "id": "sI-T8JgQLDDN"
      }
    },
    {
      "cell_type": "code",
      "metadata": {
        "id": "rmfhSdxekrEh"
      },
      "source": [
        "komentar = [\n",
        "          \"Pengiriman cepat, kualitas produk baik, penjual ramah\",\n",
        "          \"Produk tidak sesuai gambar, tapi memang sesuai harga\",\n",
        "          \"penjual responsif dan ramah, produk berfungsi dengan baik\",\n",
        "          \"Lumayan untuk harga segini sudah dapat produk bagus\",\n",
        "          \"Tidak sesuai ekspektasi, produk berbeda dengan gambar\",    \n",
        "]"
      ],
      "execution_count": 3,
      "outputs": []
    },
    {
      "cell_type": "code",
      "metadata": {
        "colab": {
          "base_uri": "https://localhost:8080/"
        },
        "id": "QX4OeAmEmsdL",
        "outputId": "354bde0a-b7d1-42ff-eb7b-fd467f6a3a40"
      },
      "source": [
        "komentar = [re.sub(r'[,.]', '', k) for k in komentar]\n",
        "komentar"
      ],
      "execution_count": 4,
      "outputs": [
        {
          "output_type": "execute_result",
          "data": {
            "text/plain": [
              "['Pengiriman cepat kualitas produk baik penjual ramah',\n",
              " 'Produk tidak sesuai gambar tapi memang sesuai harga',\n",
              " 'penjual responsif dan ramah produk berfungsi dengan baik',\n",
              " 'Lumayan untuk harga segini sudah dapat produk bagus',\n",
              " 'Tidak sesuai ekspektasi produk berbeda dengan gambar']"
            ]
          },
          "metadata": {},
          "execution_count": 4
        }
      ]
    },
    {
      "cell_type": "code",
      "metadata": {
        "colab": {
          "base_uri": "https://localhost:8080/"
        },
        "id": "KJPae-LBmH3N",
        "outputId": "1d976278-8eec-435b-b529-7dd97efce07c"
      },
      "source": [
        "corpus = [word_tokenize(k.lower()) for k in komentar]\n",
        "print(corpus)"
      ],
      "execution_count": 5,
      "outputs": [
        {
          "output_type": "stream",
          "name": "stdout",
          "text": [
            "[['pengiriman', 'cepat', 'kualitas', 'produk', 'baik', 'penjual', 'ramah'], ['produk', 'tidak', 'sesuai', 'gambar', 'tapi', 'memang', 'sesuai', 'harga'], ['penjual', 'responsif', 'dan', 'ramah', 'produk', 'berfungsi', 'dengan', 'baik'], ['lumayan', 'untuk', 'harga', 'segini', 'sudah', 'dapat', 'produk', 'bagus'], ['tidak', 'sesuai', 'ekspektasi', 'produk', 'berbeda', 'dengan', 'gambar']]\n"
          ]
        }
      ]
    },
    {
      "cell_type": "markdown",
      "metadata": {
        "id": "ilqs6oh8nJyx"
      },
      "source": [
        "## Train Word2Vec Model"
      ]
    },
    {
      "cell_type": "code",
      "metadata": {
        "id": "Zr3eUJ0Tmfmt"
      },
      "source": [
        "model = Word2Vec(corpus, size=500, window=5, workers=2, min_count=1, iter=100)\n"
      ],
      "execution_count": 6,
      "outputs": []
    },
    {
      "cell_type": "markdown",
      "metadata": {
        "id": "W3GOj9NDobAK"
      },
      "source": [
        "## Menyimpan model"
      ]
    },
    {
      "cell_type": "code",
      "metadata": {
        "id": "4me7Ne3gn3OM"
      },
      "source": [
        "model.save(\"komentar_app.w2v\")"
      ],
      "execution_count": 7,
      "outputs": []
    },
    {
      "cell_type": "markdown",
      "metadata": {
        "id": "6_RJ3olWocLH"
      },
      "source": [
        "## Load Model\n",
        "> Menggunakan pretrained model (model yang sudah dibuat sebelumnya)"
      ]
    },
    {
      "cell_type": "code",
      "metadata": {
        "id": "LIRAsG-Jn9Hn"
      },
      "source": [
        "model = Word2Vec.load(\"komentar_app.w2v\")\n"
      ],
      "execution_count": 8,
      "outputs": []
    },
    {
      "cell_type": "markdown",
      "metadata": {
        "id": "X6jijQCcorCg"
      },
      "source": [
        "## Menampilkan Informasi dari Model yang Sudah Dibuat"
      ]
    },
    {
      "cell_type": "code",
      "metadata": {
        "id": "XCc72C54ot_w"
      },
      "source": [
        "w2v = model.wv"
      ],
      "execution_count": 9,
      "outputs": []
    },
    {
      "cell_type": "code",
      "metadata": {
        "colab": {
          "base_uri": "https://localhost:8080/"
        },
        "id": "ZKrvWt9Io422",
        "outputId": "b0f291a9-ca70-460b-c3cd-211f9320638f"
      },
      "source": [
        "w2v.index2word"
      ],
      "execution_count": 10,
      "outputs": [
        {
          "output_type": "execute_result",
          "data": {
            "text/plain": [
              "['produk',\n",
              " 'sesuai',\n",
              " 'baik',\n",
              " 'penjual',\n",
              " 'ramah',\n",
              " 'tidak',\n",
              " 'gambar',\n",
              " 'harga',\n",
              " 'dengan',\n",
              " 'pengiriman',\n",
              " 'cepat',\n",
              " 'kualitas',\n",
              " 'tapi',\n",
              " 'memang',\n",
              " 'responsif',\n",
              " 'dan',\n",
              " 'berfungsi',\n",
              " 'lumayan',\n",
              " 'untuk',\n",
              " 'segini',\n",
              " 'sudah',\n",
              " 'dapat',\n",
              " 'bagus',\n",
              " 'ekspektasi',\n",
              " 'berbeda']"
            ]
          },
          "metadata": {},
          "execution_count": 10
        }
      ]
    },
    {
      "cell_type": "code",
      "metadata": {
        "colab": {
          "base_uri": "https://localhost:8080/"
        },
        "id": "cINrhrKWpDwK",
        "outputId": "0dff48da-26c8-4962-f24c-d6a2d08fd721"
      },
      "source": [
        "# Menampilkan vector yang sudah dibuat dari dokumen teks\n",
        "w2v.vectors"
      ],
      "execution_count": 11,
      "outputs": [
        {
          "output_type": "execute_result",
          "data": {
            "text/plain": [
              "array([[ 1.05020525e-04, -5.06561657e-04, -4.15748829e-04, ...,\n",
              "         9.41276725e-04,  1.80847739e-04, -3.82930681e-04],\n",
              "       [ 9.90649351e-05,  1.49152751e-04,  9.40466125e-04, ...,\n",
              "        -4.44512771e-05, -3.63794912e-04, -1.46704115e-04],\n",
              "       [ 8.41667003e-04,  9.08968272e-04,  5.91095013e-04, ...,\n",
              "         8.61434557e-04,  1.99060654e-04, -3.88535584e-04],\n",
              "       ...,\n",
              "       [-9.58619348e-04,  2.85476533e-04,  7.02289341e-04, ...,\n",
              "         2.72111531e-04, -8.43309215e-04,  7.71606690e-04],\n",
              "       [-3.74710129e-04, -8.33111349e-04, -6.42378523e-04, ...,\n",
              "         3.31467600e-04,  2.92487646e-04,  4.21287987e-04],\n",
              "       [-4.00152960e-04,  4.43377503e-04, -9.93486377e-04, ...,\n",
              "        -5.19894296e-04,  7.06036342e-04, -6.55895448e-04]], dtype=float32)"
            ]
          },
          "metadata": {},
          "execution_count": 11
        }
      ]
    },
    {
      "cell_type": "code",
      "metadata": {
        "colab": {
          "base_uri": "https://localhost:8080/"
        },
        "id": "lyQPHKDQpfLi",
        "outputId": "c0e91cde-13d3-4979-f140-313f49c9d673"
      },
      "source": [
        "# Menampilkan ukuran vektor\n",
        "w2v.vector_size"
      ],
      "execution_count": 12,
      "outputs": [
        {
          "output_type": "execute_result",
          "data": {
            "text/plain": [
              "500"
            ]
          },
          "metadata": {},
          "execution_count": 12
        }
      ]
    },
    {
      "cell_type": "code",
      "metadata": {
        "colab": {
          "base_uri": "https://localhost:8080/"
        },
        "id": "u1htiGu_p36V",
        "outputId": "06fcfed4-13e3-47cf-c89a-e790753ba221"
      },
      "source": [
        "# Menampilkan vektor kata yang terdapat pada vocabulary\n",
        "w2v['berbeda']"
      ],
      "execution_count": 13,
      "outputs": [
        {
          "output_type": "execute_result",
          "data": {
            "text/plain": [
              "array([-4.00152960e-04,  4.43377503e-04, -9.93486377e-04, -9.64306761e-04,\n",
              "        7.90706894e-04,  7.79431954e-04,  3.50133370e-04, -8.39780085e-04,\n",
              "       -3.39918130e-04,  5.88896568e-04,  7.48192106e-05,  1.53653367e-04,\n",
              "       -4.58092691e-04, -6.59010839e-04, -1.45646904e-04,  2.17428824e-04,\n",
              "       -6.37803052e-04, -2.28911274e-04,  7.20172611e-05,  2.90869648e-04,\n",
              "        9.15526354e-04, -5.72056997e-05, -3.74949828e-04,  2.39900182e-05,\n",
              "       -2.28364006e-04, -8.64864094e-04,  4.13243775e-04,  3.15488025e-04,\n",
              "       -3.02079279e-04, -9.53412440e-04, -9.38656682e-04,  7.40212388e-04,\n",
              "       -2.39386027e-05, -6.22910331e-04, -9.16269128e-05,  6.03377739e-05,\n",
              "       -7.75929366e-04, -4.40764694e-07, -5.56586543e-04, -1.56247290e-04,\n",
              "       -8.97498976e-05, -1.46145481e-04,  3.92578522e-06, -1.08648797e-04,\n",
              "        8.24483694e-04, -6.43595704e-05,  6.87133463e-04, -7.06287101e-04,\n",
              "        6.21854735e-04, -1.21167839e-04, -8.28107528e-04,  3.22143431e-04,\n",
              "        6.02440268e-04,  4.22967336e-04,  1.80347604e-04, -9.59303405e-04,\n",
              "       -2.45318137e-04,  3.39769351e-04, -3.22246284e-04,  4.06992680e-04,\n",
              "       -5.14955609e-05, -2.46313895e-04,  9.12046060e-04,  8.60641361e-04,\n",
              "       -1.33267358e-05,  9.21465398e-04,  5.68995456e-05,  6.47445093e-04,\n",
              "        5.68222138e-04, -1.97016125e-05, -5.91878452e-05,  3.65955816e-06,\n",
              "       -1.32672998e-04, -6.81003381e-04,  5.21581154e-04,  1.00032531e-03,\n",
              "       -5.85585076e-04,  1.00832246e-03, -3.73748771e-04,  2.08408710e-05,\n",
              "        5.89813921e-04, -8.82383320e-04, -3.91134381e-05, -2.23870506e-06,\n",
              "       -5.53043792e-04, -2.62362388e-04,  5.92004275e-04, -2.01925286e-04,\n",
              "        3.89129593e-04,  6.76261436e-04,  9.38945217e-04,  2.70741177e-04,\n",
              "       -7.26098006e-05, -8.21965456e-04,  6.41873281e-04, -7.67130870e-04,\n",
              "        5.21244714e-04,  6.20968756e-04,  5.05932199e-04, -9.69971530e-04,\n",
              "       -6.26713445e-04, -4.39100346e-04,  2.59114953e-04,  6.96692616e-04,\n",
              "        5.33503713e-04, -3.44685104e-04, -9.70137306e-04, -7.22437399e-04,\n",
              "        9.76588577e-04, -2.95911857e-04, -7.73623702e-04, -7.71912164e-04,\n",
              "        7.18707219e-04, -3.35826684e-04,  1.20907833e-04, -1.26147454e-04,\n",
              "        3.79508972e-04,  9.59546305e-04, -6.42420608e-04,  9.22761799e-04,\n",
              "        4.48208768e-04, -5.72442659e-04, -3.67094501e-04,  6.54826930e-04,\n",
              "        9.01971271e-06,  6.72925205e-04, -9.66129475e-04,  6.81338774e-04,\n",
              "        3.41191393e-04, -8.35231796e-04,  4.18951677e-04, -8.74266203e-04,\n",
              "        6.50546455e-04,  1.00708765e-03,  8.89159855e-04, -2.89396470e-04,\n",
              "       -7.41083641e-04, -9.26370325e-04, -7.83222495e-04, -1.14504241e-04,\n",
              "       -6.63027808e-04, -8.85101384e-04, -3.14450241e-04,  3.54128948e-04,\n",
              "       -6.84949337e-04,  2.59314023e-04,  3.93403257e-04, -9.25444998e-04,\n",
              "       -7.68866521e-05,  8.65338370e-04, -7.45343219e-04, -5.43545582e-04,\n",
              "        1.91403276e-04, -4.02677833e-04,  8.75746628e-05,  9.53443741e-05,\n",
              "        9.67120752e-04, -1.22631463e-04, -4.34669870e-04,  3.93257433e-05,\n",
              "        9.90917906e-04,  3.64794796e-05,  7.64927245e-05,  7.29877909e-04,\n",
              "        9.83761391e-04, -6.02903892e-04,  2.35860818e-04, -1.10615954e-04,\n",
              "        5.28695644e-04, -8.93361226e-04, -4.57566028e-04,  5.10064419e-04,\n",
              "        4.34801739e-04, -2.67077907e-04,  8.00658425e-04, -4.91489714e-04,\n",
              "       -2.85890303e-04, -3.95875191e-04,  4.85827914e-04,  6.24056964e-04,\n",
              "       -3.36339086e-04,  6.00876287e-04,  3.84322397e-04,  6.58590172e-04,\n",
              "       -7.57992093e-04,  6.11427997e-04,  4.60592884e-04, -4.81357652e-04,\n",
              "       -7.66518118e-04,  2.31911163e-05,  4.51235101e-05, -6.22100837e-04,\n",
              "       -2.93913152e-04, -2.37203843e-04,  4.60155898e-05, -4.17890755e-04,\n",
              "        2.64778559e-04,  5.18807443e-04,  3.94791889e-04,  4.80812363e-04,\n",
              "        5.35904728e-05,  9.13817203e-04, -6.21557119e-04,  4.49264509e-04,\n",
              "        7.52074586e-04,  8.66577786e-04, -8.40241381e-04, -7.82749441e-04,\n",
              "        4.80976654e-04,  9.39548248e-04, -8.34114780e-06,  6.04938323e-05,\n",
              "       -7.55172281e-04, -7.54733919e-04,  2.00000271e-04, -9.52975592e-04,\n",
              "        7.96959648e-05, -3.95766023e-04,  3.44733562e-04,  6.96325093e-04,\n",
              "       -4.85720026e-04,  8.11923703e-04, -7.88424513e-04,  4.90922888e-04,\n",
              "        9.63908562e-04, -3.15215379e-06, -4.10958775e-04, -1.00156188e-03,\n",
              "       -2.72794801e-04, -7.31171865e-04, -2.03424119e-04,  3.88950546e-04,\n",
              "        6.37194316e-04, -7.87871890e-04,  1.50616528e-04, -1.98502195e-04,\n",
              "       -2.90137192e-04, -5.30889316e-04, -9.01660125e-04,  2.21513968e-04,\n",
              "        2.89922522e-04,  1.15231662e-04,  5.32239326e-04, -8.83323897e-04,\n",
              "        4.62274620e-04,  7.80264963e-05, -1.01662758e-04, -1.01001491e-03,\n",
              "        8.68550618e-04,  1.86660400e-04, -3.89318593e-04, -4.16480645e-04,\n",
              "        9.17706639e-04,  8.35291634e-04,  3.70623835e-04, -4.41322161e-04,\n",
              "        5.80806227e-05,  1.35629991e-04,  5.77187566e-05,  3.89902358e-04,\n",
              "        8.32869613e-04, -9.26328357e-05, -5.84921981e-05,  4.70366707e-04,\n",
              "       -6.67219341e-04,  9.66235530e-04, -2.89320189e-04, -8.87039350e-04,\n",
              "       -2.25064927e-04, -1.01705431e-03, -7.01115874e-04,  7.48945691e-04,\n",
              "       -4.44699544e-04,  6.56748598e-04,  1.71436564e-04, -6.25106506e-04,\n",
              "        2.83459813e-04,  9.12072894e-04,  7.98924302e-04, -1.14761293e-04,\n",
              "        2.15138789e-04,  4.27062099e-04, -6.95130264e-04, -5.42552210e-04,\n",
              "        3.01003456e-05,  5.60629880e-04, -7.96227832e-04, -4.94902954e-04,\n",
              "       -5.47427277e-04,  5.24109520e-04, -3.48806119e-04, -7.15478673e-04,\n",
              "        6.50243659e-04,  8.63474444e-04,  4.14445502e-04,  2.16420056e-04,\n",
              "        6.82256592e-04, -6.39744510e-04, -5.14842512e-04, -1.76668429e-04,\n",
              "        4.91170038e-04, -6.79055287e-04,  1.27069361e-04, -2.32844279e-04,\n",
              "       -6.67050481e-05,  7.18921481e-04, -9.68599517e-04, -3.83731618e-04,\n",
              "        4.18660202e-04,  5.39905857e-04,  9.58028715e-04,  9.13757947e-04,\n",
              "        2.37899178e-04,  2.93899822e-04, -6.98950025e-04,  9.07623675e-04,\n",
              "       -5.21181733e-04,  4.61072050e-04, -8.37176689e-04, -3.30979266e-04,\n",
              "        1.27920095e-04, -2.93972873e-04, -6.08461793e-04, -8.98762490e-04,\n",
              "       -5.44686394e-04,  7.24313664e-04,  6.96897565e-04, -6.93203008e-04,\n",
              "        2.72595324e-04, -7.74082320e-04,  8.70301039e-04,  6.16169767e-04,\n",
              "        2.08947531e-04,  3.00173822e-04,  9.25628468e-04,  6.41873194e-05,\n",
              "        7.81284543e-05, -1.85731958e-04,  3.67070752e-04, -8.50888260e-04,\n",
              "       -6.19567407e-04,  5.05832781e-04,  5.69398922e-04, -8.14929430e-04,\n",
              "       -5.87417162e-04, -7.68689351e-05,  2.33633866e-04,  6.89136446e-04,\n",
              "       -5.52198442e-04,  1.12826659e-04, -7.04112754e-04,  5.28382021e-04,\n",
              "       -2.66708928e-04,  4.61851974e-04, -8.19950947e-04,  5.39236120e-04,\n",
              "        3.80269776e-05, -4.06158768e-04,  9.00920655e-04, -4.97892834e-05,\n",
              "        4.68763174e-04, -8.27351701e-04,  7.35080801e-04,  5.89389238e-04,\n",
              "       -5.47537929e-04,  6.86164713e-05, -5.72954712e-04, -8.83706205e-04,\n",
              "        8.86410708e-04,  9.12517484e-04,  1.02352606e-04, -4.95449407e-04,\n",
              "       -6.48314541e-04, -9.33650299e-04, -4.55653004e-04,  2.79506698e-04,\n",
              "       -5.24989155e-04, -2.94079218e-04, -6.25382934e-04,  1.57178321e-04,\n",
              "        2.48457742e-04,  5.02466050e-04,  7.56049179e-04, -2.55044171e-04,\n",
              "        4.87710378e-04, -5.64274029e-04, -8.17652734e-04, -5.58609143e-04,\n",
              "       -3.83343518e-04,  8.13512073e-04, -1.17567484e-04,  4.08407766e-04,\n",
              "        8.36451727e-06, -1.40182034e-04,  9.86019149e-04,  2.65477749e-04,\n",
              "        6.05645706e-04,  7.89182959e-04,  8.76473612e-04, -8.28130520e-04,\n",
              "       -3.87181790e-04,  2.46844720e-04,  1.60296535e-04,  4.28759435e-04,\n",
              "       -6.23916101e-04, -2.42976239e-04, -5.12347848e-04, -7.37815746e-04,\n",
              "       -1.64982368e-04,  2.98601488e-04, -2.34671097e-04,  8.97015037e-04,\n",
              "        4.76864370e-04,  8.65688547e-04,  6.26563618e-04,  1.86049801e-05,\n",
              "       -7.33179797e-04, -1.39479700e-04,  2.07399498e-04,  2.50025652e-04,\n",
              "        3.46268411e-04,  6.43456180e-04,  2.41552552e-04,  9.41348670e-04,\n",
              "       -8.12821614e-04,  9.20570805e-04,  6.36275334e-04, -7.14064750e-04,\n",
              "        9.93679394e-04, -1.20847413e-04,  1.18157317e-04, -2.66990042e-04,\n",
              "        9.84666636e-04,  3.00914544e-04,  7.80229515e-04,  3.39770981e-04,\n",
              "        1.09912515e-04, -2.17004708e-04, -9.60206205e-04,  7.99529429e-04,\n",
              "        4.21051751e-04, -6.04420093e-05,  2.86176626e-04, -3.09589697e-04,\n",
              "        2.63460854e-04, -8.58877494e-04,  3.30844574e-04, -2.38939145e-04,\n",
              "        3.85949825e-04, -7.80148315e-04,  5.10657439e-04, -6.18033810e-04,\n",
              "       -9.87809733e-04,  2.91317865e-05,  8.27111071e-04, -6.66136853e-04,\n",
              "       -8.52940371e-04,  5.37666492e-04, -4.29055362e-05, -1.07360567e-04,\n",
              "       -9.83713195e-04,  5.36452804e-04,  4.46257647e-04, -2.59894878e-04,\n",
              "       -9.32208612e-04,  3.62044200e-04,  7.85453769e-04,  6.53636467e-04,\n",
              "       -2.78704210e-05, -6.74590236e-04, -6.39228791e-04, -4.70507890e-04,\n",
              "        5.05537726e-04,  3.27867019e-04, -3.51259339e-04,  8.66629067e-04,\n",
              "       -8.99976410e-04,  1.86678022e-04, -9.61712154e-04,  2.51389138e-04,\n",
              "        2.35521875e-04,  1.76783287e-04, -6.99216558e-04, -7.08300213e-04,\n",
              "        5.46612195e-04,  3.63951782e-04,  9.16667806e-04,  4.00113000e-04,\n",
              "        7.44511024e-04, -4.55494097e-04, -9.06738569e-04, -4.83663607e-04,\n",
              "        2.51403981e-04, -8.24971939e-04, -2.84281035e-04, -2.33238854e-04,\n",
              "        9.88940708e-04, -5.19894296e-04,  7.06036342e-04, -6.55895448e-04],\n",
              "      dtype=float32)"
            ]
          },
          "metadata": {},
          "execution_count": 13
        }
      ]
    },
    {
      "cell_type": "markdown",
      "metadata": {
        "id": "LYb7IP93qin1"
      },
      "source": [
        "### Similar Word"
      ]
    },
    {
      "cell_type": "code",
      "metadata": {
        "colab": {
          "base_uri": "https://localhost:8080/"
        },
        "id": "-0xUDnlFp-6n",
        "outputId": "e02c432c-571d-41a6-f358-3b492193e06e"
      },
      "source": [
        "# Menampilkan kata yang memiliki kemiripan makna dengan kata `produk`\n",
        "# atau dalam kata lain yaitu melihat hubungan semantik dari kata `produk` dengan kata lainnya.\n",
        "w2v.similar_by_word(\"penjual\", topn=3)"
      ],
      "execution_count": 14,
      "outputs": [
        {
          "output_type": "execute_result",
          "data": {
            "text/plain": [
              "[('dengan', 0.11019974946975708),\n",
              " ('untuk', 0.08312555402517319),\n",
              " ('sesuai', 0.07283630967140198)]"
            ]
          },
          "metadata": {},
          "execution_count": 14
        }
      ]
    },
    {
      "cell_type": "markdown",
      "metadata": {
        "id": "AZ7e5HNHte2X"
      },
      "source": [
        "---"
      ]
    },
    {
      "cell_type": "markdown",
      "metadata": {
        "id": "hRyse1QFzwUf"
      },
      "source": [
        "## TF-IDF"
      ]
    },
    {
      "cell_type": "code",
      "metadata": {
        "colab": {
          "base_uri": "https://localhost:8080/"
        },
        "id": "AEnPHEPH1uzL",
        "outputId": "e0262eca-59c0-404a-b61f-6f350995694e"
      },
      "source": [
        "# Menggunakan dataset yang sama seperti pada Word2vec. \n",
        "komentar"
      ],
      "execution_count": 15,
      "outputs": [
        {
          "output_type": "execute_result",
          "data": {
            "text/plain": [
              "['Pengiriman cepat kualitas produk baik penjual ramah',\n",
              " 'Produk tidak sesuai gambar tapi memang sesuai harga',\n",
              " 'penjual responsif dan ramah produk berfungsi dengan baik',\n",
              " 'Lumayan untuk harga segini sudah dapat produk bagus',\n",
              " 'Tidak sesuai ekspektasi produk berbeda dengan gambar']"
            ]
          },
          "metadata": {},
          "execution_count": 15
        }
      ]
    },
    {
      "cell_type": "code",
      "metadata": {
        "id": "DYJzS0h9shOE"
      },
      "source": [
        "# Import Library yang dibutuhkan\n",
        "from sklearn.feature_extraction.text import TfidfVectorizer\n",
        "import pandas as pd\n",
        "\n",
        "\n",
        "vectorizer = TfidfVectorizer()\n",
        "result = vectorizer.fit_transform(komentar) #tfidf"
      ],
      "execution_count": 16,
      "outputs": []
    },
    {
      "cell_type": "code",
      "metadata": {
        "colab": {
          "base_uri": "https://localhost:8080/"
        },
        "id": "Ev0sewgU15Be",
        "outputId": "c6518e76-92aa-4399-95a6-1e5af9351ada"
      },
      "source": [
        "# Menampilkan nama fitur / token dari dataset\n",
        "print(vectorizer.get_feature_names())"
      ],
      "execution_count": 17,
      "outputs": [
        {
          "output_type": "stream",
          "name": "stdout",
          "text": [
            "['bagus', 'baik', 'berbeda', 'berfungsi', 'cepat', 'dan', 'dapat', 'dengan', 'ekspektasi', 'gambar', 'harga', 'kualitas', 'lumayan', 'memang', 'pengiriman', 'penjual', 'produk', 'ramah', 'responsif', 'segini', 'sesuai', 'sudah', 'tapi', 'tidak', 'untuk']\n"
          ]
        },
        {
          "output_type": "stream",
          "name": "stderr",
          "text": [
            "/usr/local/lib/python3.7/dist-packages/sklearn/utils/deprecation.py:87: FutureWarning: Function get_feature_names is deprecated; get_feature_names is deprecated in 1.0 and will be removed in 1.2. Please use get_feature_names_out instead.\n",
            "  warnings.warn(msg, category=FutureWarning)\n"
          ]
        }
      ]
    },
    {
      "cell_type": "markdown",
      "source": [
        ""
      ],
      "metadata": {
        "id": "ferKIiWs4QXU"
      }
    },
    {
      "cell_type": "code",
      "metadata": {
        "colab": {
          "base_uri": "https://localhost:8080/"
        },
        "id": "zKAohjpG10w5",
        "outputId": "0f4d56fa-3399-4f02-de8a-451bc93ea8e1"
      },
      "source": [
        "# Menampilkan hasil vektor kata\n",
        "print(result)"
      ],
      "execution_count": 18,
      "outputs": [
        {
          "output_type": "stream",
          "name": "stdout",
          "text": [
            "  (0, 17)\t0.354491454113195\n",
            "  (0, 15)\t0.354491454113195\n",
            "  (0, 1)\t0.354491454113195\n",
            "  (0, 16)\t0.20936836335513379\n",
            "  (0, 11)\t0.4393830201954138\n",
            "  (0, 4)\t0.4393830201954138\n",
            "  (0, 14)\t0.4393830201954138\n",
            "  (1, 10)\t0.3097679976786992\n",
            "  (1, 13)\t0.38394944871221537\n",
            "  (1, 22)\t0.38394944871221537\n",
            "  (1, 9)\t0.3097679976786992\n",
            "  (1, 20)\t0.6195359953573985\n",
            "  (1, 23)\t0.3097679976786992\n",
            "  (1, 16)\t0.18295396952806844\n",
            "  (2, 7)\t0.33411913201775406\n",
            "  (2, 3)\t0.4141320520639498\n",
            "  (2, 5)\t0.4141320520639498\n",
            "  (2, 18)\t0.4141320520639498\n",
            "  (2, 17)\t0.33411913201775406\n",
            "  (2, 15)\t0.33411913201775406\n",
            "  (2, 1)\t0.33411913201775406\n",
            "  (2, 16)\t0.1973361417447812\n",
            "  (3, 0)\t0.3813025879625254\n",
            "  (3, 6)\t0.3813025879625254\n",
            "  (3, 21)\t0.3813025879625254\n",
            "  (3, 19)\t0.3813025879625254\n",
            "  (3, 24)\t0.3813025879625254\n",
            "  (3, 12)\t0.3813025879625254\n",
            "  (3, 10)\t0.30763252709183986\n",
            "  (3, 16)\t0.18169272619885407\n",
            "  (4, 2)\t0.4549817658305219\n",
            "  (4, 8)\t0.4549817658305219\n",
            "  (4, 7)\t0.36707642387391093\n",
            "  (4, 9)\t0.36707642387391093\n",
            "  (4, 20)\t0.36707642387391093\n",
            "  (4, 23)\t0.36707642387391093\n",
            "  (4, 16)\t0.21680124922897376\n"
          ]
        }
      ]
    },
    {
      "cell_type": "markdown",
      "metadata": {
        "id": "gvtQRTZX8Llu"
      },
      "source": [
        "**(4, 16)\t0.21680124922897376**\n",
        "Artinya:\n",
        "> Terdapat kata dengan index ke-16 pada `vectorizer.get_feature_names()` dalam dokumen ke-5 (index dari nol)\n",
        ">\n",
        "> dengan bobot TF-IDF 0.21680124922897376"
      ]
    },
    {
      "cell_type": "code",
      "metadata": {
        "colab": {
          "base_uri": "https://localhost:8080/"
        },
        "id": "Cx-59-0B8POw",
        "outputId": "04d84cd6-d9dd-423a-d2de-881c415c0bcc"
      },
      "source": [
        "print(f\"Teks dokumen ke-{4+1}:\\n{komentar[4]}\")\n",
        "print(f\"Fitur Name ke-16: {vectorizer.get_feature_names()[16]}\")"
      ],
      "execution_count": 19,
      "outputs": [
        {
          "output_type": "stream",
          "name": "stdout",
          "text": [
            "Teks dokumen ke-5:\n",
            "Tidak sesuai ekspektasi produk berbeda dengan gambar\n",
            "Fitur Name ke-16: produk\n"
          ]
        },
        {
          "output_type": "stream",
          "name": "stderr",
          "text": [
            "/usr/local/lib/python3.7/dist-packages/sklearn/utils/deprecation.py:87: FutureWarning: Function get_feature_names is deprecated; get_feature_names is deprecated in 1.0 and will be removed in 1.2. Please use get_feature_names_out instead.\n",
            "  warnings.warn(msg, category=FutureWarning)\n"
          ]
        }
      ]
    },
    {
      "cell_type": "markdown",
      "metadata": {
        "id": "QDZxrB4p8STH"
      },
      "source": [
        "> Dapat diketahui bahwa di dalam dokumen ke-1 (index ke-0) terdapat kata produk"
      ]
    },
    {
      "cell_type": "code",
      "metadata": {
        "id": "SDBhuCu-2V7Z",
        "colab": {
          "base_uri": "https://localhost:8080/"
        },
        "outputId": "f8e21896-f3e8-47ef-db87-4cec877154dd"
      },
      "source": [
        "# Menampilkan hasil TF-IDF dalam bentuk list dua dimensi\n",
        "result.todense()"
      ],
      "execution_count": 20,
      "outputs": [
        {
          "output_type": "execute_result",
          "data": {
            "text/plain": [
              "matrix([[0.        , 0.35449145, 0.        , 0.        , 0.43938302,\n",
              "         0.        , 0.        , 0.        , 0.        , 0.        ,\n",
              "         0.        , 0.43938302, 0.        , 0.        , 0.43938302,\n",
              "         0.35449145, 0.20936836, 0.35449145, 0.        , 0.        ,\n",
              "         0.        , 0.        , 0.        , 0.        , 0.        ],\n",
              "        [0.        , 0.        , 0.        , 0.        , 0.        ,\n",
              "         0.        , 0.        , 0.        , 0.        , 0.309768  ,\n",
              "         0.309768  , 0.        , 0.        , 0.38394945, 0.        ,\n",
              "         0.        , 0.18295397, 0.        , 0.        , 0.        ,\n",
              "         0.619536  , 0.        , 0.38394945, 0.309768  , 0.        ],\n",
              "        [0.        , 0.33411913, 0.        , 0.41413205, 0.        ,\n",
              "         0.41413205, 0.        , 0.33411913, 0.        , 0.        ,\n",
              "         0.        , 0.        , 0.        , 0.        , 0.        ,\n",
              "         0.33411913, 0.19733614, 0.33411913, 0.41413205, 0.        ,\n",
              "         0.        , 0.        , 0.        , 0.        , 0.        ],\n",
              "        [0.38130259, 0.        , 0.        , 0.        , 0.        ,\n",
              "         0.        , 0.38130259, 0.        , 0.        , 0.        ,\n",
              "         0.30763253, 0.        , 0.38130259, 0.        , 0.        ,\n",
              "         0.        , 0.18169273, 0.        , 0.        , 0.38130259,\n",
              "         0.        , 0.38130259, 0.        , 0.        , 0.38130259],\n",
              "        [0.        , 0.        , 0.45498177, 0.        , 0.        ,\n",
              "         0.        , 0.        , 0.36707642, 0.45498177, 0.36707642,\n",
              "         0.        , 0.        , 0.        , 0.        , 0.        ,\n",
              "         0.        , 0.21680125, 0.        , 0.        , 0.        ,\n",
              "         0.36707642, 0.        , 0.        , 0.36707642, 0.        ]])"
            ]
          },
          "metadata": {},
          "execution_count": 20
        }
      ]
    },
    {
      "cell_type": "code",
      "metadata": {
        "colab": {
          "base_uri": "https://localhost:8080/",
          "height": 889
        },
        "id": "9j2RVkIb2ZkT",
        "outputId": "8ea99b6c-4e5f-4033-f6ca-9b245c8a077f"
      },
      "source": [
        "# Membuat dataframe dari list dua dimensi tersebut. \n",
        "# Dilakukan transpose agar nama kolom berubah menjadi nama baris\n",
        "# Nama kolom diubah menjadi urutan dokumen\n",
        "df = pd.DataFrame(result.todense().T,\n",
        "                  index=vectorizer.get_feature_names(),\n",
        "                  columns=[f\"D{i+1}\" for i in range(len(komentar))])\n",
        "df"
      ],
      "execution_count": 21,
      "outputs": [
        {
          "output_type": "stream",
          "name": "stderr",
          "text": [
            "/usr/local/lib/python3.7/dist-packages/sklearn/utils/deprecation.py:87: FutureWarning: Function get_feature_names is deprecated; get_feature_names is deprecated in 1.0 and will be removed in 1.2. Please use get_feature_names_out instead.\n",
            "  warnings.warn(msg, category=FutureWarning)\n"
          ]
        },
        {
          "output_type": "execute_result",
          "data": {
            "text/plain": [
              "                  D1        D2        D3        D4        D5\n",
              "bagus       0.000000  0.000000  0.000000  0.381303  0.000000\n",
              "baik        0.354491  0.000000  0.334119  0.000000  0.000000\n",
              "berbeda     0.000000  0.000000  0.000000  0.000000  0.454982\n",
              "berfungsi   0.000000  0.000000  0.414132  0.000000  0.000000\n",
              "cepat       0.439383  0.000000  0.000000  0.000000  0.000000\n",
              "dan         0.000000  0.000000  0.414132  0.000000  0.000000\n",
              "dapat       0.000000  0.000000  0.000000  0.381303  0.000000\n",
              "dengan      0.000000  0.000000  0.334119  0.000000  0.367076\n",
              "ekspektasi  0.000000  0.000000  0.000000  0.000000  0.454982\n",
              "gambar      0.000000  0.309768  0.000000  0.000000  0.367076\n",
              "harga       0.000000  0.309768  0.000000  0.307633  0.000000\n",
              "kualitas    0.439383  0.000000  0.000000  0.000000  0.000000\n",
              "lumayan     0.000000  0.000000  0.000000  0.381303  0.000000\n",
              "memang      0.000000  0.383949  0.000000  0.000000  0.000000\n",
              "pengiriman  0.439383  0.000000  0.000000  0.000000  0.000000\n",
              "penjual     0.354491  0.000000  0.334119  0.000000  0.000000\n",
              "produk      0.209368  0.182954  0.197336  0.181693  0.216801\n",
              "ramah       0.354491  0.000000  0.334119  0.000000  0.000000\n",
              "responsif   0.000000  0.000000  0.414132  0.000000  0.000000\n",
              "segini      0.000000  0.000000  0.000000  0.381303  0.000000\n",
              "sesuai      0.000000  0.619536  0.000000  0.000000  0.367076\n",
              "sudah       0.000000  0.000000  0.000000  0.381303  0.000000\n",
              "tapi        0.000000  0.383949  0.000000  0.000000  0.000000\n",
              "tidak       0.000000  0.309768  0.000000  0.000000  0.367076\n",
              "untuk       0.000000  0.000000  0.000000  0.381303  0.000000"
            ],
            "text/html": [
              "\n",
              "  <div id=\"df-f70249cd-0189-4b34-ad73-edccfd60f5cf\">\n",
              "    <div class=\"colab-df-container\">\n",
              "      <div>\n",
              "<style scoped>\n",
              "    .dataframe tbody tr th:only-of-type {\n",
              "        vertical-align: middle;\n",
              "    }\n",
              "\n",
              "    .dataframe tbody tr th {\n",
              "        vertical-align: top;\n",
              "    }\n",
              "\n",
              "    .dataframe thead th {\n",
              "        text-align: right;\n",
              "    }\n",
              "</style>\n",
              "<table border=\"1\" class=\"dataframe\">\n",
              "  <thead>\n",
              "    <tr style=\"text-align: right;\">\n",
              "      <th></th>\n",
              "      <th>D1</th>\n",
              "      <th>D2</th>\n",
              "      <th>D3</th>\n",
              "      <th>D4</th>\n",
              "      <th>D5</th>\n",
              "    </tr>\n",
              "  </thead>\n",
              "  <tbody>\n",
              "    <tr>\n",
              "      <th>bagus</th>\n",
              "      <td>0.000000</td>\n",
              "      <td>0.000000</td>\n",
              "      <td>0.000000</td>\n",
              "      <td>0.381303</td>\n",
              "      <td>0.000000</td>\n",
              "    </tr>\n",
              "    <tr>\n",
              "      <th>baik</th>\n",
              "      <td>0.354491</td>\n",
              "      <td>0.000000</td>\n",
              "      <td>0.334119</td>\n",
              "      <td>0.000000</td>\n",
              "      <td>0.000000</td>\n",
              "    </tr>\n",
              "    <tr>\n",
              "      <th>berbeda</th>\n",
              "      <td>0.000000</td>\n",
              "      <td>0.000000</td>\n",
              "      <td>0.000000</td>\n",
              "      <td>0.000000</td>\n",
              "      <td>0.454982</td>\n",
              "    </tr>\n",
              "    <tr>\n",
              "      <th>berfungsi</th>\n",
              "      <td>0.000000</td>\n",
              "      <td>0.000000</td>\n",
              "      <td>0.414132</td>\n",
              "      <td>0.000000</td>\n",
              "      <td>0.000000</td>\n",
              "    </tr>\n",
              "    <tr>\n",
              "      <th>cepat</th>\n",
              "      <td>0.439383</td>\n",
              "      <td>0.000000</td>\n",
              "      <td>0.000000</td>\n",
              "      <td>0.000000</td>\n",
              "      <td>0.000000</td>\n",
              "    </tr>\n",
              "    <tr>\n",
              "      <th>dan</th>\n",
              "      <td>0.000000</td>\n",
              "      <td>0.000000</td>\n",
              "      <td>0.414132</td>\n",
              "      <td>0.000000</td>\n",
              "      <td>0.000000</td>\n",
              "    </tr>\n",
              "    <tr>\n",
              "      <th>dapat</th>\n",
              "      <td>0.000000</td>\n",
              "      <td>0.000000</td>\n",
              "      <td>0.000000</td>\n",
              "      <td>0.381303</td>\n",
              "      <td>0.000000</td>\n",
              "    </tr>\n",
              "    <tr>\n",
              "      <th>dengan</th>\n",
              "      <td>0.000000</td>\n",
              "      <td>0.000000</td>\n",
              "      <td>0.334119</td>\n",
              "      <td>0.000000</td>\n",
              "      <td>0.367076</td>\n",
              "    </tr>\n",
              "    <tr>\n",
              "      <th>ekspektasi</th>\n",
              "      <td>0.000000</td>\n",
              "      <td>0.000000</td>\n",
              "      <td>0.000000</td>\n",
              "      <td>0.000000</td>\n",
              "      <td>0.454982</td>\n",
              "    </tr>\n",
              "    <tr>\n",
              "      <th>gambar</th>\n",
              "      <td>0.000000</td>\n",
              "      <td>0.309768</td>\n",
              "      <td>0.000000</td>\n",
              "      <td>0.000000</td>\n",
              "      <td>0.367076</td>\n",
              "    </tr>\n",
              "    <tr>\n",
              "      <th>harga</th>\n",
              "      <td>0.000000</td>\n",
              "      <td>0.309768</td>\n",
              "      <td>0.000000</td>\n",
              "      <td>0.307633</td>\n",
              "      <td>0.000000</td>\n",
              "    </tr>\n",
              "    <tr>\n",
              "      <th>kualitas</th>\n",
              "      <td>0.439383</td>\n",
              "      <td>0.000000</td>\n",
              "      <td>0.000000</td>\n",
              "      <td>0.000000</td>\n",
              "      <td>0.000000</td>\n",
              "    </tr>\n",
              "    <tr>\n",
              "      <th>lumayan</th>\n",
              "      <td>0.000000</td>\n",
              "      <td>0.000000</td>\n",
              "      <td>0.000000</td>\n",
              "      <td>0.381303</td>\n",
              "      <td>0.000000</td>\n",
              "    </tr>\n",
              "    <tr>\n",
              "      <th>memang</th>\n",
              "      <td>0.000000</td>\n",
              "      <td>0.383949</td>\n",
              "      <td>0.000000</td>\n",
              "      <td>0.000000</td>\n",
              "      <td>0.000000</td>\n",
              "    </tr>\n",
              "    <tr>\n",
              "      <th>pengiriman</th>\n",
              "      <td>0.439383</td>\n",
              "      <td>0.000000</td>\n",
              "      <td>0.000000</td>\n",
              "      <td>0.000000</td>\n",
              "      <td>0.000000</td>\n",
              "    </tr>\n",
              "    <tr>\n",
              "      <th>penjual</th>\n",
              "      <td>0.354491</td>\n",
              "      <td>0.000000</td>\n",
              "      <td>0.334119</td>\n",
              "      <td>0.000000</td>\n",
              "      <td>0.000000</td>\n",
              "    </tr>\n",
              "    <tr>\n",
              "      <th>produk</th>\n",
              "      <td>0.209368</td>\n",
              "      <td>0.182954</td>\n",
              "      <td>0.197336</td>\n",
              "      <td>0.181693</td>\n",
              "      <td>0.216801</td>\n",
              "    </tr>\n",
              "    <tr>\n",
              "      <th>ramah</th>\n",
              "      <td>0.354491</td>\n",
              "      <td>0.000000</td>\n",
              "      <td>0.334119</td>\n",
              "      <td>0.000000</td>\n",
              "      <td>0.000000</td>\n",
              "    </tr>\n",
              "    <tr>\n",
              "      <th>responsif</th>\n",
              "      <td>0.000000</td>\n",
              "      <td>0.000000</td>\n",
              "      <td>0.414132</td>\n",
              "      <td>0.000000</td>\n",
              "      <td>0.000000</td>\n",
              "    </tr>\n",
              "    <tr>\n",
              "      <th>segini</th>\n",
              "      <td>0.000000</td>\n",
              "      <td>0.000000</td>\n",
              "      <td>0.000000</td>\n",
              "      <td>0.381303</td>\n",
              "      <td>0.000000</td>\n",
              "    </tr>\n",
              "    <tr>\n",
              "      <th>sesuai</th>\n",
              "      <td>0.000000</td>\n",
              "      <td>0.619536</td>\n",
              "      <td>0.000000</td>\n",
              "      <td>0.000000</td>\n",
              "      <td>0.367076</td>\n",
              "    </tr>\n",
              "    <tr>\n",
              "      <th>sudah</th>\n",
              "      <td>0.000000</td>\n",
              "      <td>0.000000</td>\n",
              "      <td>0.000000</td>\n",
              "      <td>0.381303</td>\n",
              "      <td>0.000000</td>\n",
              "    </tr>\n",
              "    <tr>\n",
              "      <th>tapi</th>\n",
              "      <td>0.000000</td>\n",
              "      <td>0.383949</td>\n",
              "      <td>0.000000</td>\n",
              "      <td>0.000000</td>\n",
              "      <td>0.000000</td>\n",
              "    </tr>\n",
              "    <tr>\n",
              "      <th>tidak</th>\n",
              "      <td>0.000000</td>\n",
              "      <td>0.309768</td>\n",
              "      <td>0.000000</td>\n",
              "      <td>0.000000</td>\n",
              "      <td>0.367076</td>\n",
              "    </tr>\n",
              "    <tr>\n",
              "      <th>untuk</th>\n",
              "      <td>0.000000</td>\n",
              "      <td>0.000000</td>\n",
              "      <td>0.000000</td>\n",
              "      <td>0.381303</td>\n",
              "      <td>0.000000</td>\n",
              "    </tr>\n",
              "  </tbody>\n",
              "</table>\n",
              "</div>\n",
              "      <button class=\"colab-df-convert\" onclick=\"convertToInteractive('df-f70249cd-0189-4b34-ad73-edccfd60f5cf')\"\n",
              "              title=\"Convert this dataframe to an interactive table.\"\n",
              "              style=\"display:none;\">\n",
              "        \n",
              "  <svg xmlns=\"http://www.w3.org/2000/svg\" height=\"24px\"viewBox=\"0 0 24 24\"\n",
              "       width=\"24px\">\n",
              "    <path d=\"M0 0h24v24H0V0z\" fill=\"none\"/>\n",
              "    <path d=\"M18.56 5.44l.94 2.06.94-2.06 2.06-.94-2.06-.94-.94-2.06-.94 2.06-2.06.94zm-11 1L8.5 8.5l.94-2.06 2.06-.94-2.06-.94L8.5 2.5l-.94 2.06-2.06.94zm10 10l.94 2.06.94-2.06 2.06-.94-2.06-.94-.94-2.06-.94 2.06-2.06.94z\"/><path d=\"M17.41 7.96l-1.37-1.37c-.4-.4-.92-.59-1.43-.59-.52 0-1.04.2-1.43.59L10.3 9.45l-7.72 7.72c-.78.78-.78 2.05 0 2.83L4 21.41c.39.39.9.59 1.41.59.51 0 1.02-.2 1.41-.59l7.78-7.78 2.81-2.81c.8-.78.8-2.07 0-2.86zM5.41 20L4 18.59l7.72-7.72 1.47 1.35L5.41 20z\"/>\n",
              "  </svg>\n",
              "      </button>\n",
              "      \n",
              "  <style>\n",
              "    .colab-df-container {\n",
              "      display:flex;\n",
              "      flex-wrap:wrap;\n",
              "      gap: 12px;\n",
              "    }\n",
              "\n",
              "    .colab-df-convert {\n",
              "      background-color: #E8F0FE;\n",
              "      border: none;\n",
              "      border-radius: 50%;\n",
              "      cursor: pointer;\n",
              "      display: none;\n",
              "      fill: #1967D2;\n",
              "      height: 32px;\n",
              "      padding: 0 0 0 0;\n",
              "      width: 32px;\n",
              "    }\n",
              "\n",
              "    .colab-df-convert:hover {\n",
              "      background-color: #E2EBFA;\n",
              "      box-shadow: 0px 1px 2px rgba(60, 64, 67, 0.3), 0px 1px 3px 1px rgba(60, 64, 67, 0.15);\n",
              "      fill: #174EA6;\n",
              "    }\n",
              "\n",
              "    [theme=dark] .colab-df-convert {\n",
              "      background-color: #3B4455;\n",
              "      fill: #D2E3FC;\n",
              "    }\n",
              "\n",
              "    [theme=dark] .colab-df-convert:hover {\n",
              "      background-color: #434B5C;\n",
              "      box-shadow: 0px 1px 3px 1px rgba(0, 0, 0, 0.15);\n",
              "      filter: drop-shadow(0px 1px 2px rgba(0, 0, 0, 0.3));\n",
              "      fill: #FFFFFF;\n",
              "    }\n",
              "  </style>\n",
              "\n",
              "      <script>\n",
              "        const buttonEl =\n",
              "          document.querySelector('#df-f70249cd-0189-4b34-ad73-edccfd60f5cf button.colab-df-convert');\n",
              "        buttonEl.style.display =\n",
              "          google.colab.kernel.accessAllowed ? 'block' : 'none';\n",
              "\n",
              "        async function convertToInteractive(key) {\n",
              "          const element = document.querySelector('#df-f70249cd-0189-4b34-ad73-edccfd60f5cf');\n",
              "          const dataTable =\n",
              "            await google.colab.kernel.invokeFunction('convertToInteractive',\n",
              "                                                     [key], {});\n",
              "          if (!dataTable) return;\n",
              "\n",
              "          const docLinkHtml = 'Like what you see? Visit the ' +\n",
              "            '<a target=\"_blank\" href=https://colab.research.google.com/notebooks/data_table.ipynb>data table notebook</a>'\n",
              "            + ' to learn more about interactive tables.';\n",
              "          element.innerHTML = '';\n",
              "          dataTable['output_type'] = 'display_data';\n",
              "          await google.colab.output.renderOutput(dataTable, element);\n",
              "          const docLink = document.createElement('div');\n",
              "          docLink.innerHTML = docLinkHtml;\n",
              "          element.appendChild(docLink);\n",
              "        }\n",
              "      </script>\n",
              "    </div>\n",
              "  </div>\n",
              "  "
            ]
          },
          "metadata": {},
          "execution_count": 21
        }
      ]
    },
    {
      "cell_type": "markdown",
      "metadata": {
        "id": "1ODlrrrp9H3b"
      },
      "source": [
        "Kata **tidak** memiliki bobot lebih tinggi pada dokumen ke-5 daripada bobot pada dokumen ke-2"
      ]
    },
    {
      "cell_type": "markdown",
      "metadata": {
        "id": "4VvPSHL9tawr"
      },
      "source": [
        "## COSINE SIMILARITY\n",
        "\n"
      ]
    },
    {
      "cell_type": "code",
      "source": [
        "from sklearn.metrics.pairwise import cosine_similarity, cosine_distances"
      ],
      "metadata": {
        "id": "DuTYIItdRXb9"
      },
      "execution_count": 22,
      "outputs": []
    },
    {
      "cell_type": "code",
      "source": [
        "#Kalimat yang ingin dihitung cosine similaritynya \n",
        "doc1 = 'this is the first document'\n",
        "doc2 = 'this document is the second document'\n"
      ],
      "metadata": {
        "id": "JhchvQDUNDwd"
      },
      "execution_count": 23,
      "outputs": []
    },
    {
      "cell_type": "code",
      "source": [
        "import pandas as pd\n",
        "\n",
        "df = pd.DataFrame([\n",
        "        {'this': 1, 'is':1, 'first':1, 'the':1, 'document':1, 'second':0},\n",
        "        {'this': 1,'document': 2, 'is':1, 'the':1, 'second':1, 'first':0},   \n",
        "\n",
        "    ],\n",
        "    index=[\n",
        "        \"doc1\",\n",
        "        \"doc2\",\n",
        "    ])\n",
        "\n",
        "df"
      ],
      "metadata": {
        "colab": {
          "base_uri": "https://localhost:8080/",
          "height": 112
        },
        "id": "ARjsGvEIPdjg",
        "outputId": "f61eb7e6-17b0-4aef-a8b1-ebfc50519028"
      },
      "execution_count": 24,
      "outputs": [
        {
          "output_type": "execute_result",
          "data": {
            "text/plain": [
              "      this  is  first  the  document  second\n",
              "doc1     1   1      1    1         1       0\n",
              "doc2     1   1      0    1         2       1"
            ],
            "text/html": [
              "\n",
              "  <div id=\"df-44059852-df09-4f2d-96e4-47568b3cc7ae\">\n",
              "    <div class=\"colab-df-container\">\n",
              "      <div>\n",
              "<style scoped>\n",
              "    .dataframe tbody tr th:only-of-type {\n",
              "        vertical-align: middle;\n",
              "    }\n",
              "\n",
              "    .dataframe tbody tr th {\n",
              "        vertical-align: top;\n",
              "    }\n",
              "\n",
              "    .dataframe thead th {\n",
              "        text-align: right;\n",
              "    }\n",
              "</style>\n",
              "<table border=\"1\" class=\"dataframe\">\n",
              "  <thead>\n",
              "    <tr style=\"text-align: right;\">\n",
              "      <th></th>\n",
              "      <th>this</th>\n",
              "      <th>is</th>\n",
              "      <th>first</th>\n",
              "      <th>the</th>\n",
              "      <th>document</th>\n",
              "      <th>second</th>\n",
              "    </tr>\n",
              "  </thead>\n",
              "  <tbody>\n",
              "    <tr>\n",
              "      <th>doc1</th>\n",
              "      <td>1</td>\n",
              "      <td>1</td>\n",
              "      <td>1</td>\n",
              "      <td>1</td>\n",
              "      <td>1</td>\n",
              "      <td>0</td>\n",
              "    </tr>\n",
              "    <tr>\n",
              "      <th>doc2</th>\n",
              "      <td>1</td>\n",
              "      <td>1</td>\n",
              "      <td>0</td>\n",
              "      <td>1</td>\n",
              "      <td>2</td>\n",
              "      <td>1</td>\n",
              "    </tr>\n",
              "  </tbody>\n",
              "</table>\n",
              "</div>\n",
              "      <button class=\"colab-df-convert\" onclick=\"convertToInteractive('df-44059852-df09-4f2d-96e4-47568b3cc7ae')\"\n",
              "              title=\"Convert this dataframe to an interactive table.\"\n",
              "              style=\"display:none;\">\n",
              "        \n",
              "  <svg xmlns=\"http://www.w3.org/2000/svg\" height=\"24px\"viewBox=\"0 0 24 24\"\n",
              "       width=\"24px\">\n",
              "    <path d=\"M0 0h24v24H0V0z\" fill=\"none\"/>\n",
              "    <path d=\"M18.56 5.44l.94 2.06.94-2.06 2.06-.94-2.06-.94-.94-2.06-.94 2.06-2.06.94zm-11 1L8.5 8.5l.94-2.06 2.06-.94-2.06-.94L8.5 2.5l-.94 2.06-2.06.94zm10 10l.94 2.06.94-2.06 2.06-.94-2.06-.94-.94-2.06-.94 2.06-2.06.94z\"/><path d=\"M17.41 7.96l-1.37-1.37c-.4-.4-.92-.59-1.43-.59-.52 0-1.04.2-1.43.59L10.3 9.45l-7.72 7.72c-.78.78-.78 2.05 0 2.83L4 21.41c.39.39.9.59 1.41.59.51 0 1.02-.2 1.41-.59l7.78-7.78 2.81-2.81c.8-.78.8-2.07 0-2.86zM5.41 20L4 18.59l7.72-7.72 1.47 1.35L5.41 20z\"/>\n",
              "  </svg>\n",
              "      </button>\n",
              "      \n",
              "  <style>\n",
              "    .colab-df-container {\n",
              "      display:flex;\n",
              "      flex-wrap:wrap;\n",
              "      gap: 12px;\n",
              "    }\n",
              "\n",
              "    .colab-df-convert {\n",
              "      background-color: #E8F0FE;\n",
              "      border: none;\n",
              "      border-radius: 50%;\n",
              "      cursor: pointer;\n",
              "      display: none;\n",
              "      fill: #1967D2;\n",
              "      height: 32px;\n",
              "      padding: 0 0 0 0;\n",
              "      width: 32px;\n",
              "    }\n",
              "\n",
              "    .colab-df-convert:hover {\n",
              "      background-color: #E2EBFA;\n",
              "      box-shadow: 0px 1px 2px rgba(60, 64, 67, 0.3), 0px 1px 3px 1px rgba(60, 64, 67, 0.15);\n",
              "      fill: #174EA6;\n",
              "    }\n",
              "\n",
              "    [theme=dark] .colab-df-convert {\n",
              "      background-color: #3B4455;\n",
              "      fill: #D2E3FC;\n",
              "    }\n",
              "\n",
              "    [theme=dark] .colab-df-convert:hover {\n",
              "      background-color: #434B5C;\n",
              "      box-shadow: 0px 1px 3px 1px rgba(0, 0, 0, 0.15);\n",
              "      filter: drop-shadow(0px 1px 2px rgba(0, 0, 0, 0.3));\n",
              "      fill: #FFFFFF;\n",
              "    }\n",
              "  </style>\n",
              "\n",
              "      <script>\n",
              "        const buttonEl =\n",
              "          document.querySelector('#df-44059852-df09-4f2d-96e4-47568b3cc7ae button.colab-df-convert');\n",
              "        buttonEl.style.display =\n",
              "          google.colab.kernel.accessAllowed ? 'block' : 'none';\n",
              "\n",
              "        async function convertToInteractive(key) {\n",
              "          const element = document.querySelector('#df-44059852-df09-4f2d-96e4-47568b3cc7ae');\n",
              "          const dataTable =\n",
              "            await google.colab.kernel.invokeFunction('convertToInteractive',\n",
              "                                                     [key], {});\n",
              "          if (!dataTable) return;\n",
              "\n",
              "          const docLinkHtml = 'Like what you see? Visit the ' +\n",
              "            '<a target=\"_blank\" href=https://colab.research.google.com/notebooks/data_table.ipynb>data table notebook</a>'\n",
              "            + ' to learn more about interactive tables.';\n",
              "          element.innerHTML = '';\n",
              "          dataTable['output_type'] = 'display_data';\n",
              "          await google.colab.output.renderOutput(dataTable, element);\n",
              "          const docLink = document.createElement('div');\n",
              "          docLink.innerHTML = docLinkHtml;\n",
              "          element.appendChild(docLink);\n",
              "        }\n",
              "      </script>\n",
              "    </div>\n",
              "  </div>\n",
              "  "
            ]
          },
          "metadata": {},
          "execution_count": 24
        }
      ]
    },
    {
      "cell_type": "code",
      "source": [
        "df.loc[\"doc1\":\"doc1\"]"
      ],
      "metadata": {
        "colab": {
          "base_uri": "https://localhost:8080/",
          "height": 81
        },
        "id": "czKcDiAWRjUf",
        "outputId": "b083fdca-0ecb-4d90-be28-ffe43e4c3f85"
      },
      "execution_count": 25,
      "outputs": [
        {
          "output_type": "execute_result",
          "data": {
            "text/plain": [
              "      this  is  first  the  document  second\n",
              "doc1     1   1      1    1         1       0"
            ],
            "text/html": [
              "\n",
              "  <div id=\"df-0a9bcbb0-254a-4f9b-9f92-6a147b7d62cb\">\n",
              "    <div class=\"colab-df-container\">\n",
              "      <div>\n",
              "<style scoped>\n",
              "    .dataframe tbody tr th:only-of-type {\n",
              "        vertical-align: middle;\n",
              "    }\n",
              "\n",
              "    .dataframe tbody tr th {\n",
              "        vertical-align: top;\n",
              "    }\n",
              "\n",
              "    .dataframe thead th {\n",
              "        text-align: right;\n",
              "    }\n",
              "</style>\n",
              "<table border=\"1\" class=\"dataframe\">\n",
              "  <thead>\n",
              "    <tr style=\"text-align: right;\">\n",
              "      <th></th>\n",
              "      <th>this</th>\n",
              "      <th>is</th>\n",
              "      <th>first</th>\n",
              "      <th>the</th>\n",
              "      <th>document</th>\n",
              "      <th>second</th>\n",
              "    </tr>\n",
              "  </thead>\n",
              "  <tbody>\n",
              "    <tr>\n",
              "      <th>doc1</th>\n",
              "      <td>1</td>\n",
              "      <td>1</td>\n",
              "      <td>1</td>\n",
              "      <td>1</td>\n",
              "      <td>1</td>\n",
              "      <td>0</td>\n",
              "    </tr>\n",
              "  </tbody>\n",
              "</table>\n",
              "</div>\n",
              "      <button class=\"colab-df-convert\" onclick=\"convertToInteractive('df-0a9bcbb0-254a-4f9b-9f92-6a147b7d62cb')\"\n",
              "              title=\"Convert this dataframe to an interactive table.\"\n",
              "              style=\"display:none;\">\n",
              "        \n",
              "  <svg xmlns=\"http://www.w3.org/2000/svg\" height=\"24px\"viewBox=\"0 0 24 24\"\n",
              "       width=\"24px\">\n",
              "    <path d=\"M0 0h24v24H0V0z\" fill=\"none\"/>\n",
              "    <path d=\"M18.56 5.44l.94 2.06.94-2.06 2.06-.94-2.06-.94-.94-2.06-.94 2.06-2.06.94zm-11 1L8.5 8.5l.94-2.06 2.06-.94-2.06-.94L8.5 2.5l-.94 2.06-2.06.94zm10 10l.94 2.06.94-2.06 2.06-.94-2.06-.94-.94-2.06-.94 2.06-2.06.94z\"/><path d=\"M17.41 7.96l-1.37-1.37c-.4-.4-.92-.59-1.43-.59-.52 0-1.04.2-1.43.59L10.3 9.45l-7.72 7.72c-.78.78-.78 2.05 0 2.83L4 21.41c.39.39.9.59 1.41.59.51 0 1.02-.2 1.41-.59l7.78-7.78 2.81-2.81c.8-.78.8-2.07 0-2.86zM5.41 20L4 18.59l7.72-7.72 1.47 1.35L5.41 20z\"/>\n",
              "  </svg>\n",
              "      </button>\n",
              "      \n",
              "  <style>\n",
              "    .colab-df-container {\n",
              "      display:flex;\n",
              "      flex-wrap:wrap;\n",
              "      gap: 12px;\n",
              "    }\n",
              "\n",
              "    .colab-df-convert {\n",
              "      background-color: #E8F0FE;\n",
              "      border: none;\n",
              "      border-radius: 50%;\n",
              "      cursor: pointer;\n",
              "      display: none;\n",
              "      fill: #1967D2;\n",
              "      height: 32px;\n",
              "      padding: 0 0 0 0;\n",
              "      width: 32px;\n",
              "    }\n",
              "\n",
              "    .colab-df-convert:hover {\n",
              "      background-color: #E2EBFA;\n",
              "      box-shadow: 0px 1px 2px rgba(60, 64, 67, 0.3), 0px 1px 3px 1px rgba(60, 64, 67, 0.15);\n",
              "      fill: #174EA6;\n",
              "    }\n",
              "\n",
              "    [theme=dark] .colab-df-convert {\n",
              "      background-color: #3B4455;\n",
              "      fill: #D2E3FC;\n",
              "    }\n",
              "\n",
              "    [theme=dark] .colab-df-convert:hover {\n",
              "      background-color: #434B5C;\n",
              "      box-shadow: 0px 1px 3px 1px rgba(0, 0, 0, 0.15);\n",
              "      filter: drop-shadow(0px 1px 2px rgba(0, 0, 0, 0.3));\n",
              "      fill: #FFFFFF;\n",
              "    }\n",
              "  </style>\n",
              "\n",
              "      <script>\n",
              "        const buttonEl =\n",
              "          document.querySelector('#df-0a9bcbb0-254a-4f9b-9f92-6a147b7d62cb button.colab-df-convert');\n",
              "        buttonEl.style.display =\n",
              "          google.colab.kernel.accessAllowed ? 'block' : 'none';\n",
              "\n",
              "        async function convertToInteractive(key) {\n",
              "          const element = document.querySelector('#df-0a9bcbb0-254a-4f9b-9f92-6a147b7d62cb');\n",
              "          const dataTable =\n",
              "            await google.colab.kernel.invokeFunction('convertToInteractive',\n",
              "                                                     [key], {});\n",
              "          if (!dataTable) return;\n",
              "\n",
              "          const docLinkHtml = 'Like what you see? Visit the ' +\n",
              "            '<a target=\"_blank\" href=https://colab.research.google.com/notebooks/data_table.ipynb>data table notebook</a>'\n",
              "            + ' to learn more about interactive tables.';\n",
              "          element.innerHTML = '';\n",
              "          dataTable['output_type'] = 'display_data';\n",
              "          await google.colab.output.renderOutput(dataTable, element);\n",
              "          const docLink = document.createElement('div');\n",
              "          docLink.innerHTML = docLinkHtml;\n",
              "          element.appendChild(docLink);\n",
              "        }\n",
              "      </script>\n",
              "    </div>\n",
              "  </div>\n",
              "  "
            ]
          },
          "metadata": {},
          "execution_count": 25
        }
      ]
    },
    {
      "cell_type": "code",
      "source": [
        "df.loc[\"doc2\":\"doc2\"]"
      ],
      "metadata": {
        "colab": {
          "base_uri": "https://localhost:8080/",
          "height": 81
        },
        "id": "t2paRxPc9jHg",
        "outputId": "04cad88a-c939-449a-9deb-b39b4d216b54"
      },
      "execution_count": 26,
      "outputs": [
        {
          "output_type": "execute_result",
          "data": {
            "text/plain": [
              "      this  is  first  the  document  second\n",
              "doc2     1   1      0    1         2       1"
            ],
            "text/html": [
              "\n",
              "  <div id=\"df-e6cdb0e4-ba65-41d7-b191-94aa4a5e4eb2\">\n",
              "    <div class=\"colab-df-container\">\n",
              "      <div>\n",
              "<style scoped>\n",
              "    .dataframe tbody tr th:only-of-type {\n",
              "        vertical-align: middle;\n",
              "    }\n",
              "\n",
              "    .dataframe tbody tr th {\n",
              "        vertical-align: top;\n",
              "    }\n",
              "\n",
              "    .dataframe thead th {\n",
              "        text-align: right;\n",
              "    }\n",
              "</style>\n",
              "<table border=\"1\" class=\"dataframe\">\n",
              "  <thead>\n",
              "    <tr style=\"text-align: right;\">\n",
              "      <th></th>\n",
              "      <th>this</th>\n",
              "      <th>is</th>\n",
              "      <th>first</th>\n",
              "      <th>the</th>\n",
              "      <th>document</th>\n",
              "      <th>second</th>\n",
              "    </tr>\n",
              "  </thead>\n",
              "  <tbody>\n",
              "    <tr>\n",
              "      <th>doc2</th>\n",
              "      <td>1</td>\n",
              "      <td>1</td>\n",
              "      <td>0</td>\n",
              "      <td>1</td>\n",
              "      <td>2</td>\n",
              "      <td>1</td>\n",
              "    </tr>\n",
              "  </tbody>\n",
              "</table>\n",
              "</div>\n",
              "      <button class=\"colab-df-convert\" onclick=\"convertToInteractive('df-e6cdb0e4-ba65-41d7-b191-94aa4a5e4eb2')\"\n",
              "              title=\"Convert this dataframe to an interactive table.\"\n",
              "              style=\"display:none;\">\n",
              "        \n",
              "  <svg xmlns=\"http://www.w3.org/2000/svg\" height=\"24px\"viewBox=\"0 0 24 24\"\n",
              "       width=\"24px\">\n",
              "    <path d=\"M0 0h24v24H0V0z\" fill=\"none\"/>\n",
              "    <path d=\"M18.56 5.44l.94 2.06.94-2.06 2.06-.94-2.06-.94-.94-2.06-.94 2.06-2.06.94zm-11 1L8.5 8.5l.94-2.06 2.06-.94-2.06-.94L8.5 2.5l-.94 2.06-2.06.94zm10 10l.94 2.06.94-2.06 2.06-.94-2.06-.94-.94-2.06-.94 2.06-2.06.94z\"/><path d=\"M17.41 7.96l-1.37-1.37c-.4-.4-.92-.59-1.43-.59-.52 0-1.04.2-1.43.59L10.3 9.45l-7.72 7.72c-.78.78-.78 2.05 0 2.83L4 21.41c.39.39.9.59 1.41.59.51 0 1.02-.2 1.41-.59l7.78-7.78 2.81-2.81c.8-.78.8-2.07 0-2.86zM5.41 20L4 18.59l7.72-7.72 1.47 1.35L5.41 20z\"/>\n",
              "  </svg>\n",
              "      </button>\n",
              "      \n",
              "  <style>\n",
              "    .colab-df-container {\n",
              "      display:flex;\n",
              "      flex-wrap:wrap;\n",
              "      gap: 12px;\n",
              "    }\n",
              "\n",
              "    .colab-df-convert {\n",
              "      background-color: #E8F0FE;\n",
              "      border: none;\n",
              "      border-radius: 50%;\n",
              "      cursor: pointer;\n",
              "      display: none;\n",
              "      fill: #1967D2;\n",
              "      height: 32px;\n",
              "      padding: 0 0 0 0;\n",
              "      width: 32px;\n",
              "    }\n",
              "\n",
              "    .colab-df-convert:hover {\n",
              "      background-color: #E2EBFA;\n",
              "      box-shadow: 0px 1px 2px rgba(60, 64, 67, 0.3), 0px 1px 3px 1px rgba(60, 64, 67, 0.15);\n",
              "      fill: #174EA6;\n",
              "    }\n",
              "\n",
              "    [theme=dark] .colab-df-convert {\n",
              "      background-color: #3B4455;\n",
              "      fill: #D2E3FC;\n",
              "    }\n",
              "\n",
              "    [theme=dark] .colab-df-convert:hover {\n",
              "      background-color: #434B5C;\n",
              "      box-shadow: 0px 1px 3px 1px rgba(0, 0, 0, 0.15);\n",
              "      filter: drop-shadow(0px 1px 2px rgba(0, 0, 0, 0.3));\n",
              "      fill: #FFFFFF;\n",
              "    }\n",
              "  </style>\n",
              "\n",
              "      <script>\n",
              "        const buttonEl =\n",
              "          document.querySelector('#df-e6cdb0e4-ba65-41d7-b191-94aa4a5e4eb2 button.colab-df-convert');\n",
              "        buttonEl.style.display =\n",
              "          google.colab.kernel.accessAllowed ? 'block' : 'none';\n",
              "\n",
              "        async function convertToInteractive(key) {\n",
              "          const element = document.querySelector('#df-e6cdb0e4-ba65-41d7-b191-94aa4a5e4eb2');\n",
              "          const dataTable =\n",
              "            await google.colab.kernel.invokeFunction('convertToInteractive',\n",
              "                                                     [key], {});\n",
              "          if (!dataTable) return;\n",
              "\n",
              "          const docLinkHtml = 'Like what you see? Visit the ' +\n",
              "            '<a target=\"_blank\" href=https://colab.research.google.com/notebooks/data_table.ipynb>data table notebook</a>'\n",
              "            + ' to learn more about interactive tables.';\n",
              "          element.innerHTML = '';\n",
              "          dataTable['output_type'] = 'display_data';\n",
              "          await google.colab.output.renderOutput(dataTable, element);\n",
              "          const docLink = document.createElement('div');\n",
              "          docLink.innerHTML = docLinkHtml;\n",
              "          element.appendChild(docLink);\n",
              "        }\n",
              "      </script>\n",
              "    </div>\n",
              "  </div>\n",
              "  "
            ]
          },
          "metadata": {},
          "execution_count": 26
        }
      ]
    },
    {
      "cell_type": "code",
      "source": [
        "cosine_similarity(df.loc[\"doc1\":\"doc1\"],df.loc[\"doc2\":\"doc2\"])"
      ],
      "metadata": {
        "colab": {
          "base_uri": "https://localhost:8080/"
        },
        "id": "sE5QA354RmSq",
        "outputId": "4f4360cf-d7d7-43fc-8dc3-28579b303ea0"
      },
      "execution_count": 27,
      "outputs": [
        {
          "output_type": "execute_result",
          "data": {
            "text/plain": [
              "array([[0.79056942]])"
            ]
          },
          "metadata": {},
          "execution_count": 27
        }
      ]
    },
    {
      "cell_type": "markdown",
      "metadata": {
        "id": "cjDtFEQ-WeIM"
      },
      "source": [
        "## LATIHAN\n",
        "\n"
      ]
    },
    {
      "cell_type": "markdown",
      "source": [
        "1.  Hitung TF_IDF pada contoh kalimat yang digunakan pada cosine similarity \n",
        "2.   Hitung cosine similarity pada kalimat berikut: \n",
        "\n",
        "*   Pengiriman dan kualitas produk sangat baik\n",
        "*  Produk tidak sesuai gambar tapi memang sesuai harga\n",
        "*   tidak sesuai ekspektasi produk berbeda dengan gambar\n",
        "\n",
        "\n",
        "\n"
      ],
      "metadata": {
        "id": "FnKlIlrJWmb3"
      }
    }
  ]
}