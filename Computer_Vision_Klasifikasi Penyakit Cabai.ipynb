{
  "nbformat": 4,
  "nbformat_minor": 0,
  "metadata": {
    "colab": {
      "name": "Computer Vision Kelompok 2 Cactus",
      "provenance": [],
      "collapsed_sections": [],
      "authorship_tag": "ABX9TyPJLZqLnft+71Q3j6EbhQUL",
      "include_colab_link": true
    },
    "kernelspec": {
      "name": "python3",
      "display_name": "Python 3"
    },
    "language_info": {
      "name": "python"
    }
  },
  "cells": [
    {
      "cell_type": "markdown",
      "metadata": {
        "id": "view-in-github",
        "colab_type": "text"
      },
      "source": [
        "<a href=\"https://colab.research.google.com/github/fajri-99/Orbit-Ventura/blob/main/Computer_Vision_Klasifikasi%20Penyakit%20Cabai.ipynb\" target=\"_parent\"><img src=\"https://colab.research.google.com/assets/colab-badge.svg\" alt=\"Open In Colab\"/></a>"
      ]
    },
    {
      "cell_type": "markdown",
      "source": [
        "# IMAGE DATASHET"
      ],
      "metadata": {
        "id": "X2KNd1DXTw08"
      }
    },
    {
      "cell_type": "code",
      "source": [
        "!wget --no-check-certificate \\\n",
        "https://github.com/Rifqiakmals12/Identification-Disease-In-Plants-Chili-Using-CNN-Method/raw/main/chili-plant-disease.zip"
      ],
      "metadata": {
        "colab": {
          "base_uri": "https://localhost:8080/"
        },
        "id": "WvirI96yX6ip",
        "outputId": "b46138d6-5912-4fee-9527-4c257f27e82d"
      },
      "execution_count": null,
      "outputs": [
        {
          "output_type": "stream",
          "name": "stdout",
          "text": [
            "--2022-03-24 10:01:42--  https://github.com/Rifqiakmals12/Identification-Disease-In-Plants-Chili-Using-CNN-Method/raw/main/chili-plant-disease.zip\n",
            "Resolving github.com (github.com)... 52.192.72.89\n",
            "Connecting to github.com (github.com)|52.192.72.89|:443... connected.\n",
            "HTTP request sent, awaiting response... 302 Found\n",
            "Location: https://raw.githubusercontent.com/Rifqiakmals12/Identification-Disease-In-Plants-Chili-Using-CNN-Method/main/chili-plant-disease.zip [following]\n",
            "--2022-03-24 10:01:43--  https://raw.githubusercontent.com/Rifqiakmals12/Identification-Disease-In-Plants-Chili-Using-CNN-Method/main/chili-plant-disease.zip\n",
            "Resolving raw.githubusercontent.com (raw.githubusercontent.com)... 185.199.109.133, 185.199.108.133, 185.199.111.133, ...\n",
            "Connecting to raw.githubusercontent.com (raw.githubusercontent.com)|185.199.109.133|:443... connected.\n",
            "HTTP request sent, awaiting response... 200 OK\n",
            "Length: 6508713 (6.2M) [application/zip]\n",
            "Saving to: ‘chili-plant-disease.zip’\n",
            "\n",
            "chili-plant-disease 100%[===================>]   6.21M  --.-KB/s    in 0.09s   \n",
            "\n",
            "2022-03-24 10:01:44 (66.1 MB/s) - ‘chili-plant-disease.zip’ saved [6508713/6508713]\n",
            "\n"
          ]
        }
      ]
    },
    {
      "cell_type": "code",
      "source": [
        "!unzip '/content/chili-plant-disease.zip'"
      ],
      "metadata": {
        "colab": {
          "base_uri": "https://localhost:8080/"
        },
        "id": "C4Yo7K46Y6Ii",
        "outputId": "5c8747df-bbc8-4e69-e4ef-0e680fa9e427"
      },
      "execution_count": null,
      "outputs": [
        {
          "output_type": "stream",
          "name": "stdout",
          "text": [
            "Archive:  /content/chili-plant-disease.zip\n",
            "   creating: chili-plant-disease/\n",
            "   creating: chili-plant-disease/Test/\n",
            "   creating: chili-plant-disease/Test/healthy/\n",
            "  inflating: chili-plant-disease/Test/healthy/Cabai sehat001.jpg  \n",
            "  inflating: chili-plant-disease/Test/healthy/Cabai sehat002.jpg  \n",
            "  inflating: chili-plant-disease/Test/healthy/Cabai sehat003.jpg  \n",
            "  inflating: chili-plant-disease/Test/healthy/Cabai sehat004.jpg  \n",
            "  inflating: chili-plant-disease/Test/healthy/Cabai sehat005.jpg  \n",
            "  inflating: chili-plant-disease/Test/healthy/Cabai sehat006.jpg  \n",
            "  inflating: chili-plant-disease/Test/healthy/Cabai sehat007.jpg  \n",
            "  inflating: chili-plant-disease/Test/healthy/Cabai sehat008.jpg  \n",
            "  inflating: chili-plant-disease/Test/healthy/Cabai sehat009.jpg  \n",
            "  inflating: chili-plant-disease/Test/healthy/Cabai sehat010.jpg  \n",
            "  inflating: chili-plant-disease/Test/healthy/Cabai sehat011.jpg  \n",
            "  inflating: chili-plant-disease/Test/healthy/Cabai sehat012.jpg  \n",
            "  inflating: chili-plant-disease/Test/healthy/Cabai sehat013.jpg  \n",
            "  inflating: chili-plant-disease/Test/healthy/Cabai sehat014.jpg  \n",
            "  inflating: chili-plant-disease/Test/healthy/Cabai sehat015.jpg  \n",
            "  inflating: chili-plant-disease/Test/healthy/Cabai sehat016.jpg  \n",
            "  inflating: chili-plant-disease/Test/healthy/Cabai sehat017.jpg  \n",
            "  inflating: chili-plant-disease/Test/healthy/Cabai sehat018.jpg  \n",
            "  inflating: chili-plant-disease/Test/healthy/Cabai sehat019.jpg  \n",
            "  inflating: chili-plant-disease/Test/healthy/Cabai sehat020.jpg  \n",
            "  inflating: chili-plant-disease/Test/healthy/Cabai sehat021.jpg  \n",
            "  inflating: chili-plant-disease/Test/healthy/Cabai sehat022.jpg  \n",
            "  inflating: chili-plant-disease/Test/healthy/Cabai sehat023.jpg  \n",
            "  inflating: chili-plant-disease/Test/healthy/Cabai sehat025.jpg  \n",
            "  inflating: chili-plant-disease/Test/healthy/Cabai sehat026.jpg  \n",
            "  inflating: chili-plant-disease/Test/healthy/Cabai sehat027.jpg  \n",
            "  inflating: chili-plant-disease/Test/healthy/Cabai sehat028.jpg  \n",
            "  inflating: chili-plant-disease/Test/healthy/Cabai sehat029.jpg  \n",
            "  inflating: chili-plant-disease/Test/healthy/Cabai sehat031.jpg  \n",
            "  inflating: chili-plant-disease/Test/healthy/Cabai sehat032.jpg  \n",
            "  inflating: chili-plant-disease/Test/healthy/Cabai sehat033.jpg  \n",
            "  inflating: chili-plant-disease/Test/healthy/Cabai sehat034.jpg  \n",
            "  inflating: chili-plant-disease/Test/healthy/Cabai sehat035.jpg  \n",
            "  inflating: chili-plant-disease/Test/healthy/Cabai sehat037.jpg  \n",
            "  inflating: chili-plant-disease/Test/healthy/Cabai sehat038.jpg  \n",
            "  inflating: chili-plant-disease/Test/healthy/Cabai sehat039.jpg  \n",
            "   creating: chili-plant-disease/Test/leaf curl/\n",
            "  inflating: chili-plant-disease/Test/leaf curl/download (1).jpg  \n",
            "  inflating: chili-plant-disease/Test/leaf curl/download (10).jpg  \n",
            "  inflating: chili-plant-disease/Test/leaf curl/download (12).jpg  \n",
            "  inflating: chili-plant-disease/Test/leaf curl/download (13).jpg  \n",
            "  inflating: chili-plant-disease/Test/leaf curl/download (14).jpg  \n",
            "  inflating: chili-plant-disease/Test/leaf curl/download (2).jpg  \n",
            "  inflating: chili-plant-disease/Test/leaf curl/download (3).jpg  \n",
            "  inflating: chili-plant-disease/Test/leaf curl/download (4).jpg  \n",
            "  inflating: chili-plant-disease/Test/leaf curl/download (5).jpg  \n",
            "  inflating: chili-plant-disease/Test/leaf curl/download (6).jpg  \n",
            "  inflating: chili-plant-disease/Test/leaf curl/download (6)a.jpg  \n",
            "  inflating: chili-plant-disease/Test/leaf curl/download (7).jpg  \n",
            "  inflating: chili-plant-disease/Test/leaf curl/download (8).jpg  \n",
            "  inflating: chili-plant-disease/Test/leaf curl/download (9).jpg  \n",
            "  inflating: chili-plant-disease/Test/leaf curl/download(11).jpg  \n",
            "  inflating: chili-plant-disease/Test/leaf curl/download.jpg  \n",
            "  inflating: chili-plant-disease/Test/leaf curl/images (11).jpg  \n",
            "  inflating: chili-plant-disease/Test/leaf curl/images (14).jpg  \n",
            "  inflating: chili-plant-disease/Test/leaf curl/images (29).jpg  \n",
            "  inflating: chili-plant-disease/Test/leaf curl/images (3)a.jpg  \n",
            "  inflating: chili-plant-disease/Test/leaf curl/images (30).jpg  \n",
            "  inflating: chili-plant-disease/Test/leaf curl/images (31).jpg  \n",
            "  inflating: chili-plant-disease/Test/leaf curl/images (32).jpg  \n",
            "  inflating: chili-plant-disease/Test/leaf curl/images (33).jpg  \n",
            "  inflating: chili-plant-disease/Test/leaf curl/images (34).jpg  \n",
            "  inflating: chili-plant-disease/Test/leaf curl/images (35).jpg  \n",
            "  inflating: chili-plant-disease/Test/leaf curl/images (36).jpg  \n",
            "  inflating: chili-plant-disease/Test/leaf curl/images (37).jpg  \n",
            "  inflating: chili-plant-disease/Test/leaf curl/images (38).jpg  \n",
            "  inflating: chili-plant-disease/Test/leaf curl/images (4).jpg  \n",
            "  inflating: chili-plant-disease/Test/leaf curl/images (4)a.jpg  \n",
            "  inflating: chili-plant-disease/Test/leaf curl/images (5).jpg  \n",
            "  inflating: chili-plant-disease/Test/leaf curl/images (5)a.jpg  \n",
            "  inflating: chili-plant-disease/Test/leaf curl/images (6).jpg  \n",
            "  inflating: chili-plant-disease/Test/leaf curl/images.jpg  \n",
            "  inflating: chili-plant-disease/Test/leaf curl/imagesa.jpg  \n",
            "   creating: chili-plant-disease/Test/leaf spot/\n",
            "  inflating: chili-plant-disease/Test/leaf spot/leaf spot07 (1).jpg  \n",
            "  inflating: chili-plant-disease/Test/leaf spot/leaf spot07.jpg  \n",
            "  inflating: chili-plant-disease/Test/leaf spot/leaf spot08.jpg  \n",
            "  inflating: chili-plant-disease/Test/leaf spot/leaf spot09 (1).jpg  \n",
            "  inflating: chili-plant-disease/Test/leaf spot/leaf spot10 (1).jpg  \n",
            "  inflating: chili-plant-disease/Test/leaf spot/leaf spot10.jpg  \n",
            "  inflating: chili-plant-disease/Test/leaf spot/leaf spot11 (1).jpg  \n",
            "  inflating: chili-plant-disease/Test/leaf spot/leaf spot11.jpg  \n",
            "  inflating: chili-plant-disease/Test/leaf spot/leaf spot12.jpg  \n",
            "  inflating: chili-plant-disease/Test/leaf spot/leaf spot13 (1).jpg  \n",
            "  inflating: chili-plant-disease/Test/leaf spot/leaf spot13.jpg  \n",
            "  inflating: chili-plant-disease/Test/leaf spot/leaf spot14 (1).jpg  \n",
            "  inflating: chili-plant-disease/Test/leaf spot/leaf spot14.jpg  \n",
            "  inflating: chili-plant-disease/Test/leaf spot/leaf spot15 (1).jpg  \n",
            "  inflating: chili-plant-disease/Test/leaf spot/leaf spot15.jpg  \n",
            "  inflating: chili-plant-disease/Test/leaf spot/leaf spot16 (1).jpg  \n",
            "  inflating: chili-plant-disease/Test/leaf spot/leaf spot16.jpg  \n",
            "  inflating: chili-plant-disease/Test/leaf spot/leaf spot17.jpg  \n",
            "  inflating: chili-plant-disease/Test/leaf spot/leaf spot18.jpg  \n",
            "  inflating: chili-plant-disease/Test/leaf spot/leaf spot19.jpg  \n",
            "  inflating: chili-plant-disease/Test/leaf spot/leaf spot20 (1).jpg  \n",
            "  inflating: chili-plant-disease/Test/leaf spot/leaf spot20.jpg  \n",
            "  inflating: chili-plant-disease/Test/leaf spot/leaf spot21.jpg  \n",
            "  inflating: chili-plant-disease/Test/leaf spot/leaf spot22 (1).jpg  \n",
            "  inflating: chili-plant-disease/Test/leaf spot/leaf spot22.jpg  \n",
            "  inflating: chili-plant-disease/Test/leaf spot/leaf spot23.jpg  \n",
            "  inflating: chili-plant-disease/Test/leaf spot/leaf spot24.jpg  \n",
            "  inflating: chili-plant-disease/Test/leaf spot/leaf spot25.jpg  \n",
            "  inflating: chili-plant-disease/Test/leaf spot/leaf spot28 (1).jpg  \n",
            "  inflating: chili-plant-disease/Test/leaf spot/leaf spot33.jpg  \n",
            "  inflating: chili-plant-disease/Test/leaf spot/leaf spot34.jpg  \n",
            "  inflating: chili-plant-disease/Test/leaf spot/leaf spot35.jpg  \n",
            "  inflating: chili-plant-disease/Test/leaf spot/leaf spot36.jpg  \n",
            "  inflating: chili-plant-disease/Test/leaf spot/leaf spot38.jpg  \n",
            "  inflating: chili-plant-disease/Test/leaf spot/leaf spot39.jpg  \n",
            "  inflating: chili-plant-disease/Test/leaf spot/leaf spot50.jpg  \n",
            "   creating: chili-plant-disease/Test/whitefly/\n",
            "  inflating: chili-plant-disease/Test/whitefly/download (1).jpg  \n",
            "  inflating: chili-plant-disease/Test/whitefly/download (10).jpg  \n",
            "  inflating: chili-plant-disease/Test/whitefly/download (11).jpg  \n",
            "  inflating: chili-plant-disease/Test/whitefly/download (12).jpg  \n",
            "  inflating: chili-plant-disease/Test/whitefly/download (13).jpg  \n",
            "  inflating: chili-plant-disease/Test/whitefly/download (14).jpg  \n",
            "  inflating: chili-plant-disease/Test/whitefly/download (16).jpg  \n",
            "  inflating: chili-plant-disease/Test/whitefly/download (17).jpg  \n",
            "  inflating: chili-plant-disease/Test/whitefly/download (18).jpg  \n",
            "  inflating: chili-plant-disease/Test/whitefly/download (19).jpg  \n",
            "  inflating: chili-plant-disease/Test/whitefly/download (2).jpg  \n",
            "  inflating: chili-plant-disease/Test/whitefly/download (20).jpg  \n",
            "  inflating: chili-plant-disease/Test/whitefly/download (21).jpg  \n",
            "  inflating: chili-plant-disease/Test/whitefly/download (22).jpg  \n",
            "  inflating: chili-plant-disease/Test/whitefly/download (23).jpg  \n",
            "  inflating: chili-plant-disease/Test/whitefly/download (24).jpg  \n",
            "  inflating: chili-plant-disease/Test/whitefly/download (25).jpg  \n",
            "  inflating: chili-plant-disease/Test/whitefly/download (4).jpg  \n",
            "  inflating: chili-plant-disease/Test/whitefly/download (5).jpg  \n",
            "  inflating: chili-plant-disease/Test/whitefly/download (6).jpg  \n",
            "  inflating: chili-plant-disease/Test/whitefly/download (7).jpg  \n",
            "  inflating: chili-plant-disease/Test/whitefly/download (8).jpg  \n",
            "  inflating: chili-plant-disease/Test/whitefly/download (9).jpg  \n",
            "  inflating: chili-plant-disease/Test/whitefly/images - 2021-05-19T012549.575.jpg  \n",
            "  inflating: chili-plant-disease/Test/whitefly/images - 2021-05-19T012550.473.jpg  \n",
            "  inflating: chili-plant-disease/Test/whitefly/images - 2021-05-19T012550.875.jpg  \n",
            "  inflating: chili-plant-disease/Test/whitefly/images - 2021-05-19T012552.138.jpg  \n",
            "  inflating: chili-plant-disease/Test/whitefly/images - 2021-05-19T012552.212.jpg  \n",
            "  inflating: chili-plant-disease/Test/whitefly/images - 2021-05-19T012552.434.jpg  \n",
            "  inflating: chili-plant-disease/Test/whitefly/images - 2021-05-19T012705.413.jpg  \n",
            "  inflating: chili-plant-disease/Test/whitefly/images - 2021-05-19T012706.205.jpg  \n",
            "  inflating: chili-plant-disease/Test/whitefly/whiteflya11.jpg  \n",
            "  inflating: chili-plant-disease/Test/whitefly/whiteflya12.jpg  \n",
            "  inflating: chili-plant-disease/Test/whitefly/whiteflya13.jpg  \n",
            "  inflating: chili-plant-disease/Test/whitefly/whiteflya14.jpg  \n",
            "  inflating: chili-plant-disease/Test/whitefly/whiteflya15.jpg  \n",
            "   creating: chili-plant-disease/Test/yellowish/\n",
            "  inflating: chili-plant-disease/Test/yellowish/Cabai virus kuning01.jpg  \n",
            "  inflating: chili-plant-disease/Test/yellowish/Cabai virus kuning02.jpg  \n",
            "  inflating: chili-plant-disease/Test/yellowish/Cabai virus kuning03.jpg  \n",
            "  inflating: chili-plant-disease/Test/yellowish/Cabai virus kuning05.jpg  \n",
            "  inflating: chili-plant-disease/Test/yellowish/Cabai virus kuning07.jpg  \n",
            "  inflating: chili-plant-disease/Test/yellowish/Cabai virus kuning12.jpg  \n",
            "  inflating: chili-plant-disease/Test/yellowish/Cabai virus kuning13.jpg  \n",
            "  inflating: chili-plant-disease/Test/yellowish/Cabai virus kuning14.jpg  \n",
            "  inflating: chili-plant-disease/Test/yellowish/Cabai virus kuning15.jpg  \n",
            "  inflating: chili-plant-disease/Test/yellowish/Cabai virus kuning16.jpg  \n",
            "  inflating: chili-plant-disease/Test/yellowish/Cabai virus kuning19.jpg  \n",
            "  inflating: chili-plant-disease/Test/yellowish/Cabai virus kuning21.jpg  \n",
            "  inflating: chili-plant-disease/Test/yellowish/Cabai virus kuning23.jpg  \n",
            "  inflating: chili-plant-disease/Test/yellowish/Cabai virus kuning24.jpg  \n",
            "  inflating: chili-plant-disease/Test/yellowish/Cabai virus kuning25.jpg  \n",
            "  inflating: chili-plant-disease/Test/yellowish/Cabai virus kuning26.jpg  \n",
            "  inflating: chili-plant-disease/Test/yellowish/Cabai virus kuning27.jpg  \n",
            "  inflating: chili-plant-disease/Test/yellowish/Cabai virus kuning28.jpg  \n",
            "  inflating: chili-plant-disease/Test/yellowish/Cabai virus kuning30.jpg  \n",
            "  inflating: chili-plant-disease/Test/yellowish/Cabai virus kuning33.jpg  \n",
            "  inflating: chili-plant-disease/Test/yellowish/Cabai virus kuning37.jpg  \n",
            "  inflating: chili-plant-disease/Test/yellowish/Cabai virus kuning38.jpg  \n",
            "  inflating: chili-plant-disease/Test/yellowish/Cabai virus kuning39.jpg  \n",
            "  inflating: chili-plant-disease/Test/yellowish/Cabai virus kuning42.jpg  \n",
            "  inflating: chili-plant-disease/Test/yellowish/Cabai virus kuning43.jpg  \n",
            "  inflating: chili-plant-disease/Test/yellowish/Cabai virus kuning44.jpg  \n",
            "  inflating: chili-plant-disease/Test/yellowish/yellowish01.jpg  \n",
            "  inflating: chili-plant-disease/Test/yellowish/yellowish02.jpg  \n",
            "  inflating: chili-plant-disease/Test/yellowish/yellowish03 (1).jpg  \n",
            "  inflating: chili-plant-disease/Test/yellowish/yellowish05 (1).jpg  \n",
            "  inflating: chili-plant-disease/Test/yellowish/yellowish06 (1).jpg  \n",
            "  inflating: chili-plant-disease/Test/yellowish/yellowish12 (1).jpg  \n",
            "  inflating: chili-plant-disease/Test/yellowish/yellowish18.jpg  \n",
            "  inflating: chili-plant-disease/Test/yellowish/yellowish19 (1).jpg  \n",
            "  inflating: chili-plant-disease/Test/yellowish/yellowish21 (1).jpg  \n",
            "  inflating: chili-plant-disease/Test/yellowish/yellowish26.jpg  \n",
            "   creating: chili-plant-disease/Train/\n",
            "   creating: chili-plant-disease/Train/healthy/\n",
            "  inflating: chili-plant-disease/Train/healthy/Cabai sehat001.jpg  \n",
            "  inflating: chili-plant-disease/Train/healthy/Cabai sehat002.jpg  \n",
            "  inflating: chili-plant-disease/Train/healthy/Cabai sehat005.jpg  \n",
            "  inflating: chili-plant-disease/Train/healthy/Cabai sehat006.jpg  \n",
            "  inflating: chili-plant-disease/Train/healthy/Cabai sehat008.jpg  \n",
            "  inflating: chili-plant-disease/Train/healthy/Cabai sehat009.jpg  \n",
            "  inflating: chili-plant-disease/Train/healthy/Cabai sehat010.jpg  \n",
            "  inflating: chili-plant-disease/Train/healthy/Cabai sehat012.jpg  \n",
            "  inflating: chili-plant-disease/Train/healthy/Cabai sehat013.jpg  \n",
            "  inflating: chili-plant-disease/Train/healthy/Cabai sehat014.jpg  \n",
            "  inflating: chili-plant-disease/Train/healthy/Cabai sehat015.jpg  \n",
            "  inflating: chili-plant-disease/Train/healthy/Cabai sehat017.jpg  \n",
            "  inflating: chili-plant-disease/Train/healthy/Cabai sehat018.jpg  \n",
            "  inflating: chili-plant-disease/Train/healthy/Cabai sehat019.jpg  \n",
            "  inflating: chili-plant-disease/Train/healthy/Cabai sehat020.jpg  \n",
            "  inflating: chili-plant-disease/Train/healthy/Cabai sehat021.jpg  \n",
            "  inflating: chili-plant-disease/Train/healthy/Cabai sehat022.jpg  \n",
            "  inflating: chili-plant-disease/Train/healthy/Cabai sehat025.jpg  \n",
            "  inflating: chili-plant-disease/Train/healthy/Cabai sehat026.jpg  \n",
            "  inflating: chili-plant-disease/Train/healthy/Cabai sehat027.jpg  \n",
            "  inflating: chili-plant-disease/Train/healthy/Cabai sehat028.jpg  \n",
            "  inflating: chili-plant-disease/Train/healthy/Cabai sehat029.jpg  \n",
            "  inflating: chili-plant-disease/Train/healthy/Cabai sehat031.jpg  \n",
            "  inflating: chili-plant-disease/Train/healthy/Cabai sehat032.jpg  \n",
            "  inflating: chili-plant-disease/Train/healthy/Cabai sehat033.jpg  \n",
            "  inflating: chili-plant-disease/Train/healthy/Cabai sehat035.jpg  \n",
            "  inflating: chili-plant-disease/Train/healthy/Cabai sehat037.jpg  \n",
            "  inflating: chili-plant-disease/Train/healthy/Cabai sehat038.jpg  \n",
            "  inflating: chili-plant-disease/Train/healthy/Cabai sehat039.jpg  \n",
            "  inflating: chili-plant-disease/Train/healthy/Cabai sehat040.jpg  \n",
            "  inflating: chili-plant-disease/Train/healthy/Cabai sehat041.jpg  \n",
            "  inflating: chili-plant-disease/Train/healthy/Cabai sehat042.jpg  \n",
            "  inflating: chili-plant-disease/Train/healthy/Cabai sehat045.jpg  \n",
            "  inflating: chili-plant-disease/Train/healthy/Cabai sehat046.jpg  \n",
            "  inflating: chili-plant-disease/Train/healthy/Cabai sehat047.jpg  \n",
            "  inflating: chili-plant-disease/Train/healthy/Cabai sehat048.jpg  \n",
            "  inflating: chili-plant-disease/Train/healthy/Cabai sehat049.jpg  \n",
            "  inflating: chili-plant-disease/Train/healthy/Cabai sehat050.jpg  \n",
            "  inflating: chili-plant-disease/Train/healthy/Cabai sehat052.jpg  \n",
            "  inflating: chili-plant-disease/Train/healthy/Cabai sehat053.jpg  \n",
            "  inflating: chili-plant-disease/Train/healthy/Cabai sehat054.jpg  \n",
            "  inflating: chili-plant-disease/Train/healthy/Cabai sehat055.jpg  \n",
            "  inflating: chili-plant-disease/Train/healthy/Cabai sehat059.jpg  \n",
            "  inflating: chili-plant-disease/Train/healthy/Cabai sehat061.jpg  \n",
            "  inflating: chili-plant-disease/Train/healthy/Cabai sehat062.jpg  \n",
            "  inflating: chili-plant-disease/Train/healthy/Cabai sehat063.jpg  \n",
            "  inflating: chili-plant-disease/Train/healthy/Cabai sehat065.jpg  \n",
            "  inflating: chili-plant-disease/Train/healthy/Cabai sehat066.jpg  \n",
            "  inflating: chili-plant-disease/Train/healthy/Cabai sehat067.jpg  \n",
            "  inflating: chili-plant-disease/Train/healthy/Cabai sehat071.jpg  \n",
            "  inflating: chili-plant-disease/Train/healthy/Cabai sehat072.jpg  \n",
            "  inflating: chili-plant-disease/Train/healthy/Cabai sehat074.jpg  \n",
            "  inflating: chili-plant-disease/Train/healthy/Cabai sehat075.jpg  \n",
            "  inflating: chili-plant-disease/Train/healthy/Cabai sehat077.jpg  \n",
            "  inflating: chili-plant-disease/Train/healthy/Cabai sehat079.jpg  \n",
            "  inflating: chili-plant-disease/Train/healthy/Cabai sehat081.jpg  \n",
            "  inflating: chili-plant-disease/Train/healthy/Cabai sehat082.jpg  \n",
            "  inflating: chili-plant-disease/Train/healthy/Cabai sehat083.jpg  \n",
            "  inflating: chili-plant-disease/Train/healthy/Cabai sehat085.jpg  \n",
            "  inflating: chili-plant-disease/Train/healthy/Cabai sehat087.jpg  \n",
            "  inflating: chili-plant-disease/Train/healthy/Cabai sehat090.jpg  \n",
            "  inflating: chili-plant-disease/Train/healthy/Cabai sehat092.jpg  \n",
            "  inflating: chili-plant-disease/Train/healthy/Cabai sehat093.jpg  \n",
            "  inflating: chili-plant-disease/Train/healthy/Cabai sehat094.jpg  \n",
            "  inflating: chili-plant-disease/Train/healthy/Cabai sehat095.jpg  \n",
            "  inflating: chili-plant-disease/Train/healthy/Cabai sehat096.jpg  \n",
            "  inflating: chili-plant-disease/Train/healthy/Cabai sehat097.jpg  \n",
            "  inflating: chili-plant-disease/Train/healthy/Cabai sehat099.jpg  \n",
            "  inflating: chili-plant-disease/Train/healthy/Cabai sehat101.jpg  \n",
            "  inflating: chili-plant-disease/Train/healthy/Cabai sehat102.jpg  \n",
            "  inflating: chili-plant-disease/Train/healthy/Cabai sehat103.jpg  \n",
            "  inflating: chili-plant-disease/Train/healthy/Cabai sehat105.jpg  \n",
            "  inflating: chili-plant-disease/Train/healthy/Cabai sehat106.jpg  \n",
            "  inflating: chili-plant-disease/Train/healthy/Cabai sehat107.jpg  \n",
            "  inflating: chili-plant-disease/Train/healthy/Cabai sehat109.jpg  \n",
            "  inflating: chili-plant-disease/Train/healthy/Cabai sehat112.jpg  \n",
            "  inflating: chili-plant-disease/Train/healthy/Cabai sehat113.jpg  \n",
            "  inflating: chili-plant-disease/Train/healthy/Cabai sehat114.jpg  \n",
            "  inflating: chili-plant-disease/Train/healthy/Cabai sehat115.jpg  \n",
            "  inflating: chili-plant-disease/Train/healthy/Cabaisehat111.jpg  \n",
            "   creating: chili-plant-disease/Train/leaf curl/\n",
            "  inflating: chili-plant-disease/Train/leaf curl/download (1).jpg  \n",
            "  inflating: chili-plant-disease/Train/leaf curl/download (10).jpg  \n",
            "  inflating: chili-plant-disease/Train/leaf curl/download (12).jpg  \n",
            "  inflating: chili-plant-disease/Train/leaf curl/download (13).jpg  \n",
            "  inflating: chili-plant-disease/Train/leaf curl/download (14).jpg  \n",
            "  inflating: chili-plant-disease/Train/leaf curl/download (2).jpg  \n",
            "  inflating: chili-plant-disease/Train/leaf curl/download (3).jpg  \n",
            "  inflating: chili-plant-disease/Train/leaf curl/download (4).jpg  \n",
            "  inflating: chili-plant-disease/Train/leaf curl/download (4)a.jpg  \n",
            "  inflating: chili-plant-disease/Train/leaf curl/download (5).jpg  \n",
            "  inflating: chili-plant-disease/Train/leaf curl/download (5)a.jpg  \n",
            "  inflating: chili-plant-disease/Train/leaf curl/download (6).jpg  \n",
            "  inflating: chili-plant-disease/Train/leaf curl/download (6)a.jpg  \n",
            "  inflating: chili-plant-disease/Train/leaf curl/download (7).jpg  \n",
            "  inflating: chili-plant-disease/Train/leaf curl/download (8).jpg  \n",
            "  inflating: chili-plant-disease/Train/leaf curl/download (8)a.jpg  \n",
            "  inflating: chili-plant-disease/Train/leaf curl/download (9).jpg  \n",
            "  inflating: chili-plant-disease/Train/leaf curl/download.jpg  \n",
            "  inflating: chili-plant-disease/Train/leaf curl/images (1)a.jpg  \n",
            "  inflating: chili-plant-disease/Train/leaf curl/images (10).jpg  \n",
            "  inflating: chili-plant-disease/Train/leaf curl/images (10)a.jpg  \n",
            "  inflating: chili-plant-disease/Train/leaf curl/images (11).jpg  \n",
            "  inflating: chili-plant-disease/Train/leaf curl/images (12).jpg  \n",
            "  inflating: chili-plant-disease/Train/leaf curl/images (13).jpg  \n",
            "  inflating: chili-plant-disease/Train/leaf curl/images (14).jpg  \n",
            "  inflating: chili-plant-disease/Train/leaf curl/images (15).jpg  \n",
            "  inflating: chili-plant-disease/Train/leaf curl/images (15)a.jpg  \n",
            "  inflating: chili-plant-disease/Train/leaf curl/images (16).jpg  \n",
            "  inflating: chili-plant-disease/Train/leaf curl/images (16)a.jpg  \n",
            "  inflating: chili-plant-disease/Train/leaf curl/images (17).jpg  \n",
            "  inflating: chili-plant-disease/Train/leaf curl/images (17)a.jpg  \n",
            "  inflating: chili-plant-disease/Train/leaf curl/images (18).jpg  \n",
            "  inflating: chili-plant-disease/Train/leaf curl/images (18)a.jpg  \n",
            "  inflating: chili-plant-disease/Train/leaf curl/images (19).jpg  \n",
            "  inflating: chili-plant-disease/Train/leaf curl/images (19)a.jpg  \n",
            "  inflating: chili-plant-disease/Train/leaf curl/images (2)a.jpg  \n",
            "  inflating: chili-plant-disease/Train/leaf curl/images (20).jpg  \n",
            "  inflating: chili-plant-disease/Train/leaf curl/images (20)a.jpg  \n",
            "  inflating: chili-plant-disease/Train/leaf curl/images (21).jpg  \n",
            "  inflating: chili-plant-disease/Train/leaf curl/images (21)a.jpg  \n",
            "  inflating: chili-plant-disease/Train/leaf curl/images (22).jpg  \n",
            "  inflating: chili-plant-disease/Train/leaf curl/images (22)a.jpg  \n",
            "  inflating: chili-plant-disease/Train/leaf curl/images (23).jpg  \n",
            "  inflating: chili-plant-disease/Train/leaf curl/images (23)a.jpg  \n",
            "  inflating: chili-plant-disease/Train/leaf curl/images (24)a.jpg  \n",
            "  inflating: chili-plant-disease/Train/leaf curl/images (25).jpg  \n",
            "  inflating: chili-plant-disease/Train/leaf curl/images (25)a.jpg  \n",
            "  inflating: chili-plant-disease/Train/leaf curl/images (26).jpg  \n",
            "  inflating: chili-plant-disease/Train/leaf curl/images (27).jpg  \n",
            "  inflating: chili-plant-disease/Train/leaf curl/images (27)a.jpg  \n",
            "  inflating: chili-plant-disease/Train/leaf curl/images (28).jpg  \n",
            "  inflating: chili-plant-disease/Train/leaf curl/images (28)a.jpg  \n",
            "  inflating: chili-plant-disease/Train/leaf curl/images (29).jpg  \n",
            "  inflating: chili-plant-disease/Train/leaf curl/images (29)a.jpg  \n",
            "  inflating: chili-plant-disease/Train/leaf curl/images (3).jpg  \n",
            "  inflating: chili-plant-disease/Train/leaf curl/images (3)a.jpg  \n",
            "  inflating: chili-plant-disease/Train/leaf curl/images (30).jpg  \n",
            "  inflating: chili-plant-disease/Train/leaf curl/images (31).jpg  \n",
            "  inflating: chili-plant-disease/Train/leaf curl/images (31)a.jpg  \n",
            "  inflating: chili-plant-disease/Train/leaf curl/images (32).jpg  \n",
            "  inflating: chili-plant-disease/Train/leaf curl/images (33).jpg  \n",
            "  inflating: chili-plant-disease/Train/leaf curl/images (34).jpg  \n",
            "  inflating: chili-plant-disease/Train/leaf curl/images (35).jpg  \n",
            "  inflating: chili-plant-disease/Train/leaf curl/images (37).jpg  \n",
            "  inflating: chili-plant-disease/Train/leaf curl/images (39).jpg  \n",
            "  inflating: chili-plant-disease/Train/leaf curl/images (4).jpg  \n",
            "  inflating: chili-plant-disease/Train/leaf curl/images (4)a.jpg  \n",
            "  inflating: chili-plant-disease/Train/leaf curl/images (40).jpg  \n",
            "  inflating: chili-plant-disease/Train/leaf curl/images (41).jpg  \n",
            "  inflating: chili-plant-disease/Train/leaf curl/images (5).jpg  \n",
            "  inflating: chili-plant-disease/Train/leaf curl/images (5)a.jpg  \n",
            "  inflating: chili-plant-disease/Train/leaf curl/images (6).jpg  \n",
            "  inflating: chili-plant-disease/Train/leaf curl/images (6)a.jpg  \n",
            "  inflating: chili-plant-disease/Train/leaf curl/images (7).jpg  \n",
            "  inflating: chili-plant-disease/Train/leaf curl/images (7)a.jpg  \n",
            "  inflating: chili-plant-disease/Train/leaf curl/images (8).jpg  \n",
            "  inflating: chili-plant-disease/Train/leaf curl/images (8)a.jpg  \n",
            "  inflating: chili-plant-disease/Train/leaf curl/images (9).jpg  \n",
            "  inflating: chili-plant-disease/Train/leaf curl/images.jpg  \n",
            "  inflating: chili-plant-disease/Train/leaf curl/imagesa.jpg  \n",
            "   creating: chili-plant-disease/Train/leaf spot/\n",
            "  inflating: chili-plant-disease/Train/leaf spot/leaf spot07 (1).jpg  \n",
            "  inflating: chili-plant-disease/Train/leaf spot/leaf spot07.jpg  \n",
            "  inflating: chili-plant-disease/Train/leaf spot/leaf spot08.jpg  \n",
            "  inflating: chili-plant-disease/Train/leaf spot/leaf spot09 (1).jpg  \n",
            "  inflating: chili-plant-disease/Train/leaf spot/leaf spot10 (1).jpg  \n",
            "  inflating: chili-plant-disease/Train/leaf spot/leaf spot10.jpg  \n",
            "  inflating: chili-plant-disease/Train/leaf spot/leaf spot11 (1).jpg  \n",
            "  inflating: chili-plant-disease/Train/leaf spot/leaf spot11.jpg  \n",
            "  inflating: chili-plant-disease/Train/leaf spot/leaf spot12.jpg  \n",
            "  inflating: chili-plant-disease/Train/leaf spot/leaf spot13.jpg  \n",
            "  inflating: chili-plant-disease/Train/leaf spot/leaf spot14 (1).jpg  \n",
            "  inflating: chili-plant-disease/Train/leaf spot/leaf spot14.jpg  \n",
            "  inflating: chili-plant-disease/Train/leaf spot/leaf spot15.jpg  \n",
            "  inflating: chili-plant-disease/Train/leaf spot/leaf spot16.jpg  \n",
            "  inflating: chili-plant-disease/Train/leaf spot/leaf spot17.jpg  \n",
            "  inflating: chili-plant-disease/Train/leaf spot/leaf spot18 (1).jpg  \n",
            "  inflating: chili-plant-disease/Train/leaf spot/leaf spot18.jpg  \n",
            "  inflating: chili-plant-disease/Train/leaf spot/leaf spot19.jpg  \n",
            "  inflating: chili-plant-disease/Train/leaf spot/leaf spot20 (1).jpg  \n",
            "  inflating: chili-plant-disease/Train/leaf spot/leaf spot20.jpg  \n",
            "  inflating: chili-plant-disease/Train/leaf spot/leaf spot21 (1).jpg  \n",
            "  inflating: chili-plant-disease/Train/leaf spot/leaf spot21.jpg  \n",
            "  inflating: chili-plant-disease/Train/leaf spot/leaf spot22 (1).jpg  \n",
            "  inflating: chili-plant-disease/Train/leaf spot/leaf spot22.jpg  \n",
            "  inflating: chili-plant-disease/Train/leaf spot/leaf spot23 (1).jpg  \n",
            "  inflating: chili-plant-disease/Train/leaf spot/leaf spot23.jpg  \n",
            "  inflating: chili-plant-disease/Train/leaf spot/leaf spot24 (1).jpg  \n",
            "  inflating: chili-plant-disease/Train/leaf spot/leaf spot26.jpg  \n",
            "  inflating: chili-plant-disease/Train/leaf spot/leaf spot27 (1).jpg  \n",
            "  inflating: chili-plant-disease/Train/leaf spot/leaf spot28.jpg  \n",
            "  inflating: chili-plant-disease/Train/leaf spot/leaf spot29 (1).jpg  \n",
            "  inflating: chili-plant-disease/Train/leaf spot/leaf spot30 (1).jpg  \n",
            "  inflating: chili-plant-disease/Train/leaf spot/leaf spot31.jpg  \n",
            "  inflating: chili-plant-disease/Train/leaf spot/leaf spot32.jpg  \n",
            "  inflating: chili-plant-disease/Train/leaf spot/leaf spot33.jpg  \n",
            "  inflating: chili-plant-disease/Train/leaf spot/leaf spot34.jpg  \n",
            "  inflating: chili-plant-disease/Train/leaf spot/leaf spot35.jpg  \n",
            "  inflating: chili-plant-disease/Train/leaf spot/leaf spot36.jpg  \n",
            "  inflating: chili-plant-disease/Train/leaf spot/leaf spot38.jpg  \n",
            "  inflating: chili-plant-disease/Train/leaf spot/leaf spot39.jpg  \n",
            "  inflating: chili-plant-disease/Train/leaf spot/leaf spot40.jpg  \n",
            "  inflating: chili-plant-disease/Train/leaf spot/leaf spot41.jpg  \n",
            "  inflating: chili-plant-disease/Train/leaf spot/leaf spot42.jpg  \n",
            "  inflating: chili-plant-disease/Train/leaf spot/leaf spot43.jpg  \n",
            "  inflating: chili-plant-disease/Train/leaf spot/leaf spot44.jpg  \n",
            "  inflating: chili-plant-disease/Train/leaf spot/leaf spot45.jpg  \n",
            "  inflating: chili-plant-disease/Train/leaf spot/leaf spot46.jpg  \n",
            "  inflating: chili-plant-disease/Train/leaf spot/leaf spot47.jpg  \n",
            "  inflating: chili-plant-disease/Train/leaf spot/leaf spot48.jpg  \n",
            "  inflating: chili-plant-disease/Train/leaf spot/leaf spot49.jpg  \n",
            "  inflating: chili-plant-disease/Train/leaf spot/leaf spot52.jpg  \n",
            "  inflating: chili-plant-disease/Train/leaf spot/leaf spot53.jpg  \n",
            "  inflating: chili-plant-disease/Train/leaf spot/leaf spot54.jpg  \n",
            "  inflating: chili-plant-disease/Train/leaf spot/leaf spot55.jpg  \n",
            "  inflating: chili-plant-disease/Train/leaf spot/leaf spot56.jpg  \n",
            "  inflating: chili-plant-disease/Train/leaf spot/leaf spot57.jpg  \n",
            "  inflating: chili-plant-disease/Train/leaf spot/leaf spot58.jpg  \n",
            "  inflating: chili-plant-disease/Train/leaf spot/leaf spot60.jpg  \n",
            "  inflating: chili-plant-disease/Train/leaf spot/leaf spot61.jpg  \n",
            "  inflating: chili-plant-disease/Train/leaf spot/leaf spot62.jpg  \n",
            "  inflating: chili-plant-disease/Train/leaf spot/leaf spot63.jpg  \n",
            "  inflating: chili-plant-disease/Train/leaf spot/leaf spot64.jpg  \n",
            "  inflating: chili-plant-disease/Train/leaf spot/leaf spot65.jpg  \n",
            "  inflating: chili-plant-disease/Train/leaf spot/leaf spot66.jpg  \n",
            "  inflating: chili-plant-disease/Train/leaf spot/leaf spot67.jpg  \n",
            "  inflating: chili-plant-disease/Train/leaf spot/leaf spot68.jpg  \n",
            "  inflating: chili-plant-disease/Train/leaf spot/leaf spot69.jpg  \n",
            "  inflating: chili-plant-disease/Train/leaf spot/leaf spot70.jpg  \n",
            "  inflating: chili-plant-disease/Train/leaf spot/leaf spot71.jpg  \n",
            "  inflating: chili-plant-disease/Train/leaf spot/leaf spot72.jpg  \n",
            "  inflating: chili-plant-disease/Train/leaf spot/leaf spot73.jpg  \n",
            "  inflating: chili-plant-disease/Train/leaf spot/leaf spot74.jpg  \n",
            "  inflating: chili-plant-disease/Train/leaf spot/leaf spot75.jpg  \n",
            "  inflating: chili-plant-disease/Train/leaf spot/leaf spot76.jpg  \n",
            "  inflating: chili-plant-disease/Train/leaf spot/leaf spot77.jpg  \n",
            "  inflating: chili-plant-disease/Train/leaf spot/leaf spot78.jpg  \n",
            "  inflating: chili-plant-disease/Train/leaf spot/leaf spot79.jpg  \n",
            "  inflating: chili-plant-disease/Train/leaf spot/leaf spot80.jpg  \n",
            "  inflating: chili-plant-disease/Train/leaf spot/leaf spot81.jpg  \n",
            "  inflating: chili-plant-disease/Train/leaf spot/leaf spot82.jpg  \n",
            "   creating: chili-plant-disease/Train/whitefly/\n",
            "  inflating: chili-plant-disease/Train/whitefly/download (1).jpg  \n",
            "  inflating: chili-plant-disease/Train/whitefly/download (10).jpg  \n",
            "  inflating: chili-plant-disease/Train/whitefly/download (11).jpg  \n",
            "  inflating: chili-plant-disease/Train/whitefly/download (12).jpg  \n",
            "  inflating: chili-plant-disease/Train/whitefly/download (13).jpg  \n",
            "  inflating: chili-plant-disease/Train/whitefly/download (14).jpg  \n",
            "  inflating: chili-plant-disease/Train/whitefly/download (16).jpg  \n",
            "  inflating: chili-plant-disease/Train/whitefly/download (17).jpg  \n",
            "  inflating: chili-plant-disease/Train/whitefly/download (18).jpg  \n",
            "  inflating: chili-plant-disease/Train/whitefly/download (2).jpg  \n",
            "  inflating: chili-plant-disease/Train/whitefly/download (20).jpg  \n",
            "  inflating: chili-plant-disease/Train/whitefly/download (21).jpg  \n",
            "  inflating: chili-plant-disease/Train/whitefly/download (22).jpg  \n",
            "  inflating: chili-plant-disease/Train/whitefly/download (23).jpg  \n",
            "  inflating: chili-plant-disease/Train/whitefly/download (24).jpg  \n",
            "  inflating: chili-plant-disease/Train/whitefly/download (25).jpg  \n",
            "  inflating: chili-plant-disease/Train/whitefly/download (26).jpg  \n",
            "  inflating: chili-plant-disease/Train/whitefly/download (27).jpg  \n",
            "  inflating: chili-plant-disease/Train/whitefly/download (28).jpg  \n",
            "  inflating: chili-plant-disease/Train/whitefly/download (29).jpg  \n",
            "  inflating: chili-plant-disease/Train/whitefly/download (4).jpg  \n",
            "  inflating: chili-plant-disease/Train/whitefly/download (5).jpg  \n",
            "  inflating: chili-plant-disease/Train/whitefly/download (7).jpg  \n",
            "  inflating: chili-plant-disease/Train/whitefly/download (8).jpg  \n",
            "  inflating: chili-plant-disease/Train/whitefly/download (9).jpg  \n",
            "  inflating: chili-plant-disease/Train/whitefly/images - 2021-05-19T012549.575.jpg  \n",
            "  inflating: chili-plant-disease/Train/whitefly/images - 2021-05-19T012550.473.jpg  \n",
            "  inflating: chili-plant-disease/Train/whitefly/images - 2021-05-19T012550.875.jpg  \n",
            "  inflating: chili-plant-disease/Train/whitefly/images - 2021-05-19T012552.138.jpg  \n",
            "  inflating: chili-plant-disease/Train/whitefly/images - 2021-05-19T012552.212.jpg  \n",
            "  inflating: chili-plant-disease/Train/whitefly/images - 2021-05-19T012552.434.jpg  \n",
            "  inflating: chili-plant-disease/Train/whitefly/images - 2021-05-19T012552.910.jpg  \n",
            "  inflating: chili-plant-disease/Train/whitefly/images - 2021-05-19T012553.128.jpg  \n",
            "  inflating: chili-plant-disease/Train/whitefly/images - 2021-05-19T012553.752.jpg  \n",
            "  inflating: chili-plant-disease/Train/whitefly/images - 2021-05-19T012554.365.jpg  \n",
            "  inflating: chili-plant-disease/Train/whitefly/images - 2021-05-19T012555.339.jpg  \n",
            "  inflating: chili-plant-disease/Train/whitefly/images - 2021-05-19T012556.564.jpg  \n",
            "  inflating: chili-plant-disease/Train/whitefly/images - 2021-05-19T012557.053.jpg  \n",
            "  inflating: chili-plant-disease/Train/whitefly/images - 2021-05-19T012557.253.jpg  \n",
            "  inflating: chili-plant-disease/Train/whitefly/images - 2021-05-19T012557.486.jpg  \n",
            "  inflating: chili-plant-disease/Train/whitefly/images - 2021-05-19T012557.602.jpg  \n",
            "  inflating: chili-plant-disease/Train/whitefly/images - 2021-05-19T012559.345.jpg  \n",
            "  inflating: chili-plant-disease/Train/whitefly/images - 2021-05-19T012559.841.jpg  \n",
            "  inflating: chili-plant-disease/Train/whitefly/images - 2021-05-19T012605.207.jpg  \n",
            "  inflating: chili-plant-disease/Train/whitefly/images - 2021-05-19T012605.410.jpg  \n",
            "  inflating: chili-plant-disease/Train/whitefly/images - 2021-05-19T012606.103.jpg  \n",
            "  inflating: chili-plant-disease/Train/whitefly/images - 2021-05-19T012607.348.jpg  \n",
            "  inflating: chili-plant-disease/Train/whitefly/images - 2021-05-19T012607.458.jpg  \n",
            "  inflating: chili-plant-disease/Train/whitefly/images - 2021-05-19T012608.393.jpg  \n",
            "  inflating: chili-plant-disease/Train/whitefly/images - 2021-05-19T012609.069.jpg  \n",
            "  inflating: chili-plant-disease/Train/whitefly/images - 2021-05-19T012613.186.jpg  \n",
            "  inflating: chili-plant-disease/Train/whitefly/images - 2021-05-19T012614.598.jpg  \n",
            "  inflating: chili-plant-disease/Train/whitefly/images - 2021-05-19T012618.839.jpg  \n",
            "  inflating: chili-plant-disease/Train/whitefly/images - 2021-05-19T012620.191.jpg  \n",
            "  inflating: chili-plant-disease/Train/whitefly/images - 2021-05-19T012620.279.jpg  \n",
            "  inflating: chili-plant-disease/Train/whitefly/images - 2021-05-19T012620.625.jpg  \n",
            "  inflating: chili-plant-disease/Train/whitefly/images - 2021-05-19T012621.039.jpg  \n",
            "  inflating: chili-plant-disease/Train/whitefly/images - 2021-05-19T012621.307.jpg  \n",
            "  inflating: chili-plant-disease/Train/whitefly/images - 2021-05-19T012622.306.jpg  \n",
            "  inflating: chili-plant-disease/Train/whitefly/images - 2021-05-19T012632.285.jpg  \n",
            "  inflating: chili-plant-disease/Train/whitefly/images - 2021-05-19T012635.603.jpg  \n",
            "  inflating: chili-plant-disease/Train/whitefly/images - 2021-05-19T012641.670.jpg  \n",
            "  inflating: chili-plant-disease/Train/whitefly/images - 2021-05-19T012643.666.jpg  \n",
            "  inflating: chili-plant-disease/Train/whitefly/images - 2021-05-19T012647.363.jpg  \n",
            "  inflating: chili-plant-disease/Train/whitefly/images - 2021-05-19T012648.549.jpg  \n",
            "  inflating: chili-plant-disease/Train/whitefly/images - 2021-05-19T012649.363.jpg  \n",
            "  inflating: chili-plant-disease/Train/whitefly/images - 2021-05-19T012650.436.jpg  \n",
            "  inflating: chili-plant-disease/Train/whitefly/images - 2021-05-19T012651.064.jpg  \n",
            "  inflating: chili-plant-disease/Train/whitefly/images - 2021-05-19T012652.769.jpg  \n",
            "  inflating: chili-plant-disease/Train/whitefly/images - 2021-05-19T012653.302.jpg  \n",
            "  inflating: chili-plant-disease/Train/whitefly/images - 2021-05-19T012653.644.jpg  \n",
            "  inflating: chili-plant-disease/Train/whitefly/images - 2021-05-19T012654.687.jpg  \n",
            "  inflating: chili-plant-disease/Train/whitefly/images - 2021-05-19T012701.090.jpg  \n",
            "  inflating: chili-plant-disease/Train/whitefly/images - 2021-05-19T012701.381.jpg  \n",
            "  inflating: chili-plant-disease/Train/whitefly/images - 2021-05-19T012703.025.jpg  \n",
            "  inflating: chili-plant-disease/Train/whitefly/images - 2021-05-19T012705.413.jpg  \n",
            "  inflating: chili-plant-disease/Train/whitefly/images - 2021-05-19T012706.205.jpg  \n",
            "  inflating: chili-plant-disease/Train/whitefly/images - 2021-05-19T012706.977.jpg  \n",
            "  inflating: chili-plant-disease/Train/whitefly/images - 2021-05-19T012708.278.jpg  \n",
            "  inflating: chili-plant-disease/Train/whitefly/images - 2021-05-19T012710.257.jpg  \n",
            "   creating: chili-plant-disease/Train/yellowish/\n",
            "  inflating: chili-plant-disease/Train/yellowish/Cabai virus kuning01.jpg  \n",
            "  inflating: chili-plant-disease/Train/yellowish/Cabai virus kuning02.jpg  \n",
            "  inflating: chili-plant-disease/Train/yellowish/Cabai virus kuning03.jpg  \n",
            "  inflating: chili-plant-disease/Train/yellowish/Cabai virus kuning05.jpg  \n",
            "  inflating: chili-plant-disease/Train/yellowish/Cabai virus kuning07.jpg  \n",
            "  inflating: chili-plant-disease/Train/yellowish/Cabai virus kuning12.jpg  \n",
            "  inflating: chili-plant-disease/Train/yellowish/Cabai virus kuning13.jpg  \n",
            "  inflating: chili-plant-disease/Train/yellowish/Cabai virus kuning14.jpg  \n",
            "  inflating: chili-plant-disease/Train/yellowish/Cabai virus kuning15.jpg  \n",
            "  inflating: chili-plant-disease/Train/yellowish/Cabai virus kuning16.jpg  \n",
            "  inflating: chili-plant-disease/Train/yellowish/Cabai virus kuning19.jpg  \n",
            "  inflating: chili-plant-disease/Train/yellowish/Cabai virus kuning21.jpg  \n",
            "  inflating: chili-plant-disease/Train/yellowish/Cabai virus kuning23.jpg  \n",
            "  inflating: chili-plant-disease/Train/yellowish/Cabai virus kuning24.jpg  \n",
            "  inflating: chili-plant-disease/Train/yellowish/Cabai virus kuning25.jpg  \n",
            "  inflating: chili-plant-disease/Train/yellowish/Cabai virus kuning26.jpg  \n",
            "  inflating: chili-plant-disease/Train/yellowish/Cabai virus kuning27.jpg  \n",
            "  inflating: chili-plant-disease/Train/yellowish/Cabai virus kuning28.jpg  \n",
            "  inflating: chili-plant-disease/Train/yellowish/Cabai virus kuning30.jpg  \n",
            "  inflating: chili-plant-disease/Train/yellowish/Cabai virus kuning33.jpg  \n",
            "  inflating: chili-plant-disease/Train/yellowish/Cabai virus kuning34.jpg  \n",
            "  inflating: chili-plant-disease/Train/yellowish/Cabai virus kuning35.jpg  \n",
            "  inflating: chili-plant-disease/Train/yellowish/Cabai virus kuning37.jpg  \n",
            "  inflating: chili-plant-disease/Train/yellowish/Cabai virus kuning38.jpg  \n",
            "  inflating: chili-plant-disease/Train/yellowish/Cabai virus kuning39.jpg  \n",
            "  inflating: chili-plant-disease/Train/yellowish/Cabai virus kuning42.jpg  \n",
            "  inflating: chili-plant-disease/Train/yellowish/Cabai virus kuning43.jpg  \n",
            "  inflating: chili-plant-disease/Train/yellowish/Cabai virus kuning44.jpg  \n",
            "  inflating: chili-plant-disease/Train/yellowish/yellowish01 (1).jpg  \n",
            "  inflating: chili-plant-disease/Train/yellowish/yellowish02 (1).jpg  \n",
            "  inflating: chili-plant-disease/Train/yellowish/yellowish03.jpg  \n",
            "  inflating: chili-plant-disease/Train/yellowish/yellowish04 (1).jpg  \n",
            "  inflating: chili-plant-disease/Train/yellowish/yellowish04.jpg  \n",
            "  inflating: chili-plant-disease/Train/yellowish/yellowish05.jpg  \n",
            "  inflating: chili-plant-disease/Train/yellowish/yellowish06.jpg  \n",
            "  inflating: chili-plant-disease/Train/yellowish/yellowish07 (1).jpg  \n",
            "  inflating: chili-plant-disease/Train/yellowish/yellowish08.jpg  \n",
            "  inflating: chili-plant-disease/Train/yellowish/yellowish10 (1).jpg  \n",
            "  inflating: chili-plant-disease/Train/yellowish/yellowish10.jpg  \n",
            "  inflating: chili-plant-disease/Train/yellowish/yellowish11.jpg  \n",
            "  inflating: chili-plant-disease/Train/yellowish/yellowish13 (1).jpg  \n",
            "  inflating: chili-plant-disease/Train/yellowish/yellowish13.jpg  \n",
            "  inflating: chili-plant-disease/Train/yellowish/yellowish14 (1).jpg  \n",
            "  inflating: chili-plant-disease/Train/yellowish/yellowish14.jpg  \n",
            "  inflating: chili-plant-disease/Train/yellowish/yellowish15 (1).jpg  \n",
            "  inflating: chili-plant-disease/Train/yellowish/yellowish15.jpg  \n",
            "  inflating: chili-plant-disease/Train/yellowish/yellowish16 (1).jpg  \n",
            "  inflating: chili-plant-disease/Train/yellowish/yellowish17 (1).jpg  \n",
            "  inflating: chili-plant-disease/Train/yellowish/yellowish17.jpg  \n",
            "  inflating: chili-plant-disease/Train/yellowish/yellowish19.jpg  \n",
            "  inflating: chili-plant-disease/Train/yellowish/yellowish20 (1).jpg  \n",
            "  inflating: chili-plant-disease/Train/yellowish/yellowish20.jpg  \n",
            "  inflating: chili-plant-disease/Train/yellowish/yellowish21.jpg  \n",
            "  inflating: chili-plant-disease/Train/yellowish/yellowish22.jpg  \n",
            "  inflating: chili-plant-disease/Train/yellowish/yellowish23 (1).jpg  \n",
            "  inflating: chili-plant-disease/Train/yellowish/yellowish23.jpg  \n",
            "  inflating: chili-plant-disease/Train/yellowish/yellowish25.jpg  \n",
            "  inflating: chili-plant-disease/Train/yellowish/yellowish27.jpg  \n",
            "  inflating: chili-plant-disease/Train/yellowish/yellowish28.jpg  \n",
            "  inflating: chili-plant-disease/Train/yellowish/yellowisha01.jpg  \n",
            "  inflating: chili-plant-disease/Train/yellowish/yellowisha03.jpg  \n",
            "  inflating: chili-plant-disease/Train/yellowish/yellowisha04.jpg  \n",
            "  inflating: chili-plant-disease/Train/yellowish/yellowisha05.jpg  \n",
            "  inflating: chili-plant-disease/Train/yellowish/yellowisha06.jpg  \n",
            "  inflating: chili-plant-disease/Train/yellowish/yellowisha07.jpg  \n",
            "  inflating: chili-plant-disease/Train/yellowish/yellowisha08.jpg  \n",
            "  inflating: chili-plant-disease/Train/yellowish/yellowisha09.jpg  \n",
            "  inflating: chili-plant-disease/Train/yellowish/yellowisha10.jpg  \n",
            "  inflating: chili-plant-disease/Train/yellowish/yellowisha11.jpg  \n",
            "  inflating: chili-plant-disease/Train/yellowish/yellowisha12.jpg  \n",
            "  inflating: chili-plant-disease/Train/yellowish/yellowisha13.jpg  \n",
            "  inflating: chili-plant-disease/Train/yellowish/yellowisha14.jpg  \n",
            "  inflating: chili-plant-disease/Train/yellowish/yellowisha15.jpg  \n",
            "  inflating: chili-plant-disease/Train/yellowish/yellowisha16.jpg  \n",
            "  inflating: chili-plant-disease/Train/yellowish/yellowisha17.jpg  \n",
            "  inflating: chili-plant-disease/Train/yellowish/yellowisha18.jpg  \n",
            "  inflating: chili-plant-disease/Train/yellowish/yellowisha19.jpg  \n",
            "  inflating: chili-plant-disease/Train/yellowish/yellowisha20.jpg  \n",
            "  inflating: chili-plant-disease/Train/yellowish/yellowisha21.jpg  \n",
            "  inflating: chili-plant-disease/Train/yellowish/yellowisha22.jpg  \n",
            "   creating: chili-plant-disease/Val/\n",
            "   creating: chili-plant-disease/Val/healthy/\n",
            "  inflating: chili-plant-disease/Val/healthy/Cabai sehat056.jpg  \n",
            "  inflating: chili-plant-disease/Val/healthy/Cabai sehat069.jpg  \n",
            "  inflating: chili-plant-disease/Val/healthy/Cabai sehat070.jpg  \n",
            "  inflating: chili-plant-disease/Val/healthy/Cabai sehat076.jpg  \n",
            "  inflating: chili-plant-disease/Val/healthy/Cabai sehat078.jpg  \n",
            "  inflating: chili-plant-disease/Val/healthy/Cabai sehat080.jpg  \n",
            "  inflating: chili-plant-disease/Val/healthy/Cabai sehat084.jpg  \n",
            "  inflating: chili-plant-disease/Val/healthy/Cabai sehat098.jpg  \n",
            "  inflating: chili-plant-disease/Val/healthy/Cabai sehat100.jpg  \n",
            "  inflating: chili-plant-disease/Val/healthy/Cabai sehat110.jpg  \n",
            "   creating: chili-plant-disease/Val/leaf curl/\n",
            "  inflating: chili-plant-disease/Val/leaf curl/download (1).jpg  \n",
            "  inflating: chili-plant-disease/Val/leaf curl/download (2).jpg  \n",
            "  inflating: chili-plant-disease/Val/leaf curl/download (3).jpg  \n",
            "  inflating: chili-plant-disease/Val/leaf curl/download (9).jpg  \n",
            "  inflating: chili-plant-disease/Val/leaf curl/images (12).jpg  \n",
            "  inflating: chili-plant-disease/Val/leaf curl/images (13).jpg  \n",
            "  inflating: chili-plant-disease/Val/leaf curl/images (26).jpg  \n",
            "  inflating: chili-plant-disease/Val/leaf curl/images (30).jpg  \n",
            "  inflating: chili-plant-disease/Val/leaf curl/images (32).jpg  \n",
            "  inflating: chili-plant-disease/Val/leaf curl/images (9).jpg  \n",
            "   creating: chili-plant-disease/Val/leaf spot/\n",
            "  inflating: chili-plant-disease/Val/leaf spot/leaf spot01 (1).jpg  \n",
            "  inflating: chili-plant-disease/Val/leaf spot/leaf spot01.jpg  \n",
            "  inflating: chili-plant-disease/Val/leaf spot/leaf spot02 (1).jpg  \n",
            "  inflating: chili-plant-disease/Val/leaf spot/leaf spot02.jpg  \n",
            "  inflating: chili-plant-disease/Val/leaf spot/leaf spot03 (1).jpg  \n",
            "  inflating: chili-plant-disease/Val/leaf spot/leaf spot03.jpg  \n",
            "  inflating: chili-plant-disease/Val/leaf spot/leaf spot04 (1).jpg  \n",
            "  inflating: chili-plant-disease/Val/leaf spot/leaf spot04.jpg  \n",
            "  inflating: chili-plant-disease/Val/leaf spot/leaf spot05 (1).jpg  \n",
            "  inflating: chili-plant-disease/Val/leaf spot/leaf spot05.jpg  \n",
            "   creating: chili-plant-disease/Val/whitefly/\n",
            "  inflating: chili-plant-disease/Val/whitefly/whiteflya01.jpg  \n",
            "  inflating: chili-plant-disease/Val/whitefly/whiteflya02.jpg  \n",
            "  inflating: chili-plant-disease/Val/whitefly/whiteflya03.jpg  \n",
            "  inflating: chili-plant-disease/Val/whitefly/whiteflya04.jpg  \n",
            "  inflating: chili-plant-disease/Val/whitefly/whiteflya05.jpg  \n",
            "  inflating: chili-plant-disease/Val/whitefly/whiteflya06.jpg  \n",
            "  inflating: chili-plant-disease/Val/whitefly/whiteflya07.jpg  \n",
            "  inflating: chili-plant-disease/Val/whitefly/whiteflya08.jpg  \n",
            "  inflating: chili-plant-disease/Val/whitefly/whiteflya09.jpg  \n",
            "  inflating: chili-plant-disease/Val/whitefly/whiteflya10.jpg  \n",
            "   creating: chili-plant-disease/Val/yellowish/\n",
            "  inflating: chili-plant-disease/Val/yellowish/yellowish07.jpg  \n",
            "  inflating: chili-plant-disease/Val/yellowish/yellowish08 (1).jpg  \n",
            "  inflating: chili-plant-disease/Val/yellowish/yellowish09 (1).jpg  \n",
            "  inflating: chili-plant-disease/Val/yellowish/yellowish09.jpg  \n",
            "  inflating: chili-plant-disease/Val/yellowish/yellowish11 (1).jpg  \n",
            "  inflating: chili-plant-disease/Val/yellowish/yellowish12.jpg  \n",
            "  inflating: chili-plant-disease/Val/yellowish/yellowish16.jpg  \n",
            "  inflating: chili-plant-disease/Val/yellowish/yellowish18 (1).jpg  \n",
            "  inflating: chili-plant-disease/Val/yellowish/yellowish22 (1).jpg  \n",
            "  inflating: chili-plant-disease/Val/yellowish/yellowish24.jpg  \n"
          ]
        }
      ]
    },
    {
      "cell_type": "code",
      "source": [
        "train_healthy_dir = os.path.join('/content/chili-plant-disease/Train/healthy')\n",
        "\n",
        "train_leafcurl_dir = os.path.join('/content/chili-plant-disease/Train/leaf curl')\n",
        "\n",
        "valid_healthy_dir = os.path.join('/content/chili-plant-disease/Valid/healthy')\n",
        "\n",
        "valid_leafcurl_dir = os.path.join('/content/chili-plant-disease/Valid/leaf curl')"
      ],
      "metadata": {
        "id": "LOdcVkhYYedp"
      },
      "execution_count": null,
      "outputs": []
    },
    {
      "cell_type": "code",
      "source": [
        "train_healthy_names = os.listdir(train_healthy_dir)\n",
        "print(train_healthy_names[:10])\n",
        "\n",
        "train_leafcurl_names = os.listdir(train_leafcurl_dir)\n",
        "print(train_leafcurl_names[:10])\n",
        "\n",
        "validation_healthy_hames = os.listdir(valid_healthy_dir)\n",
        "print(validation_healthy_hames[:10])\n",
        "\n",
        "validation_leafcurl_names = os.listdir(valid_leafcurl_dir)\n",
        "print(validation_leafcurl_names[:10])\n"
      ],
      "metadata": {
        "colab": {
          "base_uri": "https://localhost:8080/"
        },
        "id": "1nOuCQzsaLFZ",
        "outputId": "047cd419-ed66-4983-86ab-62b8480eb412"
      },
      "execution_count": null,
      "outputs": [
        {
          "output_type": "stream",
          "name": "stdout",
          "text": [
            "['Cabai sehat045.jpg', 'Cabai sehat039.jpg', 'Cabai sehat055.jpg', 'Cabai sehat001.jpg', 'Cabai sehat103.jpg', 'Cabai sehat028.jpg', 'Cabai sehat072.jpg', 'Cabai sehat025.jpg', 'Cabai sehat112.jpg', 'Cabai sehat017.jpg']\n",
            "['download (4).jpg', 'download (6)a.jpg', 'download (5)a.jpg', 'images (32).jpg', 'images (26).jpg', 'download (3).jpg', 'images (25)a.jpg', 'images (10).jpg', 'download (4)a.jpg', 'images (18).jpg']\n",
            "['Cabai sehat098.jpg', 'Cabai sehat056.jpg', 'Cabai sehat084.jpg', 'Cabai sehat069.jpg', 'Cabai sehat076.jpg', 'Cabai sehat110.jpg', 'Cabai sehat100.jpg', 'Cabai sehat070.jpg', 'Cabai sehat080.jpg', 'Cabai sehat078.jpg']\n",
            "['images (32).jpg', 'images (26).jpg', 'download (3).jpg', 'images (9).jpg', 'download (1).jpg', 'images (13).jpg', 'download (2).jpg', 'images (30).jpg', 'images (12).jpg', 'download (9).jpg']\n"
          ]
        }
      ]
    },
    {
      "cell_type": "code",
      "source": [
        "print('total training healthy images:', len(os.listdir(train_healthy_dir)))\n",
        "\n",
        "print('total training leafcurl images:', len(os.listdir(train_leafcurl_dir)))\n",
        "\n",
        "print('total validation healthy images:', len(os.listdir(valid_healthy_dir)))\n",
        "\n",
        "print('total validation leafcurl images:', len(os.listdir(valid_leafcurl_dir)))"
      ],
      "metadata": {
        "colab": {
          "base_uri": "https://localhost:8080/"
        },
        "id": "wbNSAI2KcuXu",
        "outputId": "ab58ff5a-0781-4e5b-8571-7a37bd6082e4"
      },
      "execution_count": null,
      "outputs": [
        {
          "output_type": "stream",
          "name": "stdout",
          "text": [
            "total training healthy images: 80\n",
            "total training leafcurl images: 80\n",
            "total validation healthy images: 10\n",
            "total validation leafcurl images: 10\n"
          ]
        }
      ]
    },
    {
      "cell_type": "code",
      "source": [
        "%matplotlib inline\n",
        "\n",
        "import matplotlib.pyplot as plt\n",
        "import matplotlib.image as mpimg\n",
        "\n",
        "# Parameters for our graph; we'll output images in a 4x4 configuration\n",
        "nrows = 4\n",
        "ncols = 4\n",
        "\n",
        "# Index for iterating over images\n",
        "pic_index = 0"
      ],
      "metadata": {
        "id": "jB_PGHxIdlgi"
      },
      "execution_count": null,
      "outputs": []
    },
    {
      "cell_type": "code",
      "source": [
        "# Set up matplotlib fig, and size it to fit 4x4 pics\n",
        "fig = plt.gcf()\n",
        "fig.set_size_inches(ncols * 4, nrows * 4)\n",
        "\n",
        "pic_index += 8\n",
        "next_dandelion_pic = [os.path.join(train_healthy_dir, fname) \n",
        "                for fname in train_healthy_names[pic_index-8:pic_index]]\n",
        "next_grass_pic = [os.path.join(train_leafcurl_dir, fname) \n",
        "                for fname in train_leafcurl_names[pic_index-8:pic_index]]\n",
        "\n",
        "for i, img_path in enumerate(next_healthy_pic + next_leafcurl_pic):\n",
        "  # Set up subplot; subplot indices start at 1\n",
        "  sp = plt.subplot(nrows, ncols, i + 1)\n",
        "  sp.axis('Off') # Don't show axes (or gridlines)\n",
        "\n",
        "  img = mpimg.imread(img_path)\n",
        "  plt.imshow(img)\n",
        "\n",
        "plt.show()\n"
      ],
      "metadata": {
        "colab": {
          "base_uri": "https://localhost:8080/",
          "height": 35
        },
        "id": "jPusMArgdqcD",
        "outputId": "ba5fb70d-bb90-4a63-e2c1-618214596061"
      },
      "execution_count": null,
      "outputs": [
        {
          "output_type": "display_data",
          "data": {
            "text/plain": [
              "<Figure size 1152x1152 with 0 Axes>"
            ]
          },
          "metadata": {}
        }
      ]
    },
    {
      "cell_type": "code",
      "source": [
        "from tensorflow.keras.preprocessing.image import ImageDataGenerator\n",
        "\n",
        "# All images will be rescaled by 1./255\n",
        "train_datagen = ImageDataGenerator(rescale=1/255)\n",
        "validation_datagen = ImageDataGenerator(rescale=1/255)\n",
        "\n",
        "# Flow training images in batches of 120 using train_datagen generator\n",
        "train_generator = train_datagen.flow_from_directory(\n",
        "        '/content/chili-plant-disease/Train',  # This is the source directory for training images\n",
        "        classes = ['healthy', 'leaf curl'],\n",
        "        target_size=(200, 200),  # All images will be resized to 200x200\n",
        "        batch_size=120,\n",
        "        # Use binary labels\n",
        "        class_mode='binary')\n",
        "\n",
        "# Flow validation images in batches of 19 using valid_datagen generator\n",
        "validation_generator = validation_datagen.flow_from_directory(\n",
        "        '/content/chili-plant-disease/Valid',  # This is the source directory for training images\n",
        "        classes = ['healthy', 'leaf curl'],\n",
        "        target_size=(200, 200),  # All images will be resized to 200x200\n",
        "        batch_size=19,\n",
        "        # Use binary labels\n",
        "        class_mode='binary',\n",
        "        shuffle=False)"
      ],
      "metadata": {
        "colab": {
          "base_uri": "https://localhost:8080/"
        },
        "id": "YgWrh7Mjg88E",
        "outputId": "d95d96ac-8f43-4e11-a3eb-96529e870e01"
      },
      "execution_count": null,
      "outputs": [
        {
          "output_type": "stream",
          "name": "stdout",
          "text": [
            "Found 160 images belonging to 2 classes.\n",
            "Found 20 images belonging to 2 classes.\n"
          ]
        }
      ]
    },
    {
      "cell_type": "markdown",
      "source": [
        "# BUILDING"
      ],
      "metadata": {
        "id": "NhAlf7lzgUlF"
      }
    },
    {
      "cell_type": "code",
      "source": [
        "import tensorflow as tf\n",
        "import numpy as np\n",
        "from itertools import cycle\n",
        "\n",
        "from sklearn import svm, datasets\n",
        "from sklearn.metrics import roc_curve, auc\n",
        "from sklearn.model_selection import train_test_split\n",
        "from sklearn.preprocessing import label_binarize\n",
        "from sklearn.multiclass import OneVsRestClassifier\n",
        "from scipy import interp\n",
        "from sklearn.metrics import roc_auc_score"
      ],
      "metadata": {
        "id": "vX7oFmJKgX6t"
      },
      "execution_count": null,
      "outputs": []
    },
    {
      "cell_type": "code",
      "source": [
        "import tensorflow as tf\n",
        "from tensorflow.keras.optimizers import RMSprop\n",
        "from tensorflow.keras.preprocessing.image import ImageDataGenerator\n",
        "\n",
        "from keras.models import Sequential\n",
        "from keras.layers import Activation, Dense, Conv2D, MaxPooling2D, ZeroPadding2D, Flatten\n",
        "from keras.preprocessing.image import ImageDataGenerator\n",
        "\n",
        "model = Sequential()\n",
        "\n",
        "# Conv Layer pertama\n",
        "model.add(Conv2D(16, (3,3), activation = 'relu', input_shape=(200,200, 3)))\n",
        "model.add(MaxPooling2D(2,2))\n",
        "\n",
        "# Conv Layer kedua\n",
        "model.add(Conv2D(32, (3,3), activation = 'relu'))\n",
        "model.add(MaxPooling2D(2,2))\n",
        "\n",
        "# Conv Layer ketiga\n",
        "model.add(Conv2D(64, (3,3), activation = 'relu'))\n",
        "model.add(MaxPooling2D(2,2))\n",
        "\n",
        "# Conv Layer keempat\n",
        "model.add(Conv2D(64, (3,3), activation = 'relu'))\n",
        "model.add(MaxPooling2D(2,2))\n",
        "\n",
        "# Conv Layer kelima\n",
        "model.add(Conv2D(32, (3,3), activation = 'relu'))\n",
        "model.add(MaxPooling2D(2,2))\n",
        "\n",
        "# Flatten\n",
        "model.add(Flatten())\n",
        "\n",
        "# Fully Connected Layer\n",
        "model.add(Dense(512, activation='relu'))\n",
        "model.add(Dense(1, activation='sigmoid'))"
      ],
      "metadata": {
        "id": "1qqBnv9gghgu"
      },
      "execution_count": null,
      "outputs": []
    },
    {
      "cell_type": "code",
      "source": [
        "model.summary()"
      ],
      "metadata": {
        "colab": {
          "base_uri": "https://localhost:8080/"
        },
        "id": "pfyShQQogklX",
        "outputId": "b0fb075d-96d9-4b5c-9fe7-25d75138e064"
      },
      "execution_count": null,
      "outputs": [
        {
          "output_type": "stream",
          "name": "stdout",
          "text": [
            "Model: \"sequential_1\"\n",
            "_________________________________________________________________\n",
            " Layer (type)                Output Shape              Param #   \n",
            "=================================================================\n",
            " conv2d_5 (Conv2D)           (None, 198, 198, 16)      448       \n",
            "                                                                 \n",
            " max_pooling2d_5 (MaxPooling  (None, 99, 99, 16)       0         \n",
            " 2D)                                                             \n",
            "                                                                 \n",
            " conv2d_6 (Conv2D)           (None, 97, 97, 32)        4640      \n",
            "                                                                 \n",
            " max_pooling2d_6 (MaxPooling  (None, 48, 48, 32)       0         \n",
            " 2D)                                                             \n",
            "                                                                 \n",
            " conv2d_7 (Conv2D)           (None, 46, 46, 64)        18496     \n",
            "                                                                 \n",
            " max_pooling2d_7 (MaxPooling  (None, 23, 23, 64)       0         \n",
            " 2D)                                                             \n",
            "                                                                 \n",
            " conv2d_8 (Conv2D)           (None, 21, 21, 64)        36928     \n",
            "                                                                 \n",
            " max_pooling2d_8 (MaxPooling  (None, 10, 10, 64)       0         \n",
            " 2D)                                                             \n",
            "                                                                 \n",
            " conv2d_9 (Conv2D)           (None, 8, 8, 32)          18464     \n",
            "                                                                 \n",
            " max_pooling2d_9 (MaxPooling  (None, 4, 4, 32)         0         \n",
            " 2D)                                                             \n",
            "                                                                 \n",
            " flatten_1 (Flatten)         (None, 512)               0         \n",
            "                                                                 \n",
            " dense_2 (Dense)             (None, 512)               262656    \n",
            "                                                                 \n",
            " dense_3 (Dense)             (None, 1)                 513       \n",
            "                                                                 \n",
            "=================================================================\n",
            "Total params: 342,145\n",
            "Trainable params: 342,145\n",
            "Non-trainable params: 0\n",
            "_________________________________________________________________\n"
          ]
        }
      ]
    },
    {
      "cell_type": "code",
      "source": [
        "model.compile(optimizer = tf.optimizers.Adam(),\n",
        "              loss = 'binary_crossentropy',\n",
        "              metrics=['accuracy'])"
      ],
      "metadata": {
        "id": "wEB93BA2gn-p"
      },
      "execution_count": null,
      "outputs": []
    },
    {
      "cell_type": "markdown",
      "source": [
        "# TRAIN"
      ],
      "metadata": {
        "id": "C8pzryYBgrxN"
      }
    },
    {
      "cell_type": "code",
      "source": [
        "history = model.fit(train_generator,\n",
        "      steps_per_epoch=8,  \n",
        "      epochs=5,\n",
        "      verbose=1,\n",
        "      validation_data = validation_generator,\n",
        "      validation_steps=8)"
      ],
      "metadata": {
        "colab": {
          "base_uri": "https://localhost:8080/"
        },
        "id": "Q2jFaGqWgqZH",
        "outputId": "002a28b6-c11d-46d5-f119-f765913749b8"
      },
      "execution_count": null,
      "outputs": [
        {
          "output_type": "stream",
          "name": "stdout",
          "text": [
            "Epoch 1/5\n",
            "2/8 [======>.......................] - ETA: 37s - loss: 0.6908 - accuracy: 0.5000WARNING:tensorflow:Your input ran out of data; interrupting training. Make sure that your dataset or generator can generate at least `steps_per_epoch * epochs` batches (in this case, 40 batches). You may need to use the repeat() function when building your dataset.\n",
            "WARNING:tensorflow:Your input ran out of data; interrupting training. Make sure that your dataset or generator can generate at least `steps_per_epoch * epochs` batches (in this case, 8 batches). You may need to use the repeat() function when building your dataset.\n",
            "8/8 [==============================] - 9s 998ms/step - loss: 0.6908 - accuracy: 0.5000 - val_loss: 0.6884 - val_accuracy: 0.5000\n"
          ]
        }
      ]
    },
    {
      "cell_type": "code",
      "source": [
        "model.evaluate(validation_generator)"
      ],
      "metadata": {
        "colab": {
          "base_uri": "https://localhost:8080/"
        },
        "id": "pt8jYTNHkQTa",
        "outputId": "b3f0d1db-dd2d-4092-ff04-ec834b7a85eb"
      },
      "execution_count": null,
      "outputs": [
        {
          "output_type": "stream",
          "name": "stdout",
          "text": [
            "2/2 [==============================] - 0s 44ms/step - loss: 0.6884 - accuracy: 0.5000\n"
          ]
        },
        {
          "output_type": "execute_result",
          "data": {
            "text/plain": [
              "[0.6883761882781982, 0.5]"
            ]
          },
          "metadata": {},
          "execution_count": 67
        }
      ]
    },
    {
      "cell_type": "code",
      "source": [
        "STEP_SIZE_TEST=validation_generator.n//validation_generator.batch_size\n",
        "validation_generator.reset()\n",
        "preds = model.predict(validation_generator,\n",
        "                      verbose=1)"
      ],
      "metadata": {
        "colab": {
          "base_uri": "https://localhost:8080/"
        },
        "id": "YuiW2kHSkgGG",
        "outputId": "20896530-976f-4da4-e6f7-ca56f46096f4"
      },
      "execution_count": null,
      "outputs": [
        {
          "output_type": "stream",
          "name": "stdout",
          "text": [
            "2/2 [==============================] - 0s 44ms/step\n"
          ]
        }
      ]
    },
    {
      "cell_type": "code",
      "source": [
        "fpr, tpr, _ = roc_curve(validation_generator.classes, preds)"
      ],
      "metadata": {
        "id": "klz_0Sy6kiGP"
      },
      "execution_count": null,
      "outputs": []
    },
    {
      "cell_type": "code",
      "source": [
        "roc_auc = auc(fpr, tpr)"
      ],
      "metadata": {
        "id": "Yri1xEajklpb"
      },
      "execution_count": null,
      "outputs": []
    },
    {
      "cell_type": "code",
      "source": [
        "plt.figure()\n",
        "lw = 2\n",
        "plt.plot(fpr, tpr, color='darkorange',\n",
        "         lw=lw, label='ROC curve (area = %0.2f)' % roc_auc)\n",
        "plt.plot([0, 1], [0, 1], color='navy', lw=lw, linestyle='--')\n",
        "plt.xlim([0.0, 1.0])\n",
        "plt.ylim([0.0, 1.05])\n",
        "plt.xlabel('False Positive Rate')\n",
        "plt.ylabel('True Positive Rate')\n",
        "plt.title('Receiver Operating Characteristic')\n",
        "plt.legend(loc=\"lower right\")\n",
        "plt.show()"
      ],
      "metadata": {
        "colab": {
          "base_uri": "https://localhost:8080/",
          "height": 294
        },
        "id": "3Sg4fho2kopG",
        "outputId": "a39bc6c4-3b05-436e-9e80-b6f1095ca59c"
      },
      "execution_count": null,
      "outputs": [
        {
          "output_type": "display_data",
          "data": {
            "text/plain": [
              "<Figure size 432x288 with 1 Axes>"
            ],
            "image/png": "[encoded data removed]"
          },
          "metadata": {
            "needs_background": "light"
          }
        }
      ]
    },
    {
      "cell_type": "code",
      "source": [
        "model.save('model_2.h5')"
      ],
      "metadata": {
        "id": "yFDy5iHZkqxK"
      },
      "execution_count": null,
      "outputs": []
    },
    {
      "cell_type": "code",
      "source": [
        "%matplotlib inline\n",
        "import matplotlib.pyplot as plt\n",
        "import numpy as np\n",
        "from google.colab import files\n",
        "from keras.preprocessing import image\n",
        "\n",
        "uploaded = files.upload()\n",
        "\n",
        "for fn in uploaded.keys():\n",
        " \n",
        "  # predicting images\n",
        "  path = '/content/' + fn\n",
        "  img = image.load_img(path, target_size=(200, 200))\n",
        "  x = image.img_to_array(img)\n",
        "  plt.imshow(x/255.)\n",
        "  x = np.expand_dims(x, axis=0)\n",
        "  images = np.vstack([x])\n",
        "  classes = model.predict(images, batch_size=10)\n",
        "  print(classes[0])\n",
        "  if classes[0]<0.5:\n",
        "    print(fn + \" cabai ini sehat \")\n",
        "  else:\n",
        "    print(fn + \" cabai ini menderita leaf curl \")\n",
        " "
      ],
      "metadata": {
        "colab": {
          "resources": {
            "http://localhost:8080/nbextensions/google.colab/files.js": {
              "data": "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",
              "ok": true,
              "headers": [
                [
                  "content-type",
                  "application/javascript"
                ]
              ],
              "status": 200,
              "status_text": ""
            }
          },
          "base_uri": "https://localhost:8080/",
          "height": 363
        },
        "id": "OQWCasQNktgx",
        "outputId": "91473157-9f7e-49a8-d039-4819488f4af1"
      },
      "execution_count": null,
      "outputs": [
        {
          "output_type": "display_data",
          "data": {
            "text/plain": [
              "<IPython.core.display.HTML object>"
            ],
            "text/html": [
              "\n",
              "     <input type=\"file\" id=\"files-293b058e-4de3-4886-ac02-da3571b34cad\" name=\"files[]\" multiple disabled\n",
              "        style=\"border:none\" />\n",
              "     <output id=\"result-293b058e-4de3-4886-ac02-da3571b34cad\">\n",
              "      Upload widget is only available when the cell has been executed in the\n",
              "      current browser session. Please rerun this cell to enable.\n",
              "      </output>\n",
              "      <script src=\"/nbextensions/google.colab/files.js\"></script> "
            ]
          },
          "metadata": {}
        },
        {
          "output_type": "stream",
          "name": "stdout",
          "text": [
            "Saving images (32).jpg to images (32).jpg\n",
            "[1.3108988e-09]\n",
            "images (32).jpg cabai ini sehat \n"
          ]
        },
        {
          "output_type": "display_data",
          "data": {
            "text/plain": [
              "<Figure size 432x288 with 1 Axes>"
            ],
            "image/png": "[encoded data removed]"
          },
          "metadata": {
            "needs_background": "light"
          }
        }
      ]
    }
  ]
}