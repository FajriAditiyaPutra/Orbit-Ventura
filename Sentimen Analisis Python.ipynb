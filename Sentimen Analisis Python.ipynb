{
  "cells": [
    {
      "cell_type": "markdown",
      "metadata": {
        "id": "view-in-github",
        "colab_type": "text"
      },
      "source": [
        "<a href=\"https://colab.research.google.com/github/FajriAditiyaPutra/Orbit-Ventura/blob/main/Sentimen%20Analisis%20Python.ipynb\" target=\"_parent\"><img src=\"https://colab.research.google.com/assets/colab-badge.svg\" alt=\"Open In Colab\"/></a>"
      ]
    },
    {
      "cell_type": "markdown",
      "metadata": {
        "id": "3mebfOxIHlgi"
      },
      "source": [
        "# PENTING DAN MOHON PERHATIAN\n",
        "\n",
        "Pada Preprocessing kode ini menggunakan 2 STOPWORDS, yaitu Stopwords bahasa Indonesia dan Stopwords bahasa Inggris. \n",
        "\n",
        "Langkah-langkah mengerjakan:\n",
        "1. Run Preprocessing kode menggunakan stopwords Bahasa Indonesia terlebih dahulu, run sampai selesai\n",
        "\n",
        "2. Run Preprocessing kode menggunakan stopwords Bahasa Inggris, dan run sampai selesai"
      ]
    },
    {
      "cell_type": "markdown",
      "metadata": {
        "id": "u_z6LklZO7S6"
      },
      "source": [
        "# Analisa Sentimen menggunakan Algoritma Logistic Regression"
      ]
    },
    {
      "cell_type": "code",
      "execution_count": 1,
      "metadata": {
        "id": "wQi9VQmhO7TB"
      },
      "outputs": [],
      "source": [
        "import numpy as np #linier algebra\n",
        "import pandas as pd # data processing, CSV file I/O (e.g pd.read_csv)\n",
        "import seaborn as sns"
      ]
    },
    {
      "cell_type": "markdown",
      "metadata": {
        "id": "_f9LllB4O7TE"
      },
      "source": [
        "# Proses 1 (Input Data Training)"
      ]
    },
    {
      "cell_type": "markdown",
      "metadata": {
        "id": "KXTCRnGZZwcf"
      },
      "source": [
        "dataset ada dalam folder data"
      ]
    },
    {
      "cell_type": "code",
      "execution_count": 2,
      "metadata": {
        "colab": {
          "base_uri": "https://localhost:8080/",
          "height": 206
        },
        "id": "8otNg1t-O7TF",
        "outputId": "267f12c4-f2fa-496d-83e4-f2cdd07c0563",
        "scrolled": false
      },
      "outputs": [
        {
          "output_type": "execute_result",
          "data": {
            "text/plain": [
              "   label                                              tweet\n",
              "0      1  rt @napqilla  no      ambisinya menguasai raky...\n",
              "1      1  rt @pandji  nah gue pikir sentimen petahana ok...\n",
              "2      1  rt @pandji  urutan pertama best moment #debat ...\n",
              "3      1  rt @pandji  ini artikel yg menjelaskan ternyat...\n",
              "4      0  rt @mrtampi  agus makin santai  nahok makin sa..."
            ],
            "text/html": [
              "\n",
              "  <div id=\"df-58447641-87ae-47fd-85d3-49bc6956cdd4\">\n",
              "    <div class=\"colab-df-container\">\n",
              "      <div>\n",
              "<style scoped>\n",
              "    .dataframe tbody tr th:only-of-type {\n",
              "        vertical-align: middle;\n",
              "    }\n",
              "\n",
              "    .dataframe tbody tr th {\n",
              "        vertical-align: top;\n",
              "    }\n",
              "\n",
              "    .dataframe thead th {\n",
              "        text-align: right;\n",
              "    }\n",
              "</style>\n",
              "<table border=\"1\" class=\"dataframe\">\n",
              "  <thead>\n",
              "    <tr style=\"text-align: right;\">\n",
              "      <th></th>\n",
              "      <th>label</th>\n",
              "      <th>tweet</th>\n",
              "    </tr>\n",
              "  </thead>\n",
              "  <tbody>\n",
              "    <tr>\n",
              "      <th>0</th>\n",
              "      <td>1</td>\n",
              "      <td>rt @napqilla  no      ambisinya menguasai raky...</td>\n",
              "    </tr>\n",
              "    <tr>\n",
              "      <th>1</th>\n",
              "      <td>1</td>\n",
              "      <td>rt @pandji  nah gue pikir sentimen petahana ok...</td>\n",
              "    </tr>\n",
              "    <tr>\n",
              "      <th>2</th>\n",
              "      <td>1</td>\n",
              "      <td>rt @pandji  urutan pertama best moment #debat ...</td>\n",
              "    </tr>\n",
              "    <tr>\n",
              "      <th>3</th>\n",
              "      <td>1</td>\n",
              "      <td>rt @pandji  ini artikel yg menjelaskan ternyat...</td>\n",
              "    </tr>\n",
              "    <tr>\n",
              "      <th>4</th>\n",
              "      <td>0</td>\n",
              "      <td>rt @mrtampi  agus makin santai  nahok makin sa...</td>\n",
              "    </tr>\n",
              "  </tbody>\n",
              "</table>\n",
              "</div>\n",
              "      <button class=\"colab-df-convert\" onclick=\"convertToInteractive('df-58447641-87ae-47fd-85d3-49bc6956cdd4')\"\n",
              "              title=\"Convert this dataframe to an interactive table.\"\n",
              "              style=\"display:none;\">\n",
              "        \n",
              "  <svg xmlns=\"http://www.w3.org/2000/svg\" height=\"24px\"viewBox=\"0 0 24 24\"\n",
              "       width=\"24px\">\n",
              "    <path d=\"M0 0h24v24H0V0z\" fill=\"none\"/>\n",
              "    <path d=\"M18.56 5.44l.94 2.06.94-2.06 2.06-.94-2.06-.94-.94-2.06-.94 2.06-2.06.94zm-11 1L8.5 8.5l.94-2.06 2.06-.94-2.06-.94L8.5 2.5l-.94 2.06-2.06.94zm10 10l.94 2.06.94-2.06 2.06-.94-2.06-.94-.94-2.06-.94 2.06-2.06.94z\"/><path d=\"M17.41 7.96l-1.37-1.37c-.4-.4-.92-.59-1.43-.59-.52 0-1.04.2-1.43.59L10.3 9.45l-7.72 7.72c-.78.78-.78 2.05 0 2.83L4 21.41c.39.39.9.59 1.41.59.51 0 1.02-.2 1.41-.59l7.78-7.78 2.81-2.81c.8-.78.8-2.07 0-2.86zM5.41 20L4 18.59l7.72-7.72 1.47 1.35L5.41 20z\"/>\n",
              "  </svg>\n",
              "      </button>\n",
              "      \n",
              "  <style>\n",
              "    .colab-df-container {\n",
              "      display:flex;\n",
              "      flex-wrap:wrap;\n",
              "      gap: 12px;\n",
              "    }\n",
              "\n",
              "    .colab-df-convert {\n",
              "      background-color: #E8F0FE;\n",
              "      border: none;\n",
              "      border-radius: 50%;\n",
              "      cursor: pointer;\n",
              "      display: none;\n",
              "      fill: #1967D2;\n",
              "      height: 32px;\n",
              "      padding: 0 0 0 0;\n",
              "      width: 32px;\n",
              "    }\n",
              "\n",
              "    .colab-df-convert:hover {\n",
              "      background-color: #E2EBFA;\n",
              "      box-shadow: 0px 1px 2px rgba(60, 64, 67, 0.3), 0px 1px 3px 1px rgba(60, 64, 67, 0.15);\n",
              "      fill: #174EA6;\n",
              "    }\n",
              "\n",
              "    [theme=dark] .colab-df-convert {\n",
              "      background-color: #3B4455;\n",
              "      fill: #D2E3FC;\n",
              "    }\n",
              "\n",
              "    [theme=dark] .colab-df-convert:hover {\n",
              "      background-color: #434B5C;\n",
              "      box-shadow: 0px 1px 3px 1px rgba(0, 0, 0, 0.15);\n",
              "      filter: drop-shadow(0px 1px 2px rgba(0, 0, 0, 0.3));\n",
              "      fill: #FFFFFF;\n",
              "    }\n",
              "  </style>\n",
              "\n",
              "      <script>\n",
              "        const buttonEl =\n",
              "          document.querySelector('#df-58447641-87ae-47fd-85d3-49bc6956cdd4 button.colab-df-convert');\n",
              "        buttonEl.style.display =\n",
              "          google.colab.kernel.accessAllowed ? 'block' : 'none';\n",
              "\n",
              "        async function convertToInteractive(key) {\n",
              "          const element = document.querySelector('#df-58447641-87ae-47fd-85d3-49bc6956cdd4');\n",
              "          const dataTable =\n",
              "            await google.colab.kernel.invokeFunction('convertToInteractive',\n",
              "                                                     [key], {});\n",
              "          if (!dataTable) return;\n",
              "\n",
              "          const docLinkHtml = 'Like what you see? Visit the ' +\n",
              "            '<a target=\"_blank\" href=https://colab.research.google.com/notebooks/data_table.ipynb>data table notebook</a>'\n",
              "            + ' to learn more about interactive tables.';\n",
              "          element.innerHTML = '';\n",
              "          dataTable['output_type'] = 'display_data';\n",
              "          await google.colab.output.renderOutput(dataTable, element);\n",
              "          const docLink = document.createElement('div');\n",
              "          docLink.innerHTML = docLinkHtml;\n",
              "          element.appendChild(docLink);\n",
              "        }\n",
              "      </script>\n",
              "    </div>\n",
              "  </div>\n",
              "  "
            ]
          },
          "metadata": {},
          "execution_count": 2
        }
      ],
      "source": [
        "#membaca data training = 1050 data\n",
        "# df = pd.read_csv(r'juli2train.csv')\n",
        "df = pd.read_csv('https://raw.githubusercontent.com/rasyidev/well-known-datasets/main/juli2train.csv')\n",
        "df.head()"
      ]
    },
    {
      "cell_type": "code",
      "execution_count": 3,
      "metadata": {
        "colab": {
          "base_uri": "https://localhost:8080/"
        },
        "id": "mApamD3HO7TG",
        "outputId": "80617501-d944-48f9-b485-7b4b2b9c5aa7"
      },
      "outputs": [
        {
          "output_type": "execute_result",
          "data": {
            "text/plain": [
              "0    1\n",
              "1    1\n",
              "2    1\n",
              "3    1\n",
              "4    0\n",
              "Name: label, dtype: int64"
            ]
          },
          "metadata": {},
          "execution_count": 3
        }
      ],
      "source": [
        "#menampilkan data label\n",
        "y = df['label']\n",
        "y[0:5]\n"
      ]
    },
    {
      "cell_type": "code",
      "execution_count": 4,
      "metadata": {
        "colab": {
          "base_uri": "https://localhost:8080/",
          "height": 297
        },
        "id": "5R9WXDdrO7TH",
        "outputId": "02672a9f-5b24-4fd0-b065-46243fc1700b"
      },
      "outputs": [
        {
          "output_type": "execute_result",
          "data": {
            "text/plain": [
              "<matplotlib.axes._subplots.AxesSubplot at 0x7f41cbb5d550>"
            ]
          },
          "metadata": {},
          "execution_count": 4
        },
        {
          "output_type": "display_data",
          "data": {
            "text/plain": [
              "<Figure size 432x288 with 1 Axes>"
            ],
            "image/png": "[encoded data removed]"
          },
          "metadata": {
            "needs_background": "light"
          }
        }
      ],
      "source": [
        "#menampilkan grafik nilai dari variabel \"label\"\n",
        "sns.countplot(x=\"label\", data=df)"
      ]
    },
    {
      "cell_type": "code",
      "execution_count": 5,
      "metadata": {
        "colab": {
          "base_uri": "https://localhost:8080/"
        },
        "id": "FjO-bYybO7TI",
        "outputId": "a8e58f9d-9135-4f02-ed98-687e6f92a427"
      },
      "outputs": [
        {
          "output_type": "execute_result",
          "data": {
            "text/plain": [
              "0    530\n",
              "1    520\n",
              "Name: label, dtype: int64"
            ]
          },
          "metadata": {},
          "execution_count": 5
        }
      ],
      "source": [
        "#menghitung jumlah data masing-masing label\n",
        "df[\"label\"].value_counts()"
      ]
    },
    {
      "cell_type": "markdown",
      "metadata": {
        "id": "dbyY_-PRO7TK"
      },
      "source": [
        "# Proses 2 (preprocessing, case folding, stopword removal, steming )"
      ]
    },
    {
      "cell_type": "markdown",
      "metadata": {
        "id": "zEmkEvPoO7TL"
      },
      "source": [
        "# Preprocessing"
      ]
    },
    {
      "cell_type": "code",
      "execution_count": 6,
      "metadata": {
        "id": "O2LCCQGOO7TN"
      },
      "outputs": [],
      "source": [
        "import nltk\n",
        "from nltk.corpus import stopwords\n",
        "from nltk.stem import SnowballStemmer\n",
        "import requests\n",
        "import re"
      ]
    },
    {
      "cell_type": "markdown",
      "metadata": {
        "id": "ACYtWuxAy4nU"
      },
      "source": [
        "# 1. Preprocessing Menggunakan Stemming Sastrawi dan Stopwordlist Indonesia"
      ]
    },
    {
      "cell_type": "markdown",
      "metadata": {
        "id": "_wWM5OYeaL3g"
      },
      "source": [
        "stopwordlist ada didalam folder data"
      ]
    },
    {
      "cell_type": "code",
      "execution_count": 7,
      "metadata": {
        "id": "JVbxcvaiO7TO"
      },
      "outputs": [],
      "source": [
        "#simpan kata-kata stopword\n",
        "\n",
        "# f=open('stopwordlist.txt')\n",
        "\n",
        "url = \"https://raw.githubusercontent.com/Wayan123/Sentiment-Analysis/main/stopwordlist.txt\"\n",
        "ina_stopword = requests.get(url).content\n",
        "\n",
        "tempStoplist = []\n",
        "for tempstp in ina_stopword.split():\n",
        "  tempStoplist.append(tempstp)"
      ]
    },
    {
      "cell_type": "code",
      "execution_count": 8,
      "metadata": {
        "colab": {
          "base_uri": "https://localhost:8080/"
        },
        "id": "HvKz6r5qXHD8",
        "outputId": "217be896-b09f-45b1-daae-c36b48c14b6e"
      },
      "outputs": [
        {
          "output_type": "stream",
          "name": "stdout",
          "text": [
            "Collecting sastrawi\n",
            "  Downloading Sastrawi-1.0.1-py2.py3-none-any.whl (209 kB)\n",
            "\u001b[?25l\r\u001b[K     |█▋                              | 10 kB 19.9 MB/s eta 0:00:01\r\u001b[K     |███▏                            | 20 kB 22.8 MB/s eta 0:00:01\r\u001b[K     |████▊                           | 30 kB 10.1 MB/s eta 0:00:01\r\u001b[K     |██████▎                         | 40 kB 9.1 MB/s eta 0:00:01\r\u001b[K     |███████▉                        | 51 kB 4.8 MB/s eta 0:00:01\r\u001b[K     |█████████▍                      | 61 kB 5.6 MB/s eta 0:00:01\r\u001b[K     |███████████                     | 71 kB 5.7 MB/s eta 0:00:01\r\u001b[K     |████████████▌                   | 81 kB 6.3 MB/s eta 0:00:01\r\u001b[K     |██████████████                  | 92 kB 6.7 MB/s eta 0:00:01\r\u001b[K     |███████████████▋                | 102 kB 5.6 MB/s eta 0:00:01\r\u001b[K     |█████████████████▏              | 112 kB 5.6 MB/s eta 0:00:01\r\u001b[K     |██████████████████▊             | 122 kB 5.6 MB/s eta 0:00:01\r\u001b[K     |████████████████████▎           | 133 kB 5.6 MB/s eta 0:00:01\r\u001b[K     |█████████████████████▉          | 143 kB 5.6 MB/s eta 0:00:01\r\u001b[K     |███████████████████████▍        | 153 kB 5.6 MB/s eta 0:00:01\r\u001b[K     |█████████████████████████       | 163 kB 5.6 MB/s eta 0:00:01\r\u001b[K     |██████████████████████████▋     | 174 kB 5.6 MB/s eta 0:00:01\r\u001b[K     |████████████████████████████▏   | 184 kB 5.6 MB/s eta 0:00:01\r\u001b[K     |█████████████████████████████▊  | 194 kB 5.6 MB/s eta 0:00:01\r\u001b[K     |███████████████████████████████▎| 204 kB 5.6 MB/s eta 0:00:01\r\u001b[K     |████████████████████████████████| 209 kB 5.6 MB/s \n",
            "\u001b[?25hInstalling collected packages: sastrawi\n",
            "Successfully installed sastrawi-1.0.1\n"
          ]
        }
      ],
      "source": [
        "!pip install sastrawi"
      ]
    },
    {
      "cell_type": "code",
      "execution_count": 9,
      "metadata": {
        "id": "kbybFUVOXMs0"
      },
      "outputs": [],
      "source": [
        "from Sastrawi.Stemmer.StemmerFactory import StemmerFactory\n",
        "factory = StemmerFactory()\n",
        "stemmer = factory.create_stemmer()"
      ]
    },
    {
      "cell_type": "code",
      "execution_count": 10,
      "metadata": {
        "id": "4_4jtHfYXPl7"
      },
      "outputs": [],
      "source": [
        "TEXT_CLEANING_RE = \"@#=-_\\S+|https?:\\S+http?:\\S|{^A-Za-z}+\" #regex untuk remove punctuation\n",
        "\n",
        "def preprocessing(tweet):\n",
        "  tweet = re.sub(TEXT_CLEANING_RE,'',str(tweet).lower()).strip() #casefolding dan remove punctuation\n",
        "  tokens = []\n",
        "  for token in tweet.split():\n",
        "    if token not in tempStoplist: #jika token tidak di stopword maka simpan\n",
        "      token = stemmer.stem(token) #lakukan stemming\n",
        "      tokens.append(token) \n",
        "  return \" \".join(tokens)"
      ]
    },
    {
      "cell_type": "markdown",
      "metadata": {
        "id": "rqq4x_735IZt"
      },
      "source": [
        "# Mengimplementasikan preprocessing Menggunakan Stemming Sastrawi dan Stopwordlist Indonesia"
      ]
    },
    {
      "cell_type": "code",
      "execution_count": 11,
      "metadata": {
        "id": "94pRUab64nIY",
        "colab": {
          "base_uri": "https://localhost:8080/"
        },
        "outputId": "73494140-fc40-4bd9-8b78-cf34803bc7ad"
      },
      "outputs": [
        {
          "output_type": "stream",
          "name": "stdout",
          "text": [
            "CPU times: user 4min 46s, sys: 1.48 s, total: 4min 48s\n",
            "Wall time: 4min 57s\n"
          ]
        }
      ],
      "source": [
        "# Mengimplementasikan preprocessing Menggunakan Stemming Sastrawi dan Stopwordlist Indonesia\n",
        "# -+ 10 Menit\n",
        "%%time\n",
        "\n",
        "df['clean_twt'] = df.tweet.apply(lambda x: preprocessing(x))\n",
        "df['clean_twt'] = df.clean_twt.str.replace('rt', '')\n",
        "df.head()\n",
        "\n",
        "# HABIS INI LANGSUNG RUN KE PROSES 3 YAITU \"Modeling dengan Metode Logistic Regression\""
      ]
    },
    {
      "cell_type": "markdown",
      "metadata": {
        "id": "yBVsrCfI2eGi"
      },
      "source": [
        "Nahh, disini dalam proses preprocessing memakan waktu yang lama, yaitu sekitar 5 menit. \n",
        "\n",
        "HABIS INI LANGSUNG RUN KE PROSES 3 YAITU \"Modeling dengan Metode Logistic Regression\""
      ]
    },
    {
      "cell_type": "markdown",
      "metadata": {
        "id": "jG70D55k3cO6"
      },
      "source": [
        "# 2. Preprocessing Menggunakan Stemming English dan Stopwordlist English"
      ]
    },
    {
      "cell_type": "code",
      "execution_count": 12,
      "metadata": {
        "id": "mbDYBRAJ32DS",
        "colab": {
          "base_uri": "https://localhost:8080/"
        },
        "outputId": "92814ebf-cb7a-4c19-fe9e-f0ec3dce9605"
      },
      "outputs": [
        {
          "output_type": "stream",
          "name": "stdout",
          "text": [
            "[nltk_data] Downloading package stopwords to /root/nltk_data...\n",
            "[nltk_data]   Unzipping corpora/stopwords.zip.\n"
          ]
        }
      ],
      "source": [
        "nltk.download('stopwords')\n",
        "\n",
        "stop_words = stopwords.words(\"english\")\n",
        "stemmer = SnowballStemmer(\"english\")"
      ]
    },
    {
      "cell_type": "code",
      "execution_count": 13,
      "metadata": {
        "id": "tONl1k0937_t"
      },
      "outputs": [],
      "source": [
        "#preprocessing, case folding, stopword removal, steming\n",
        "\n",
        "TEXT_CLEANING_RE = \"@#=-_\\S+|https?:\\S+http?:\\S|{^A-Za-z}+\"\n",
        "def preprocess(tweet, stem=False): \n",
        "    #Remove link,user and special characters\n",
        "    tweet = re.sub(TEXT_CLEANING_RE,'',str(tweet).lower()).strip()\n",
        "    tokens = []\n",
        "    for token in tweet.split():\n",
        "        if token not in stop_words:\n",
        "            if stem:\n",
        "                tokens.append(stemmer.stem(token))\n",
        "            else:\n",
        "                  tokens.append(token)\n",
        "    return \" \".join(tokens)"
      ]
    },
    {
      "cell_type": "markdown",
      "metadata": {
        "id": "BwmbHQ485NMU"
      },
      "source": [
        "Mengimplementasikan preprocessing dengan Menggunakan Stemming English dan Stopwordlist English"
      ]
    },
    {
      "cell_type": "code",
      "execution_count": 14,
      "metadata": {
        "id": "7mANTSnpO7TP",
        "colab": {
          "base_uri": "https://localhost:8080/"
        },
        "outputId": "5d62f331-e6f9-4bdf-ae61-853022467e85"
      },
      "outputs": [
        {
          "output_type": "stream",
          "name": "stdout",
          "text": [
            "CPU times: user 65.2 ms, sys: 996 µs, total: 66.2 ms\n",
            "Wall time: 65.8 ms\n"
          ]
        }
      ],
      "source": [
        "# Mengimplementasikan preprocessing dengan Menggunakan Stemming English dan Stopwordlist English\n",
        "%%time\n",
        "\n",
        "df['clean_twt'] = df.tweet.apply(lambda x: preprocess(x))\n",
        "df['clean_twt'] = df.clean_twt.str.replace('rt', '')\n",
        "df.head()"
      ]
    },
    {
      "cell_type": "code",
      "execution_count": 15,
      "metadata": {
        "id": "zsEa26ZXHxC1",
        "colab": {
          "base_uri": "https://localhost:8080/",
          "height": 206
        },
        "outputId": "45065474-567e-4e3d-a9f4-018c33b94c13"
      },
      "outputs": [
        {
          "output_type": "execute_result",
          "data": {
            "text/plain": [
              "   label                                              tweet  \\\n",
              "0      1  rt @napqilla  no      ambisinya menguasai raky...   \n",
              "1      1  rt @pandji  nah gue pikir sentimen petahana ok...   \n",
              "2      1  rt @pandji  urutan pertama best moment #debat ...   \n",
              "3      1  rt @pandji  ini artikel yg menjelaskan ternyat...   \n",
              "4      0  rt @mrtampi  agus makin santai  nahok makin sa...   \n",
              "\n",
              "                                           clean_twt  \n",
              "0   @napqilla ambisinya menguasai rakyat ambisiny...  \n",
              "1   @pandji nah gue pikir sentimen petahana oke d...  \n",
              "2   @pandji urutan peama best moment #debat pilka...  \n",
              "3   @pandji ini aikel yg menjelaskan ternyata di ...  \n",
              "4   @mampi agus makin santai nahok makin santun n...  "
            ],
            "text/html": [
              "\n",
              "  <div id=\"df-ed7fe959-9092-4a9a-88ba-8369bc5783c7\">\n",
              "    <div class=\"colab-df-container\">\n",
              "      <div>\n",
              "<style scoped>\n",
              "    .dataframe tbody tr th:only-of-type {\n",
              "        vertical-align: middle;\n",
              "    }\n",
              "\n",
              "    .dataframe tbody tr th {\n",
              "        vertical-align: top;\n",
              "    }\n",
              "\n",
              "    .dataframe thead th {\n",
              "        text-align: right;\n",
              "    }\n",
              "</style>\n",
              "<table border=\"1\" class=\"dataframe\">\n",
              "  <thead>\n",
              "    <tr style=\"text-align: right;\">\n",
              "      <th></th>\n",
              "      <th>label</th>\n",
              "      <th>tweet</th>\n",
              "      <th>clean_twt</th>\n",
              "    </tr>\n",
              "  </thead>\n",
              "  <tbody>\n",
              "    <tr>\n",
              "      <th>0</th>\n",
              "      <td>1</td>\n",
              "      <td>rt @napqilla  no      ambisinya menguasai raky...</td>\n",
              "      <td>@napqilla ambisinya menguasai rakyat ambisiny...</td>\n",
              "    </tr>\n",
              "    <tr>\n",
              "      <th>1</th>\n",
              "      <td>1</td>\n",
              "      <td>rt @pandji  nah gue pikir sentimen petahana ok...</td>\n",
              "      <td>@pandji nah gue pikir sentimen petahana oke d...</td>\n",
              "    </tr>\n",
              "    <tr>\n",
              "      <th>2</th>\n",
              "      <td>1</td>\n",
              "      <td>rt @pandji  urutan pertama best moment #debat ...</td>\n",
              "      <td>@pandji urutan peama best moment #debat pilka...</td>\n",
              "    </tr>\n",
              "    <tr>\n",
              "      <th>3</th>\n",
              "      <td>1</td>\n",
              "      <td>rt @pandji  ini artikel yg menjelaskan ternyat...</td>\n",
              "      <td>@pandji ini aikel yg menjelaskan ternyata di ...</td>\n",
              "    </tr>\n",
              "    <tr>\n",
              "      <th>4</th>\n",
              "      <td>0</td>\n",
              "      <td>rt @mrtampi  agus makin santai  nahok makin sa...</td>\n",
              "      <td>@mampi agus makin santai nahok makin santun n...</td>\n",
              "    </tr>\n",
              "  </tbody>\n",
              "</table>\n",
              "</div>\n",
              "      <button class=\"colab-df-convert\" onclick=\"convertToInteractive('df-ed7fe959-9092-4a9a-88ba-8369bc5783c7')\"\n",
              "              title=\"Convert this dataframe to an interactive table.\"\n",
              "              style=\"display:none;\">\n",
              "        \n",
              "  <svg xmlns=\"http://www.w3.org/2000/svg\" height=\"24px\"viewBox=\"0 0 24 24\"\n",
              "       width=\"24px\">\n",
              "    <path d=\"M0 0h24v24H0V0z\" fill=\"none\"/>\n",
              "    <path d=\"M18.56 5.44l.94 2.06.94-2.06 2.06-.94-2.06-.94-.94-2.06-.94 2.06-2.06.94zm-11 1L8.5 8.5l.94-2.06 2.06-.94-2.06-.94L8.5 2.5l-.94 2.06-2.06.94zm10 10l.94 2.06.94-2.06 2.06-.94-2.06-.94-.94-2.06-.94 2.06-2.06.94z\"/><path d=\"M17.41 7.96l-1.37-1.37c-.4-.4-.92-.59-1.43-.59-.52 0-1.04.2-1.43.59L10.3 9.45l-7.72 7.72c-.78.78-.78 2.05 0 2.83L4 21.41c.39.39.9.59 1.41.59.51 0 1.02-.2 1.41-.59l7.78-7.78 2.81-2.81c.8-.78.8-2.07 0-2.86zM5.41 20L4 18.59l7.72-7.72 1.47 1.35L5.41 20z\"/>\n",
              "  </svg>\n",
              "      </button>\n",
              "      \n",
              "  <style>\n",
              "    .colab-df-container {\n",
              "      display:flex;\n",
              "      flex-wrap:wrap;\n",
              "      gap: 12px;\n",
              "    }\n",
              "\n",
              "    .colab-df-convert {\n",
              "      background-color: #E8F0FE;\n",
              "      border: none;\n",
              "      border-radius: 50%;\n",
              "      cursor: pointer;\n",
              "      display: none;\n",
              "      fill: #1967D2;\n",
              "      height: 32px;\n",
              "      padding: 0 0 0 0;\n",
              "      width: 32px;\n",
              "    }\n",
              "\n",
              "    .colab-df-convert:hover {\n",
              "      background-color: #E2EBFA;\n",
              "      box-shadow: 0px 1px 2px rgba(60, 64, 67, 0.3), 0px 1px 3px 1px rgba(60, 64, 67, 0.15);\n",
              "      fill: #174EA6;\n",
              "    }\n",
              "\n",
              "    [theme=dark] .colab-df-convert {\n",
              "      background-color: #3B4455;\n",
              "      fill: #D2E3FC;\n",
              "    }\n",
              "\n",
              "    [theme=dark] .colab-df-convert:hover {\n",
              "      background-color: #434B5C;\n",
              "      box-shadow: 0px 1px 3px 1px rgba(0, 0, 0, 0.15);\n",
              "      filter: drop-shadow(0px 1px 2px rgba(0, 0, 0, 0.3));\n",
              "      fill: #FFFFFF;\n",
              "    }\n",
              "  </style>\n",
              "\n",
              "      <script>\n",
              "        const buttonEl =\n",
              "          document.querySelector('#df-ed7fe959-9092-4a9a-88ba-8369bc5783c7 button.colab-df-convert');\n",
              "        buttonEl.style.display =\n",
              "          google.colab.kernel.accessAllowed ? 'block' : 'none';\n",
              "\n",
              "        async function convertToInteractive(key) {\n",
              "          const element = document.querySelector('#df-ed7fe959-9092-4a9a-88ba-8369bc5783c7');\n",
              "          const dataTable =\n",
              "            await google.colab.kernel.invokeFunction('convertToInteractive',\n",
              "                                                     [key], {});\n",
              "          if (!dataTable) return;\n",
              "\n",
              "          const docLinkHtml = 'Like what you see? Visit the ' +\n",
              "            '<a target=\"_blank\" href=https://colab.research.google.com/notebooks/data_table.ipynb>data table notebook</a>'\n",
              "            + ' to learn more about interactive tables.';\n",
              "          element.innerHTML = '';\n",
              "          dataTable['output_type'] = 'display_data';\n",
              "          await google.colab.output.renderOutput(dataTable, element);\n",
              "          const docLink = document.createElement('div');\n",
              "          docLink.innerHTML = docLinkHtml;\n",
              "          element.appendChild(docLink);\n",
              "        }\n",
              "      </script>\n",
              "    </div>\n",
              "  </div>\n",
              "  "
            ]
          },
          "metadata": {},
          "execution_count": 15
        }
      ],
      "source": [
        "df.head()"
      ]
    },
    {
      "cell_type": "markdown",
      "metadata": {
        "id": "EqiF5fZE2s7E"
      },
      "source": [
        "Dan, disini dengan menggunakan stopwords bahasa Inggris waktu preprocessing tidak memakan waktu lama."
      ]
    },
    {
      "cell_type": "markdown",
      "metadata": {
        "id": "QYSRT6QQO7TQ"
      },
      "source": [
        "# Proses 3 (Modeling dengan Metode Logistic Regression)"
      ]
    },
    {
      "cell_type": "markdown",
      "metadata": {
        "id": "seC-HU67O7TQ"
      },
      "source": [
        "# Logistic Regression"
      ]
    },
    {
      "cell_type": "code",
      "execution_count": 16,
      "metadata": {
        "id": "OuebVpJnO7TQ",
        "colab": {
          "base_uri": "https://localhost:8080/"
        },
        "outputId": "92c0bfd5-4860-4fd2-cfb1-feb9de49d8c7"
      },
      "outputs": [
        {
          "output_type": "stream",
          "name": "stdout",
          "text": [
            "CPU times: user 76.5 ms, sys: 5.01 ms, total: 81.5 ms\n",
            "Wall time: 88.5 ms\n"
          ]
        }
      ],
      "source": [
        "#melakukan pemodelan prediksi\n",
        "\n",
        "%%time\n",
        "\n",
        "from sklearn.feature_extraction.text import TfidfVectorizer\n",
        "from sklearn.linear_model import LogisticRegression\n",
        "from sklearn.model_selection import train_test_split\n",
        "from sklearn.metrics import f1_score, log_loss\n",
        "\n",
        "#membangun vector space model/pembobotan dengan tfidf\n",
        "vectorizer = TfidfVectorizer(ngram_range=(1,3), min_df=10)\n",
        "features = vectorizer.fit_transform(df.clean_twt)\n",
        "\n",
        "#melakukan split data training untuk mengetahui akurasi\n",
        "X_train, X_test, y_train, y_test = train_test_split(features, y, test_size=0.2, random_state=4)\n",
        "\n",
        "#modeling sentiment\n",
        "LR_ = LogisticRegression(C=3, solver='liblinear', max_iter=150).fit(X_train, y_train)\n",
        "\n"
      ]
    },
    {
      "cell_type": "code",
      "execution_count": 17,
      "metadata": {
        "id": "68ubY65irhna",
        "colab": {
          "base_uri": "https://localhost:8080/"
        },
        "outputId": "3e040316-e45b-4cd5-ec0f-b68969907b52"
      },
      "outputs": [
        {
          "output_type": "execute_result",
          "data": {
            "text/plain": [
              "<1050x818 sparse matrix of type '<class 'numpy.float64'>'\n",
              "\twith 18952 stored elements in Compressed Sparse Row format>"
            ]
          },
          "metadata": {},
          "execution_count": 17
        }
      ],
      "source": [
        "features"
      ]
    },
    {
      "cell_type": "markdown",
      "metadata": {
        "id": "AGLDsjlxO7TR"
      },
      "source": [
        "# Proses 4 (Evaluation)"
      ]
    },
    {
      "cell_type": "markdown",
      "metadata": {
        "id": "oWJJY9feO7TR"
      },
      "source": [
        "# Evaluation"
      ]
    },
    {
      "cell_type": "code",
      "execution_count": 18,
      "metadata": {
        "id": "90yiG_1YO7TS",
        "colab": {
          "base_uri": "https://localhost:8080/"
        },
        "outputId": "41640309-5a02-4c6b-e2ee-378d73d67b9f"
      },
      "outputs": [
        {
          "output_type": "stream",
          "name": "stdout",
          "text": [
            "F1 score :  0.7667789001122335\n",
            "Log Loss :  0.4930080660414875\n"
          ]
        }
      ],
      "source": [
        "#melakukan evaluasi\n",
        "yhat = LR_.predict(X_test)\n",
        "print('F1 score : ', f1_score(y_test, yhat, average='weighted'))\n",
        "\n",
        "yhat_prob = LR_.predict_proba(X_test)\n",
        "print ('Log Loss : ', log_loss(y_test, yhat_prob))"
      ]
    },
    {
      "cell_type": "markdown",
      "metadata": {
        "id": "DZkcLp5UO7TS"
      },
      "source": [
        "# Proses 5 (End Process : Prediction of Data Testing)"
      ]
    },
    {
      "cell_type": "markdown",
      "metadata": {
        "id": "SPzIk_d7Eefo"
      },
      "source": [
        "# Testing Prediksi"
      ]
    },
    {
      "cell_type": "markdown",
      "metadata": {
        "id": "_v16ETW1O7TT"
      },
      "source": [
        "# Prediction"
      ]
    },
    {
      "cell_type": "code",
      "execution_count": 19,
      "metadata": {
        "id": "ajObEu5XO7TT",
        "colab": {
          "base_uri": "https://localhost:8080/",
          "height": 206
        },
        "outputId": "154dfcdc-94c5-4b69-be02-39a2dee94e5b"
      },
      "outputs": [
        {
          "output_type": "execute_result",
          "data": {
            "text/plain": [
              "                                               tweet\n",
              "0    soal quran  polisi harus cari saksi yang den...\n",
              "1    wajar  rachmawati tersinggung megawati bawa ...\n",
              "2    rt @l   n  chirpified  mengapa anies b  gaga...\n",
              "3    rt @sibonekakayu  kegaduhan yg diciptakan ah...\n",
              "4    vivacoid  ini video saat nusron wahid kritik..."
            ],
            "text/html": [
              "\n",
              "  <div id=\"df-3482e2e5-72e9-4f3b-a1d1-f07e5fa436d9\">\n",
              "    <div class=\"colab-df-container\">\n",
              "      <div>\n",
              "<style scoped>\n",
              "    .dataframe tbody tr th:only-of-type {\n",
              "        vertical-align: middle;\n",
              "    }\n",
              "\n",
              "    .dataframe tbody tr th {\n",
              "        vertical-align: top;\n",
              "    }\n",
              "\n",
              "    .dataframe thead th {\n",
              "        text-align: right;\n",
              "    }\n",
              "</style>\n",
              "<table border=\"1\" class=\"dataframe\">\n",
              "  <thead>\n",
              "    <tr style=\"text-align: right;\">\n",
              "      <th></th>\n",
              "      <th>tweet</th>\n",
              "    </tr>\n",
              "  </thead>\n",
              "  <tbody>\n",
              "    <tr>\n",
              "      <th>0</th>\n",
              "      <td>soal quran  polisi harus cari saksi yang den...</td>\n",
              "    </tr>\n",
              "    <tr>\n",
              "      <th>1</th>\n",
              "      <td>wajar  rachmawati tersinggung megawati bawa ...</td>\n",
              "    </tr>\n",
              "    <tr>\n",
              "      <th>2</th>\n",
              "      <td>rt @l   n  chirpified  mengapa anies b  gaga...</td>\n",
              "    </tr>\n",
              "    <tr>\n",
              "      <th>3</th>\n",
              "      <td>rt @sibonekakayu  kegaduhan yg diciptakan ah...</td>\n",
              "    </tr>\n",
              "    <tr>\n",
              "      <th>4</th>\n",
              "      <td>vivacoid  ini video saat nusron wahid kritik...</td>\n",
              "    </tr>\n",
              "  </tbody>\n",
              "</table>\n",
              "</div>\n",
              "      <button class=\"colab-df-convert\" onclick=\"convertToInteractive('df-3482e2e5-72e9-4f3b-a1d1-f07e5fa436d9')\"\n",
              "              title=\"Convert this dataframe to an interactive table.\"\n",
              "              style=\"display:none;\">\n",
              "        \n",
              "  <svg xmlns=\"http://www.w3.org/2000/svg\" height=\"24px\"viewBox=\"0 0 24 24\"\n",
              "       width=\"24px\">\n",
              "    <path d=\"M0 0h24v24H0V0z\" fill=\"none\"/>\n",
              "    <path d=\"M18.56 5.44l.94 2.06.94-2.06 2.06-.94-2.06-.94-.94-2.06-.94 2.06-2.06.94zm-11 1L8.5 8.5l.94-2.06 2.06-.94-2.06-.94L8.5 2.5l-.94 2.06-2.06.94zm10 10l.94 2.06.94-2.06 2.06-.94-2.06-.94-.94-2.06-.94 2.06-2.06.94z\"/><path d=\"M17.41 7.96l-1.37-1.37c-.4-.4-.92-.59-1.43-.59-.52 0-1.04.2-1.43.59L10.3 9.45l-7.72 7.72c-.78.78-.78 2.05 0 2.83L4 21.41c.39.39.9.59 1.41.59.51 0 1.02-.2 1.41-.59l7.78-7.78 2.81-2.81c.8-.78.8-2.07 0-2.86zM5.41 20L4 18.59l7.72-7.72 1.47 1.35L5.41 20z\"/>\n",
              "  </svg>\n",
              "      </button>\n",
              "      \n",
              "  <style>\n",
              "    .colab-df-container {\n",
              "      display:flex;\n",
              "      flex-wrap:wrap;\n",
              "      gap: 12px;\n",
              "    }\n",
              "\n",
              "    .colab-df-convert {\n",
              "      background-color: #E8F0FE;\n",
              "      border: none;\n",
              "      border-radius: 50%;\n",
              "      cursor: pointer;\n",
              "      display: none;\n",
              "      fill: #1967D2;\n",
              "      height: 32px;\n",
              "      padding: 0 0 0 0;\n",
              "      width: 32px;\n",
              "    }\n",
              "\n",
              "    .colab-df-convert:hover {\n",
              "      background-color: #E2EBFA;\n",
              "      box-shadow: 0px 1px 2px rgba(60, 64, 67, 0.3), 0px 1px 3px 1px rgba(60, 64, 67, 0.15);\n",
              "      fill: #174EA6;\n",
              "    }\n",
              "\n",
              "    [theme=dark] .colab-df-convert {\n",
              "      background-color: #3B4455;\n",
              "      fill: #D2E3FC;\n",
              "    }\n",
              "\n",
              "    [theme=dark] .colab-df-convert:hover {\n",
              "      background-color: #434B5C;\n",
              "      box-shadow: 0px 1px 3px 1px rgba(0, 0, 0, 0.15);\n",
              "      filter: drop-shadow(0px 1px 2px rgba(0, 0, 0, 0.3));\n",
              "      fill: #FFFFFF;\n",
              "    }\n",
              "  </style>\n",
              "\n",
              "      <script>\n",
              "        const buttonEl =\n",
              "          document.querySelector('#df-3482e2e5-72e9-4f3b-a1d1-f07e5fa436d9 button.colab-df-convert');\n",
              "        buttonEl.style.display =\n",
              "          google.colab.kernel.accessAllowed ? 'block' : 'none';\n",
              "\n",
              "        async function convertToInteractive(key) {\n",
              "          const element = document.querySelector('#df-3482e2e5-72e9-4f3b-a1d1-f07e5fa436d9');\n",
              "          const dataTable =\n",
              "            await google.colab.kernel.invokeFunction('convertToInteractive',\n",
              "                                                     [key], {});\n",
              "          if (!dataTable) return;\n",
              "\n",
              "          const docLinkHtml = 'Like what you see? Visit the ' +\n",
              "            '<a target=\"_blank\" href=https://colab.research.google.com/notebooks/data_table.ipynb>data table notebook</a>'\n",
              "            + ' to learn more about interactive tables.';\n",
              "          element.innerHTML = '';\n",
              "          dataTable['output_type'] = 'display_data';\n",
              "          await google.colab.output.renderOutput(dataTable, element);\n",
              "          const docLink = document.createElement('div');\n",
              "          docLink.innerHTML = docLinkHtml;\n",
              "          element.appendChild(docLink);\n",
              "        }\n",
              "      </script>\n",
              "    </div>\n",
              "  </div>\n",
              "  "
            ]
          },
          "metadata": {},
          "execution_count": 19
        }
      ],
      "source": [
        "#melakukan prediksi untuk data yang tidak diketahui labelnya\n",
        "\n",
        "#lakukan preprocessing untuk data yang tidak diketahui labelnya\n",
        "# df_test = pd.read_csv('juli2test.csv')\n",
        "df_test = pd.read_csv(r'https://raw.githubusercontent.com/rasyidev/well-known-datasets/main/juli2test.csv')\n",
        "df_test.head()"
      ]
    },
    {
      "cell_type": "code",
      "execution_count": 20,
      "metadata": {
        "id": "9VKIjhCsO7TU",
        "scrolled": false,
        "colab": {
          "base_uri": "https://localhost:8080/"
        },
        "outputId": "43afb8b8-4640-4f8c-d70a-31dbcebe27fd"
      },
      "outputs": [
        {
          "output_type": "stream",
          "name": "stdout",
          "text": [
            "CPU times: user 285 ms, sys: 3.01 ms, total: 288 ms\n",
            "Wall time: 290 ms\n"
          ]
        }
      ],
      "source": [
        "#casefolding, filtering, steming data yang tidak diketahui labelnya\n",
        "\n",
        "# 1. Ganti PROCESSING jika pakai stopword Indonesia\n",
        "# 2. Ganti PROCESS jika pakai stopword English\n",
        "\n",
        "%%time\n",
        "\n",
        "df_test['clean_twt'] = df_test.tweet.apply(lambda x: preprocessing(x))\n",
        "df_test['clean_twt'] = df_test.clean_twt.str.replace('rt','')\n",
        "df_test.head()"
      ]
    },
    {
      "cell_type": "code",
      "execution_count": 21,
      "metadata": {
        "id": "WRxllaKMO7TU"
      },
      "outputs": [],
      "source": [
        "#pembobotan data yang tidak diketahui labelnya\n",
        "#vector_test = TfidfVectorizer(ngram_range=(1,3), min df=10)\n",
        "#feature_test = vector_test.fit_transform(df_test.clean_twt)"
      ]
    },
    {
      "cell_type": "code",
      "execution_count": 22,
      "metadata": {
        "id": "J2c5pfvIO7TV"
      },
      "outputs": [],
      "source": [
        "#melakukan training\n",
        "def training_step(data, vectorizer) :\n",
        "    features = vectorizer.fit_transform(df.clean_twt)\n",
        "    LR_ = LogisticRegression(C = 3, solver='liblinear', max_iter=150).fit(features,y)\n",
        "    return LR_\n",
        "\n",
        "#melakukan testing\n",
        "classifier = training_step(df.clean_twt, vectorizer)\n",
        "result = classifier.predict(vectorizer.transform(df_test.clean_twt))\n",
        "\n",
        "#result"
      ]
    },
    {
      "cell_type": "code",
      "execution_count": 23,
      "metadata": {
        "id": "31wMJYvMO7TV"
      },
      "outputs": [],
      "source": [
        "#simpan hasil\n",
        "np.savetxt('hasil_prediksi_juli.txt', result, fmt='%i', delimiter='\\n')"
      ]
    },
    {
      "cell_type": "code",
      "execution_count": 24,
      "metadata": {
        "id": "d7icCSqcO7TV",
        "colab": {
          "base_uri": "https://localhost:8080/",
          "height": 206
        },
        "outputId": "64f1c4a7-7b0e-4c10-e014-2c1757bff488"
      },
      "outputs": [
        {
          "output_type": "execute_result",
          "data": {
            "text/plain": [
              "   1\n",
              "0  1\n",
              "1  0\n",
              "2  1\n",
              "3  0\n",
              "4  1"
            ],
            "text/html": [
              "\n",
              "  <div id=\"df-6d15f0e6-4a32-4682-8dc1-72f3c45981e2\">\n",
              "    <div class=\"colab-df-container\">\n",
              "      <div>\n",
              "<style scoped>\n",
              "    .dataframe tbody tr th:only-of-type {\n",
              "        vertical-align: middle;\n",
              "    }\n",
              "\n",
              "    .dataframe tbody tr th {\n",
              "        vertical-align: top;\n",
              "    }\n",
              "\n",
              "    .dataframe thead th {\n",
              "        text-align: right;\n",
              "    }\n",
              "</style>\n",
              "<table border=\"1\" class=\"dataframe\">\n",
              "  <thead>\n",
              "    <tr style=\"text-align: right;\">\n",
              "      <th></th>\n",
              "      <th>1</th>\n",
              "    </tr>\n",
              "  </thead>\n",
              "  <tbody>\n",
              "    <tr>\n",
              "      <th>0</th>\n",
              "      <td>1</td>\n",
              "    </tr>\n",
              "    <tr>\n",
              "      <th>1</th>\n",
              "      <td>0</td>\n",
              "    </tr>\n",
              "    <tr>\n",
              "      <th>2</th>\n",
              "      <td>1</td>\n",
              "    </tr>\n",
              "    <tr>\n",
              "      <th>3</th>\n",
              "      <td>0</td>\n",
              "    </tr>\n",
              "    <tr>\n",
              "      <th>4</th>\n",
              "      <td>1</td>\n",
              "    </tr>\n",
              "  </tbody>\n",
              "</table>\n",
              "</div>\n",
              "      <button class=\"colab-df-convert\" onclick=\"convertToInteractive('df-6d15f0e6-4a32-4682-8dc1-72f3c45981e2')\"\n",
              "              title=\"Convert this dataframe to an interactive table.\"\n",
              "              style=\"display:none;\">\n",
              "        \n",
              "  <svg xmlns=\"http://www.w3.org/2000/svg\" height=\"24px\"viewBox=\"0 0 24 24\"\n",
              "       width=\"24px\">\n",
              "    <path d=\"M0 0h24v24H0V0z\" fill=\"none\"/>\n",
              "    <path d=\"M18.56 5.44l.94 2.06.94-2.06 2.06-.94-2.06-.94-.94-2.06-.94 2.06-2.06.94zm-11 1L8.5 8.5l.94-2.06 2.06-.94-2.06-.94L8.5 2.5l-.94 2.06-2.06.94zm10 10l.94 2.06.94-2.06 2.06-.94-2.06-.94-.94-2.06-.94 2.06-2.06.94z\"/><path d=\"M17.41 7.96l-1.37-1.37c-.4-.4-.92-.59-1.43-.59-.52 0-1.04.2-1.43.59L10.3 9.45l-7.72 7.72c-.78.78-.78 2.05 0 2.83L4 21.41c.39.39.9.59 1.41.59.51 0 1.02-.2 1.41-.59l7.78-7.78 2.81-2.81c.8-.78.8-2.07 0-2.86zM5.41 20L4 18.59l7.72-7.72 1.47 1.35L5.41 20z\"/>\n",
              "  </svg>\n",
              "      </button>\n",
              "      \n",
              "  <style>\n",
              "    .colab-df-container {\n",
              "      display:flex;\n",
              "      flex-wrap:wrap;\n",
              "      gap: 12px;\n",
              "    }\n",
              "\n",
              "    .colab-df-convert {\n",
              "      background-color: #E8F0FE;\n",
              "      border: none;\n",
              "      border-radius: 50%;\n",
              "      cursor: pointer;\n",
              "      display: none;\n",
              "      fill: #1967D2;\n",
              "      height: 32px;\n",
              "      padding: 0 0 0 0;\n",
              "      width: 32px;\n",
              "    }\n",
              "\n",
              "    .colab-df-convert:hover {\n",
              "      background-color: #E2EBFA;\n",
              "      box-shadow: 0px 1px 2px rgba(60, 64, 67, 0.3), 0px 1px 3px 1px rgba(60, 64, 67, 0.15);\n",
              "      fill: #174EA6;\n",
              "    }\n",
              "\n",
              "    [theme=dark] .colab-df-convert {\n",
              "      background-color: #3B4455;\n",
              "      fill: #D2E3FC;\n",
              "    }\n",
              "\n",
              "    [theme=dark] .colab-df-convert:hover {\n",
              "      background-color: #434B5C;\n",
              "      box-shadow: 0px 1px 3px 1px rgba(0, 0, 0, 0.15);\n",
              "      filter: drop-shadow(0px 1px 2px rgba(0, 0, 0, 0.3));\n",
              "      fill: #FFFFFF;\n",
              "    }\n",
              "  </style>\n",
              "\n",
              "      <script>\n",
              "        const buttonEl =\n",
              "          document.querySelector('#df-6d15f0e6-4a32-4682-8dc1-72f3c45981e2 button.colab-df-convert');\n",
              "        buttonEl.style.display =\n",
              "          google.colab.kernel.accessAllowed ? 'block' : 'none';\n",
              "\n",
              "        async function convertToInteractive(key) {\n",
              "          const element = document.querySelector('#df-6d15f0e6-4a32-4682-8dc1-72f3c45981e2');\n",
              "          const dataTable =\n",
              "            await google.colab.kernel.invokeFunction('convertToInteractive',\n",
              "                                                     [key], {});\n",
              "          if (!dataTable) return;\n",
              "\n",
              "          const docLinkHtml = 'Like what you see? Visit the ' +\n",
              "            '<a target=\"_blank\" href=https://colab.research.google.com/notebooks/data_table.ipynb>data table notebook</a>'\n",
              "            + ' to learn more about interactive tables.';\n",
              "          element.innerHTML = '';\n",
              "          dataTable['output_type'] = 'display_data';\n",
              "          await google.colab.output.renderOutput(dataTable, element);\n",
              "          const docLink = document.createElement('div');\n",
              "          docLink.innerHTML = docLinkHtml;\n",
              "          element.appendChild(docLink);\n",
              "        }\n",
              "      </script>\n",
              "    </div>\n",
              "  </div>\n",
              "  "
            ]
          },
          "metadata": {},
          "execution_count": 24
        }
      ],
      "source": [
        "df_hasil = pd.read_csv(r'hasil_prediksi_juli.txt')\n",
        "df_hasil.head()"
      ]
    },
    {
      "cell_type": "code",
      "execution_count": 25,
      "metadata": {
        "id": "gCVG7-AprMqZ"
      },
      "outputs": [],
      "source": [
        "def prediksi_komentar(comment):\n",
        "  result = classifier.predict(vectorizer.transform([comment]))\n",
        "  if result == 1:\n",
        "    return \"Positif\"\n",
        "  else:\n",
        "    return \"Negatif\""
      ]
    },
    {
      "cell_type": "code",
      "execution_count": 26,
      "metadata": {
        "colab": {
          "base_uri": "https://localhost:8080/",
          "height": 36
        },
        "outputId": "3cf64d00-ca25-4f13-c579-249e2aa10f73",
        "id": "cFSULpiLd_J5"
      },
      "outputs": [
        {
          "output_type": "execute_result",
          "data": {
            "text/plain": [
              "'Positif'"
            ],
            "application/vnd.google.colaboratory.intrinsic+json": {
              "type": "string"
            }
          },
          "metadata": {},
          "execution_count": 26
        }
      ],
      "source": [
        "prediksi_komentar('wah Giel kesayangan Daud nih')"
      ]
    }
  ],
  "metadata": {
    "colab": {
      "collapsed_sections": [],
      "name": "Sentimen_Analisis_Python.ipynb",
      "provenance": [],
      "include_colab_link": true
    },
    "kernelspec": {
      "display_name": "Python 3",
      "language": "python",
      "name": "python3"
    },
    "language_info": {
      "codemirror_mode": {
        "name": "ipython",
        "version": 3
      },
      "file_extension": ".py",
      "mimetype": "text/x-python",
      "name": "python",
      "nbconvert_exporter": "python",
      "pygments_lexer": "ipython3",
      "version": "3.8.8"
    },
    "accelerator": "GPU"
  },
  "nbformat": 4,
  "nbformat_minor": 0
}